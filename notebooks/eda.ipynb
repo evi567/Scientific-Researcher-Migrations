{
 "cells": [
  {
   "cell_type": "markdown",
   "id": "ceccdec4",
   "metadata": {},
   "source": [
    "# Análisis Exploratorio: Migraciones de Investigadores Científicos 🔬🌍\n",
    "\n",
    "## Contexto\n",
    "\n",
    "Este notebook analiza los patrones de migración de investigadores científicos a nivel global, identificando:\n",
    "\n",
    "- **Países atractores vs. emisores** de talento científico\n",
    "- **Corredores migratorios principales** (rutas más frecuentes)\n",
    "- **Saldo neto de brain gain/brain drain** por país\n",
    "- **Relación con desarrollo socioeconómico** (PIB per cápita, gasto I+D)\n",
    "\n",
    "## Datasets\n",
    "\n",
    "- `migration_flows.parquet|csv`: Flujos agregados origen→destino\n",
    "- `migrations_clean.parquet|csv`: Registros individuales de investigadores\n",
    "- `wdi_indicators.parquet|csv`: Indicadores del Banco Mundial (población, PIB, I+D)\n",
    "- `country_mapping.csv`: Mapeo ISO2→ISO3\n",
    "\n",
    "---"
   ]
  },
  {
   "cell_type": "markdown",
   "id": "d8c0bae5",
   "metadata": {},
   "source": [
    "## 1. Setup: Importación de Librerías y Configuración"
   ]
  },
  {
   "cell_type": "code",
   "execution_count": 8,
   "id": "975935e9",
   "metadata": {},
   "outputs": [
    {
     "name": "stdout",
     "output_type": "stream",
     "text": [
      "✓ Librerías importadas correctamente\n",
      "  - pandas: 2.3.3\n",
      "  - plotly: 6.3.1\n"
     ]
    }
   ],
   "source": [
    "# Librerías estándar\n",
    "import pandas as pd\n",
    "import numpy as np\n",
    "from pathlib import Path\n",
    "import warnings\n",
    "\n",
    "# Visualización\n",
    "import plotly\n",
    "import plotly.express as px\n",
    "import plotly.graph_objects as go\n",
    "from plotly.subplots import make_subplots\n",
    "import matplotlib.pyplot as plt\n",
    "import seaborn as sns\n",
    "\n",
    "# Configuración\n",
    "warnings.filterwarnings('ignore')\n",
    "pd.set_option('display.max_columns', None)\n",
    "pd.set_option('display.max_rows', 100)\n",
    "pd.set_option('display.float_format', lambda x: f'{x:,.2f}')\n",
    "\n",
    "# Tema de plotly\n",
    "import plotly.io as pio\n",
    "pio.templates.default = \"plotly_white\"\n",
    "\n",
    "# Paleta de colores personalizada\n",
    "COLORS = {\n",
    "    'primary': '#2E86AB',\n",
    "    'secondary': '#A23B72',\n",
    "    'accent': '#F18F01',\n",
    "    'success': '#06A77D',\n",
    "    'warning': '#D00000',\n",
    "    'neutral': '#6C757D'\n",
    "}\n",
    "\n",
    "print(\"✓ Librerías importadas correctamente\")\n",
    "print(f\"  - pandas: {pd.__version__}\")\n",
    "print(f\"  - plotly: {plotly.__version__}\")"
   ]
  },
  {
   "cell_type": "markdown",
   "id": "3da01b0c",
   "metadata": {},
   "source": [
    "## 2. Carga de Datos Procesados\n",
    "\n",
    "Cargamos los datasets generados en el notebook de preprocesamiento (`prep.ipynb`)."
   ]
  },
  {
   "cell_type": "code",
   "execution_count": 9,
   "id": "3952195a",
   "metadata": {},
   "outputs": [
    {
     "name": "stdout",
     "output_type": "stream",
     "text": [
      "📁 Directorio de datos: c:\\Users\\José Luis\\Documents\\GitHub\\Scientific-Researcher-Migrations\\outputs\\processed\n",
      "\n",
      "✓ Flujos migratorios: 4,249 registros (Parquet)\n",
      "✓ Migraciones individuales: 604,173 registros (Parquet)\n",
      "✓ Indicadores WDI: 26,942 registros (Parquet)\n",
      "\n",
      "✓ Datasets cargados exitosamente\n",
      "✓ Migraciones individuales: 604,173 registros (Parquet)\n",
      "✓ Indicadores WDI: 26,942 registros (Parquet)\n",
      "\n",
      "✓ Datasets cargados exitosamente\n"
     ]
    }
   ],
   "source": [
    "# Rutas\n",
    "BASE_DIR = Path.cwd().parent\n",
    "DATA_DIR = BASE_DIR / 'outputs' / 'processed'\n",
    "\n",
    "print(f\"📁 Directorio de datos: {DATA_DIR}\\n\")\n",
    "\n",
    "# Función para carga dual (Parquet → CSV)\n",
    "def load_dataset(base_name, description):\n",
    "    \"\"\"Carga Parquet si existe, sino CSV.\"\"\"\n",
    "    parquet_path = DATA_DIR / f\"{base_name}.parquet\"\n",
    "    csv_path = DATA_DIR / f\"{base_name}.csv\"\n",
    "    \n",
    "    if parquet_path.exists():\n",
    "        df = pd.read_parquet(parquet_path)\n",
    "        print(f\"✓ {description}: {len(df):,} registros (Parquet)\")\n",
    "    elif csv_path.exists():\n",
    "        df = pd.read_csv(csv_path)\n",
    "        print(f\"✓ {description}: {len(df):,} registros (CSV)\")\n",
    "    else:\n",
    "        print(f\"⚠️  {description}: No encontrado\")\n",
    "        return None\n",
    "    \n",
    "    return df\n",
    "\n",
    "# Cargar datasets\n",
    "df_flows = load_dataset('migration_flows', 'Flujos migratorios')\n",
    "df_migrations = load_dataset('migrations_clean', 'Migraciones individuales')\n",
    "df_wdi = load_dataset('wdi_indicators', 'Indicadores WDI')\n",
    "df_mapping = pd.read_csv(DATA_DIR / 'country_mapping.csv') if (DATA_DIR / 'country_mapping.csv').exists() else None\n",
    "\n",
    "print(f\"\\n✓ Datasets cargados exitosamente\")"
   ]
  },
  {
   "cell_type": "markdown",
   "id": "4c3afeed",
   "metadata": {},
   "source": [
    "## 3. Exploración Inicial de Flujos Migratorios"
   ]
  },
  {
   "cell_type": "code",
   "execution_count": 10,
   "id": "1ba55e90",
   "metadata": {},
   "outputs": [
    {
     "name": "stdout",
     "output_type": "stream",
     "text": [
      "📊 RESUMEN DE FLUJOS MIGRATORIOS\n",
      "======================================================================\n",
      "\n",
      "📈 Estadísticas Generales:\n",
      "  - Total de rutas migratorias: 4,249\n",
      "  - Total de investigadores que migraron: 62,004\n",
      "  - Países origen únicos: 194\n",
      "  - Países destino únicos: 202\n",
      "  - Media de investigadores por ruta: 14.6\n",
      "  - Mediana de investigadores por ruta: 2\n",
      "\n",
      "🔝 Top 20 Rutas Migratorias:\n",
      "\n"
     ]
    },
    {
     "data": {
      "text/html": [
       "<div>\n",
       "<style scoped>\n",
       "    .dataframe tbody tr th:only-of-type {\n",
       "        vertical-align: middle;\n",
       "    }\n",
       "\n",
       "    .dataframe tbody tr th {\n",
       "        vertical-align: top;\n",
       "    }\n",
       "\n",
       "    .dataframe thead th {\n",
       "        text-align: right;\n",
       "    }\n",
       "</style>\n",
       "<table border=\"1\" class=\"dataframe\">\n",
       "  <thead>\n",
       "    <tr style=\"text-align: right;\">\n",
       "      <th></th>\n",
       "      <th>route</th>\n",
       "      <th>origin</th>\n",
       "      <th>destination</th>\n",
       "      <th>n_researchers</th>\n",
       "      <th>phd_year_mean</th>\n",
       "      <th>origin_year_mean</th>\n",
       "    </tr>\n",
       "  </thead>\n",
       "  <tbody>\n",
       "    <tr>\n",
       "      <th>0</th>\n",
       "      <td>CN → US</td>\n",
       "      <td>CN</td>\n",
       "      <td>US</td>\n",
       "      <td>3508</td>\n",
       "      <td>2011</td>\n",
       "      <td>2000</td>\n",
       "    </tr>\n",
       "    <tr>\n",
       "      <th>1</th>\n",
       "      <td>IN → US</td>\n",
       "      <td>IN</td>\n",
       "      <td>US</td>\n",
       "      <td>1916</td>\n",
       "      <td>2009</td>\n",
       "      <td>1998</td>\n",
       "    </tr>\n",
       "    <tr>\n",
       "      <th>2</th>\n",
       "      <td>CA → US</td>\n",
       "      <td>CA</td>\n",
       "      <td>US</td>\n",
       "      <td>1029</td>\n",
       "      <td>2004</td>\n",
       "      <td>1995</td>\n",
       "    </tr>\n",
       "    <tr>\n",
       "      <th>3</th>\n",
       "      <td>GB → US</td>\n",
       "      <td>GB</td>\n",
       "      <td>US</td>\n",
       "      <td>940</td>\n",
       "      <td>2000</td>\n",
       "      <td>1992</td>\n",
       "    </tr>\n",
       "    <tr>\n",
       "      <th>4</th>\n",
       "      <td>US → GB</td>\n",
       "      <td>US</td>\n",
       "      <td>GB</td>\n",
       "      <td>786</td>\n",
       "      <td>2006</td>\n",
       "      <td>1997</td>\n",
       "    </tr>\n",
       "    <tr>\n",
       "      <th>5</th>\n",
       "      <td>GB → AU</td>\n",
       "      <td>GB</td>\n",
       "      <td>AU</td>\n",
       "      <td>719</td>\n",
       "      <td>2000</td>\n",
       "      <td>1991</td>\n",
       "    </tr>\n",
       "    <tr>\n",
       "      <th>6</th>\n",
       "      <td>US → KR</td>\n",
       "      <td>US</td>\n",
       "      <td>KR</td>\n",
       "      <td>709</td>\n",
       "      <td>2000</td>\n",
       "      <td>1995</td>\n",
       "    </tr>\n",
       "    <tr>\n",
       "      <th>7</th>\n",
       "      <td>US → CA</td>\n",
       "      <td>US</td>\n",
       "      <td>CA</td>\n",
       "      <td>616</td>\n",
       "      <td>2001</td>\n",
       "      <td>1993</td>\n",
       "    </tr>\n",
       "    <tr>\n",
       "      <th>8</th>\n",
       "      <td>US → TW</td>\n",
       "      <td>US</td>\n",
       "      <td>TW</td>\n",
       "      <td>610</td>\n",
       "      <td>1997</td>\n",
       "      <td>1992</td>\n",
       "    </tr>\n",
       "    <tr>\n",
       "      <th>9</th>\n",
       "      <td>KR → US</td>\n",
       "      <td>KR</td>\n",
       "      <td>US</td>\n",
       "      <td>562</td>\n",
       "      <td>2010</td>\n",
       "      <td>1997</td>\n",
       "    </tr>\n",
       "    <tr>\n",
       "      <th>10</th>\n",
       "      <td>IT → GB</td>\n",
       "      <td>IT</td>\n",
       "      <td>GB</td>\n",
       "      <td>507</td>\n",
       "      <td>2011</td>\n",
       "      <td>2001</td>\n",
       "    </tr>\n",
       "    <tr>\n",
       "      <th>11</th>\n",
       "      <td>DE → US</td>\n",
       "      <td>DE</td>\n",
       "      <td>US</td>\n",
       "      <td>480</td>\n",
       "      <td>2004</td>\n",
       "      <td>1996</td>\n",
       "    </tr>\n",
       "    <tr>\n",
       "      <th>12</th>\n",
       "      <td>US → AU</td>\n",
       "      <td>US</td>\n",
       "      <td>AU</td>\n",
       "      <td>468</td>\n",
       "      <td>2003</td>\n",
       "      <td>1994</td>\n",
       "    </tr>\n",
       "    <tr>\n",
       "      <th>13</th>\n",
       "      <td>CN → GB</td>\n",
       "      <td>CN</td>\n",
       "      <td>GB</td>\n",
       "      <td>440</td>\n",
       "      <td>2009</td>\n",
       "      <td>1999</td>\n",
       "    </tr>\n",
       "    <tr>\n",
       "      <th>14</th>\n",
       "      <td>CN → AU</td>\n",
       "      <td>CN</td>\n",
       "      <td>AU</td>\n",
       "      <td>423</td>\n",
       "      <td>2010</td>\n",
       "      <td>1999</td>\n",
       "    </tr>\n",
       "    <tr>\n",
       "      <th>15</th>\n",
       "      <td>DE → GB</td>\n",
       "      <td>DE</td>\n",
       "      <td>GB</td>\n",
       "      <td>396</td>\n",
       "      <td>2008</td>\n",
       "      <td>1998</td>\n",
       "    </tr>\n",
       "    <tr>\n",
       "      <th>16</th>\n",
       "      <td>IR → US</td>\n",
       "      <td>IR</td>\n",
       "      <td>US</td>\n",
       "      <td>367</td>\n",
       "      <td>2014</td>\n",
       "      <td>2002</td>\n",
       "    </tr>\n",
       "    <tr>\n",
       "      <th>17</th>\n",
       "      <td>US → CN</td>\n",
       "      <td>US</td>\n",
       "      <td>CN</td>\n",
       "      <td>345</td>\n",
       "      <td>2004</td>\n",
       "      <td>1999</td>\n",
       "    </tr>\n",
       "    <tr>\n",
       "      <th>18</th>\n",
       "      <td>ES → GB</td>\n",
       "      <td>ES</td>\n",
       "      <td>GB</td>\n",
       "      <td>342</td>\n",
       "      <td>2010</td>\n",
       "      <td>2000</td>\n",
       "    </tr>\n",
       "    <tr>\n",
       "      <th>19</th>\n",
       "      <td>FR → US</td>\n",
       "      <td>FR</td>\n",
       "      <td>US</td>\n",
       "      <td>339</td>\n",
       "      <td>2007</td>\n",
       "      <td>2000</td>\n",
       "    </tr>\n",
       "  </tbody>\n",
       "</table>\n",
       "</div>"
      ],
      "text/plain": [
       "      route origin destination  n_researchers  phd_year_mean  origin_year_mean\n",
       "0   CN → US     CN          US           3508           2011              2000\n",
       "1   IN → US     IN          US           1916           2009              1998\n",
       "2   CA → US     CA          US           1029           2004              1995\n",
       "3   GB → US     GB          US            940           2000              1992\n",
       "4   US → GB     US          GB            786           2006              1997\n",
       "5   GB → AU     GB          AU            719           2000              1991\n",
       "6   US → KR     US          KR            709           2000              1995\n",
       "7   US → CA     US          CA            616           2001              1993\n",
       "8   US → TW     US          TW            610           1997              1992\n",
       "9   KR → US     KR          US            562           2010              1997\n",
       "10  IT → GB     IT          GB            507           2011              2001\n",
       "11  DE → US     DE          US            480           2004              1996\n",
       "12  US → AU     US          AU            468           2003              1994\n",
       "13  CN → GB     CN          GB            440           2009              1999\n",
       "14  CN → AU     CN          AU            423           2010              1999\n",
       "15  DE → GB     DE          GB            396           2008              1998\n",
       "16  IR → US     IR          US            367           2014              2002\n",
       "17  US → CN     US          CN            345           2004              1999\n",
       "18  ES → GB     ES          GB            342           2010              2000\n",
       "19  FR → US     FR          US            339           2007              2000"
      ]
     },
     "metadata": {},
     "output_type": "display_data"
    }
   ],
   "source": [
    "print(\"📊 RESUMEN DE FLUJOS MIGRATORIOS\\n\" + \"=\"*70)\n",
    "\n",
    "print(f\"\\n📈 Estadísticas Generales:\")\n",
    "print(f\"  - Total de rutas migratorias: {len(df_flows):,}\")\n",
    "print(f\"  - Total de investigadores que migraron: {df_flows['n_researchers'].sum():,}\")\n",
    "print(f\"  - Países origen únicos: {df_flows['origin'].nunique()}\")\n",
    "print(f\"  - Países destino únicos: {df_flows['destination'].nunique()}\")\n",
    "print(f\"  - Media de investigadores por ruta: {df_flows['n_researchers'].mean():.1f}\")\n",
    "print(f\"  - Mediana de investigadores por ruta: {df_flows['n_researchers'].median():.0f}\")\n",
    "\n",
    "print(f\"\\n🔝 Top 20 Rutas Migratorias:\\n\")\n",
    "display(df_flows[[\n",
    "    'route', 'origin', 'destination', 'n_researchers', \n",
    "    'phd_year_mean', 'origin_year_mean'\n",
    "]].head(20))"
   ]
  },
  {
   "cell_type": "markdown",
   "id": "22246607",
   "metadata": {},
   "source": [
    "## 4. Análisis de Países: Top Emisores y Receptores\n",
    "\n",
    "### 4.1 Top Países Emisores (Brain Drain)"
   ]
  },
  {
   "cell_type": "code",
   "execution_count": 11,
   "id": "8654f905",
   "metadata": {},
   "outputs": [
    {
     "name": "stdout",
     "output_type": "stream",
     "text": [
      "🔴 TOP 15 PAÍSES EMISORES DE CIENTÍFICOS (Brain Drain)\n",
      "======================================================================\n"
     ]
    },
    {
     "data": {
      "text/html": [
       "<div>\n",
       "<style scoped>\n",
       "    .dataframe tbody tr th:only-of-type {\n",
       "        vertical-align: middle;\n",
       "    }\n",
       "\n",
       "    .dataframe tbody tr th {\n",
       "        vertical-align: top;\n",
       "    }\n",
       "\n",
       "    .dataframe thead th {\n",
       "        text-align: right;\n",
       "    }\n",
       "</style>\n",
       "<table border=\"1\" class=\"dataframe\">\n",
       "  <thead>\n",
       "    <tr style=\"text-align: right;\">\n",
       "      <th></th>\n",
       "      <th>country</th>\n",
       "      <th>total_emigrants</th>\n",
       "      <th>rank</th>\n",
       "    </tr>\n",
       "  </thead>\n",
       "  <tbody>\n",
       "    <tr>\n",
       "      <th>0</th>\n",
       "      <td>US</td>\n",
       "      <td>7657</td>\n",
       "      <td>1</td>\n",
       "    </tr>\n",
       "    <tr>\n",
       "      <th>1</th>\n",
       "      <td>CN</td>\n",
       "      <td>6187</td>\n",
       "      <td>2</td>\n",
       "    </tr>\n",
       "    <tr>\n",
       "      <th>2</th>\n",
       "      <td>GB</td>\n",
       "      <td>5376</td>\n",
       "      <td>3</td>\n",
       "    </tr>\n",
       "    <tr>\n",
       "      <th>3</th>\n",
       "      <td>IN</td>\n",
       "      <td>4559</td>\n",
       "      <td>4</td>\n",
       "    </tr>\n",
       "    <tr>\n",
       "      <th>4</th>\n",
       "      <td>DE</td>\n",
       "      <td>2838</td>\n",
       "      <td>5</td>\n",
       "    </tr>\n",
       "    <tr>\n",
       "      <th>5</th>\n",
       "      <td>IT</td>\n",
       "      <td>2351</td>\n",
       "      <td>6</td>\n",
       "    </tr>\n",
       "    <tr>\n",
       "      <th>6</th>\n",
       "      <td>FR</td>\n",
       "      <td>2280</td>\n",
       "      <td>7</td>\n",
       "    </tr>\n",
       "    <tr>\n",
       "      <th>7</th>\n",
       "      <td>CA</td>\n",
       "      <td>2275</td>\n",
       "      <td>8</td>\n",
       "    </tr>\n",
       "    <tr>\n",
       "      <th>8</th>\n",
       "      <td>ES</td>\n",
       "      <td>1921</td>\n",
       "      <td>9</td>\n",
       "    </tr>\n",
       "    <tr>\n",
       "      <th>9</th>\n",
       "      <td>RU</td>\n",
       "      <td>1417</td>\n",
       "      <td>10</td>\n",
       "    </tr>\n",
       "    <tr>\n",
       "      <th>10</th>\n",
       "      <td>IR</td>\n",
       "      <td>1213</td>\n",
       "      <td>11</td>\n",
       "    </tr>\n",
       "    <tr>\n",
       "      <th>11</th>\n",
       "      <td>AU</td>\n",
       "      <td>1116</td>\n",
       "      <td>12</td>\n",
       "    </tr>\n",
       "    <tr>\n",
       "      <th>12</th>\n",
       "      <td>NL</td>\n",
       "      <td>1041</td>\n",
       "      <td>13</td>\n",
       "    </tr>\n",
       "    <tr>\n",
       "      <th>13</th>\n",
       "      <td>BR</td>\n",
       "      <td>996</td>\n",
       "      <td>14</td>\n",
       "    </tr>\n",
       "    <tr>\n",
       "      <th>14</th>\n",
       "      <td>JP</td>\n",
       "      <td>991</td>\n",
       "      <td>15</td>\n",
       "    </tr>\n",
       "  </tbody>\n",
       "</table>\n",
       "</div>"
      ],
      "text/plain": [
       "   country  total_emigrants  rank\n",
       "0       US             7657     1\n",
       "1       CN             6187     2\n",
       "2       GB             5376     3\n",
       "3       IN             4559     4\n",
       "4       DE             2838     5\n",
       "5       IT             2351     6\n",
       "6       FR             2280     7\n",
       "7       CA             2275     8\n",
       "8       ES             1921     9\n",
       "9       RU             1417    10\n",
       "10      IR             1213    11\n",
       "11      AU             1116    12\n",
       "12      NL             1041    13\n",
       "13      BR              996    14\n",
       "14      JP              991    15"
      ]
     },
     "metadata": {},
     "output_type": "display_data"
    },
    {
     "data": {
      "application/vnd.plotly.v1+json": {
       "config": {
        "plotlyServerURL": "https://plot.ly"
       },
       "data": [
        {
         "hovertemplate": "Investigadores Emigrados=%{marker.color}<br>País Origen=%{y}<extra></extra>",
         "legendgroup": "",
         "marker": {
          "color": {
           "bdata": "6R0rGAAVzxEWCy8J6AjjCIEHiQW9BFwEEQTkA98D",
           "dtype": "i2"
          },
          "coloraxis": "coloraxis",
          "pattern": {
           "shape": ""
          }
         },
         "name": "",
         "orientation": "h",
         "showlegend": false,
         "text": {
          "bdata": "AAAAAADpvUAAAAAAACu4QAAAAAAAALVAAAAAAADPsUAAAAAAACymQAAAAAAAXqJAAAAAAADQoUAAAAAAAMahQAAAAAAABJ5AAAAAAAAklkAAAAAAAPSSQAAAAAAAcJFAAAAAAABEkEAAAAAAACCPQAAAAAAA+I5A",
          "dtype": "f8"
         },
         "textposition": "outside",
         "texttemplate": "%{text:,.0f}",
         "type": "bar",
         "x": {
          "bdata": "6R0rGAAVzxEWCy8J6AjjCIEHiQW9BFwEEQTkA98D",
          "dtype": "i2"
         },
         "xaxis": "x",
         "y": [
          "US",
          "CN",
          "GB",
          "IN",
          "DE",
          "IT",
          "FR",
          "CA",
          "ES",
          "RU",
          "IR",
          "AU",
          "NL",
          "BR",
          "JP"
         ],
         "yaxis": "y"
        }
       ],
       "layout": {
        "barmode": "relative",
        "coloraxis": {
         "colorbar": {
          "title": {
           "text": "Investigadores Emigrados"
          }
         },
         "colorscale": [
          [
           0,
           "rgb(255,245,240)"
          ],
          [
           0.125,
           "rgb(254,224,210)"
          ],
          [
           0.25,
           "rgb(252,187,161)"
          ],
          [
           0.375,
           "rgb(252,146,114)"
          ],
          [
           0.5,
           "rgb(251,106,74)"
          ],
          [
           0.625,
           "rgb(239,59,44)"
          ],
          [
           0.75,
           "rgb(203,24,29)"
          ],
          [
           0.875,
           "rgb(165,15,21)"
          ],
          [
           1,
           "rgb(103,0,13)"
          ]
         ]
        },
        "height": 500,
        "legend": {
         "tracegroupgap": 0
        },
        "showlegend": false,
        "template": {
         "data": {
          "bar": [
           {
            "error_x": {
             "color": "#2a3f5f"
            },
            "error_y": {
             "color": "#2a3f5f"
            },
            "marker": {
             "line": {
              "color": "white",
              "width": 0.5
             },
             "pattern": {
              "fillmode": "overlay",
              "size": 10,
              "solidity": 0.2
             }
            },
            "type": "bar"
           }
          ],
          "barpolar": [
           {
            "marker": {
             "line": {
              "color": "white",
              "width": 0.5
             },
             "pattern": {
              "fillmode": "overlay",
              "size": 10,
              "solidity": 0.2
             }
            },
            "type": "barpolar"
           }
          ],
          "carpet": [
           {
            "aaxis": {
             "endlinecolor": "#2a3f5f",
             "gridcolor": "#C8D4E3",
             "linecolor": "#C8D4E3",
             "minorgridcolor": "#C8D4E3",
             "startlinecolor": "#2a3f5f"
            },
            "baxis": {
             "endlinecolor": "#2a3f5f",
             "gridcolor": "#C8D4E3",
             "linecolor": "#C8D4E3",
             "minorgridcolor": "#C8D4E3",
             "startlinecolor": "#2a3f5f"
            },
            "type": "carpet"
           }
          ],
          "choropleth": [
           {
            "colorbar": {
             "outlinewidth": 0,
             "ticks": ""
            },
            "type": "choropleth"
           }
          ],
          "contour": [
           {
            "colorbar": {
             "outlinewidth": 0,
             "ticks": ""
            },
            "colorscale": [
             [
              0,
              "#0d0887"
             ],
             [
              0.1111111111111111,
              "#46039f"
             ],
             [
              0.2222222222222222,
              "#7201a8"
             ],
             [
              0.3333333333333333,
              "#9c179e"
             ],
             [
              0.4444444444444444,
              "#bd3786"
             ],
             [
              0.5555555555555556,
              "#d8576b"
             ],
             [
              0.6666666666666666,
              "#ed7953"
             ],
             [
              0.7777777777777778,
              "#fb9f3a"
             ],
             [
              0.8888888888888888,
              "#fdca26"
             ],
             [
              1,
              "#f0f921"
             ]
            ],
            "type": "contour"
           }
          ],
          "contourcarpet": [
           {
            "colorbar": {
             "outlinewidth": 0,
             "ticks": ""
            },
            "type": "contourcarpet"
           }
          ],
          "heatmap": [
           {
            "colorbar": {
             "outlinewidth": 0,
             "ticks": ""
            },
            "colorscale": [
             [
              0,
              "#0d0887"
             ],
             [
              0.1111111111111111,
              "#46039f"
             ],
             [
              0.2222222222222222,
              "#7201a8"
             ],
             [
              0.3333333333333333,
              "#9c179e"
             ],
             [
              0.4444444444444444,
              "#bd3786"
             ],
             [
              0.5555555555555556,
              "#d8576b"
             ],
             [
              0.6666666666666666,
              "#ed7953"
             ],
             [
              0.7777777777777778,
              "#fb9f3a"
             ],
             [
              0.8888888888888888,
              "#fdca26"
             ],
             [
              1,
              "#f0f921"
             ]
            ],
            "type": "heatmap"
           }
          ],
          "histogram": [
           {
            "marker": {
             "pattern": {
              "fillmode": "overlay",
              "size": 10,
              "solidity": 0.2
             }
            },
            "type": "histogram"
           }
          ],
          "histogram2d": [
           {
            "colorbar": {
             "outlinewidth": 0,
             "ticks": ""
            },
            "colorscale": [
             [
              0,
              "#0d0887"
             ],
             [
              0.1111111111111111,
              "#46039f"
             ],
             [
              0.2222222222222222,
              "#7201a8"
             ],
             [
              0.3333333333333333,
              "#9c179e"
             ],
             [
              0.4444444444444444,
              "#bd3786"
             ],
             [
              0.5555555555555556,
              "#d8576b"
             ],
             [
              0.6666666666666666,
              "#ed7953"
             ],
             [
              0.7777777777777778,
              "#fb9f3a"
             ],
             [
              0.8888888888888888,
              "#fdca26"
             ],
             [
              1,
              "#f0f921"
             ]
            ],
            "type": "histogram2d"
           }
          ],
          "histogram2dcontour": [
           {
            "colorbar": {
             "outlinewidth": 0,
             "ticks": ""
            },
            "colorscale": [
             [
              0,
              "#0d0887"
             ],
             [
              0.1111111111111111,
              "#46039f"
             ],
             [
              0.2222222222222222,
              "#7201a8"
             ],
             [
              0.3333333333333333,
              "#9c179e"
             ],
             [
              0.4444444444444444,
              "#bd3786"
             ],
             [
              0.5555555555555556,
              "#d8576b"
             ],
             [
              0.6666666666666666,
              "#ed7953"
             ],
             [
              0.7777777777777778,
              "#fb9f3a"
             ],
             [
              0.8888888888888888,
              "#fdca26"
             ],
             [
              1,
              "#f0f921"
             ]
            ],
            "type": "histogram2dcontour"
           }
          ],
          "mesh3d": [
           {
            "colorbar": {
             "outlinewidth": 0,
             "ticks": ""
            },
            "type": "mesh3d"
           }
          ],
          "parcoords": [
           {
            "line": {
             "colorbar": {
              "outlinewidth": 0,
              "ticks": ""
             }
            },
            "type": "parcoords"
           }
          ],
          "pie": [
           {
            "automargin": true,
            "type": "pie"
           }
          ],
          "scatter": [
           {
            "fillpattern": {
             "fillmode": "overlay",
             "size": 10,
             "solidity": 0.2
            },
            "type": "scatter"
           }
          ],
          "scatter3d": [
           {
            "line": {
             "colorbar": {
              "outlinewidth": 0,
              "ticks": ""
             }
            },
            "marker": {
             "colorbar": {
              "outlinewidth": 0,
              "ticks": ""
             }
            },
            "type": "scatter3d"
           }
          ],
          "scattercarpet": [
           {
            "marker": {
             "colorbar": {
              "outlinewidth": 0,
              "ticks": ""
             }
            },
            "type": "scattercarpet"
           }
          ],
          "scattergeo": [
           {
            "marker": {
             "colorbar": {
              "outlinewidth": 0,
              "ticks": ""
             }
            },
            "type": "scattergeo"
           }
          ],
          "scattergl": [
           {
            "marker": {
             "colorbar": {
              "outlinewidth": 0,
              "ticks": ""
             }
            },
            "type": "scattergl"
           }
          ],
          "scattermap": [
           {
            "marker": {
             "colorbar": {
              "outlinewidth": 0,
              "ticks": ""
             }
            },
            "type": "scattermap"
           }
          ],
          "scattermapbox": [
           {
            "marker": {
             "colorbar": {
              "outlinewidth": 0,
              "ticks": ""
             }
            },
            "type": "scattermapbox"
           }
          ],
          "scatterpolar": [
           {
            "marker": {
             "colorbar": {
              "outlinewidth": 0,
              "ticks": ""
             }
            },
            "type": "scatterpolar"
           }
          ],
          "scatterpolargl": [
           {
            "marker": {
             "colorbar": {
              "outlinewidth": 0,
              "ticks": ""
             }
            },
            "type": "scatterpolargl"
           }
          ],
          "scatterternary": [
           {
            "marker": {
             "colorbar": {
              "outlinewidth": 0,
              "ticks": ""
             }
            },
            "type": "scatterternary"
           }
          ],
          "surface": [
           {
            "colorbar": {
             "outlinewidth": 0,
             "ticks": ""
            },
            "colorscale": [
             [
              0,
              "#0d0887"
             ],
             [
              0.1111111111111111,
              "#46039f"
             ],
             [
              0.2222222222222222,
              "#7201a8"
             ],
             [
              0.3333333333333333,
              "#9c179e"
             ],
             [
              0.4444444444444444,
              "#bd3786"
             ],
             [
              0.5555555555555556,
              "#d8576b"
             ],
             [
              0.6666666666666666,
              "#ed7953"
             ],
             [
              0.7777777777777778,
              "#fb9f3a"
             ],
             [
              0.8888888888888888,
              "#fdca26"
             ],
             [
              1,
              "#f0f921"
             ]
            ],
            "type": "surface"
           }
          ],
          "table": [
           {
            "cells": {
             "fill": {
              "color": "#EBF0F8"
             },
             "line": {
              "color": "white"
             }
            },
            "header": {
             "fill": {
              "color": "#C8D4E3"
             },
             "line": {
              "color": "white"
             }
            },
            "type": "table"
           }
          ]
         },
         "layout": {
          "annotationdefaults": {
           "arrowcolor": "#2a3f5f",
           "arrowhead": 0,
           "arrowwidth": 1
          },
          "autotypenumbers": "strict",
          "coloraxis": {
           "colorbar": {
            "outlinewidth": 0,
            "ticks": ""
           }
          },
          "colorscale": {
           "diverging": [
            [
             0,
             "#8e0152"
            ],
            [
             0.1,
             "#c51b7d"
            ],
            [
             0.2,
             "#de77ae"
            ],
            [
             0.3,
             "#f1b6da"
            ],
            [
             0.4,
             "#fde0ef"
            ],
            [
             0.5,
             "#f7f7f7"
            ],
            [
             0.6,
             "#e6f5d0"
            ],
            [
             0.7,
             "#b8e186"
            ],
            [
             0.8,
             "#7fbc41"
            ],
            [
             0.9,
             "#4d9221"
            ],
            [
             1,
             "#276419"
            ]
           ],
           "sequential": [
            [
             0,
             "#0d0887"
            ],
            [
             0.1111111111111111,
             "#46039f"
            ],
            [
             0.2222222222222222,
             "#7201a8"
            ],
            [
             0.3333333333333333,
             "#9c179e"
            ],
            [
             0.4444444444444444,
             "#bd3786"
            ],
            [
             0.5555555555555556,
             "#d8576b"
            ],
            [
             0.6666666666666666,
             "#ed7953"
            ],
            [
             0.7777777777777778,
             "#fb9f3a"
            ],
            [
             0.8888888888888888,
             "#fdca26"
            ],
            [
             1,
             "#f0f921"
            ]
           ],
           "sequentialminus": [
            [
             0,
             "#0d0887"
            ],
            [
             0.1111111111111111,
             "#46039f"
            ],
            [
             0.2222222222222222,
             "#7201a8"
            ],
            [
             0.3333333333333333,
             "#9c179e"
            ],
            [
             0.4444444444444444,
             "#bd3786"
            ],
            [
             0.5555555555555556,
             "#d8576b"
            ],
            [
             0.6666666666666666,
             "#ed7953"
            ],
            [
             0.7777777777777778,
             "#fb9f3a"
            ],
            [
             0.8888888888888888,
             "#fdca26"
            ],
            [
             1,
             "#f0f921"
            ]
           ]
          },
          "colorway": [
           "#636efa",
           "#EF553B",
           "#00cc96",
           "#ab63fa",
           "#FFA15A",
           "#19d3f3",
           "#FF6692",
           "#B6E880",
           "#FF97FF",
           "#FECB52"
          ],
          "font": {
           "color": "#2a3f5f"
          },
          "geo": {
           "bgcolor": "white",
           "lakecolor": "white",
           "landcolor": "white",
           "showlakes": true,
           "showland": true,
           "subunitcolor": "#C8D4E3"
          },
          "hoverlabel": {
           "align": "left"
          },
          "hovermode": "closest",
          "mapbox": {
           "style": "light"
          },
          "paper_bgcolor": "white",
          "plot_bgcolor": "white",
          "polar": {
           "angularaxis": {
            "gridcolor": "#EBF0F8",
            "linecolor": "#EBF0F8",
            "ticks": ""
           },
           "bgcolor": "white",
           "radialaxis": {
            "gridcolor": "#EBF0F8",
            "linecolor": "#EBF0F8",
            "ticks": ""
           }
          },
          "scene": {
           "xaxis": {
            "backgroundcolor": "white",
            "gridcolor": "#DFE8F3",
            "gridwidth": 2,
            "linecolor": "#EBF0F8",
            "showbackground": true,
            "ticks": "",
            "zerolinecolor": "#EBF0F8"
           },
           "yaxis": {
            "backgroundcolor": "white",
            "gridcolor": "#DFE8F3",
            "gridwidth": 2,
            "linecolor": "#EBF0F8",
            "showbackground": true,
            "ticks": "",
            "zerolinecolor": "#EBF0F8"
           },
           "zaxis": {
            "backgroundcolor": "white",
            "gridcolor": "#DFE8F3",
            "gridwidth": 2,
            "linecolor": "#EBF0F8",
            "showbackground": true,
            "ticks": "",
            "zerolinecolor": "#EBF0F8"
           }
          },
          "shapedefaults": {
           "line": {
            "color": "#2a3f5f"
           }
          },
          "ternary": {
           "aaxis": {
            "gridcolor": "#DFE8F3",
            "linecolor": "#A2B1C6",
            "ticks": ""
           },
           "baxis": {
            "gridcolor": "#DFE8F3",
            "linecolor": "#A2B1C6",
            "ticks": ""
           },
           "bgcolor": "white",
           "caxis": {
            "gridcolor": "#DFE8F3",
            "linecolor": "#A2B1C6",
            "ticks": ""
           }
          },
          "title": {
           "x": 0.05
          },
          "xaxis": {
           "automargin": true,
           "gridcolor": "#EBF0F8",
           "linecolor": "#EBF0F8",
           "ticks": "",
           "title": {
            "standoff": 15
           },
           "zerolinecolor": "#EBF0F8",
           "zerolinewidth": 2
          },
          "yaxis": {
           "automargin": true,
           "gridcolor": "#EBF0F8",
           "linecolor": "#EBF0F8",
           "ticks": "",
           "title": {
            "standoff": 15
           },
           "zerolinecolor": "#EBF0F8",
           "zerolinewidth": 2
          }
         }
        },
        "title": {
         "text": "Top 15 Países Emisores de Investigadores Científicos"
        },
        "xaxis": {
         "anchor": "y",
         "domain": [
          0,
          1
         ],
         "title": {
          "text": "Investigadores Emigrados"
         }
        },
        "yaxis": {
         "anchor": "x",
         "categoryorder": "total ascending",
         "domain": [
          0,
          1
         ],
         "title": {
          "text": "País Origen"
         }
        }
       }
      }
     },
     "metadata": {},
     "output_type": "display_data"
    }
   ],
   "source": [
    "# Agregación por país origen (emisores)\n",
    "top_emitters = df_flows.groupby('origin')['n_researchers'].sum().sort_values(ascending=False).reset_index()\n",
    "top_emitters.columns = ['country', 'total_emigrants']\n",
    "top_emitters['rank'] = range(1, len(top_emitters) + 1)\n",
    "\n",
    "print(f\"🔴 TOP 15 PAÍSES EMISORES DE CIENTÍFICOS (Brain Drain)\\n\" + \"=\"*70)\n",
    "display(top_emitters.head(15))\n",
    "\n",
    "# Visualización\n",
    "fig = px.bar(\n",
    "    top_emitters.head(15),\n",
    "    x='total_emigrants',\n",
    "    y='country',\n",
    "    orientation='h',\n",
    "    title='Top 15 Países Emisores de Investigadores Científicos',\n",
    "    labels={'total_emigrants': 'Investigadores Emigrados', 'country': 'País Origen'},\n",
    "    color='total_emigrants',\n",
    "    color_continuous_scale='Reds',\n",
    "    text='total_emigrants'\n",
    ")\n",
    "fig.update_traces(texttemplate='%{text:,.0f}', textposition='outside')\n",
    "fig.update_layout(height=500, showlegend=False, yaxis={'categoryorder':'total ascending'})\n",
    "fig.show()"
   ]
  },
  {
   "cell_type": "markdown",
   "id": "52eaddcd",
   "metadata": {},
   "source": [
    "### 4.2 Top Países Receptores (Brain Gain)"
   ]
  },
  {
   "cell_type": "code",
   "execution_count": 12,
   "id": "daaa1bbd",
   "metadata": {},
   "outputs": [
    {
     "name": "stdout",
     "output_type": "stream",
     "text": [
      "🟢 TOP 15 PAÍSES RECEPTORES DE CIENTÍFICOS (Brain Gain)\n",
      "======================================================================\n"
     ]
    },
    {
     "data": {
      "text/html": [
       "<div>\n",
       "<style scoped>\n",
       "    .dataframe tbody tr th:only-of-type {\n",
       "        vertical-align: middle;\n",
       "    }\n",
       "\n",
       "    .dataframe tbody tr th {\n",
       "        vertical-align: top;\n",
       "    }\n",
       "\n",
       "    .dataframe thead th {\n",
       "        text-align: right;\n",
       "    }\n",
       "</style>\n",
       "<table border=\"1\" class=\"dataframe\">\n",
       "  <thead>\n",
       "    <tr style=\"text-align: right;\">\n",
       "      <th></th>\n",
       "      <th>country</th>\n",
       "      <th>total_immigrants</th>\n",
       "      <th>rank</th>\n",
       "    </tr>\n",
       "  </thead>\n",
       "  <tbody>\n",
       "    <tr>\n",
       "      <th>0</th>\n",
       "      <td>US</td>\n",
       "      <td>14547</td>\n",
       "      <td>1</td>\n",
       "    </tr>\n",
       "    <tr>\n",
       "      <th>1</th>\n",
       "      <td>GB</td>\n",
       "      <td>6651</td>\n",
       "      <td>2</td>\n",
       "    </tr>\n",
       "    <tr>\n",
       "      <th>2</th>\n",
       "      <td>AU</td>\n",
       "      <td>3823</td>\n",
       "      <td>3</td>\n",
       "    </tr>\n",
       "    <tr>\n",
       "      <th>3</th>\n",
       "      <td>DE</td>\n",
       "      <td>2260</td>\n",
       "      <td>4</td>\n",
       "    </tr>\n",
       "    <tr>\n",
       "      <th>4</th>\n",
       "      <td>CA</td>\n",
       "      <td>2249</td>\n",
       "      <td>5</td>\n",
       "    </tr>\n",
       "    <tr>\n",
       "      <th>5</th>\n",
       "      <td>ES</td>\n",
       "      <td>1907</td>\n",
       "      <td>6</td>\n",
       "    </tr>\n",
       "    <tr>\n",
       "      <th>6</th>\n",
       "      <td>SE</td>\n",
       "      <td>1743</td>\n",
       "      <td>7</td>\n",
       "    </tr>\n",
       "    <tr>\n",
       "      <th>7</th>\n",
       "      <td>FR</td>\n",
       "      <td>1453</td>\n",
       "      <td>8</td>\n",
       "    </tr>\n",
       "    <tr>\n",
       "      <th>8</th>\n",
       "      <td>KR</td>\n",
       "      <td>1370</td>\n",
       "      <td>9</td>\n",
       "    </tr>\n",
       "    <tr>\n",
       "      <th>9</th>\n",
       "      <td>CH</td>\n",
       "      <td>1355</td>\n",
       "      <td>10</td>\n",
       "    </tr>\n",
       "    <tr>\n",
       "      <th>10</th>\n",
       "      <td>CN</td>\n",
       "      <td>1209</td>\n",
       "      <td>11</td>\n",
       "    </tr>\n",
       "    <tr>\n",
       "      <th>11</th>\n",
       "      <td>PT</td>\n",
       "      <td>1204</td>\n",
       "      <td>12</td>\n",
       "    </tr>\n",
       "    <tr>\n",
       "      <th>12</th>\n",
       "      <td>DK</td>\n",
       "      <td>1145</td>\n",
       "      <td>13</td>\n",
       "    </tr>\n",
       "    <tr>\n",
       "      <th>13</th>\n",
       "      <td>SA</td>\n",
       "      <td>1094</td>\n",
       "      <td>14</td>\n",
       "    </tr>\n",
       "    <tr>\n",
       "      <th>14</th>\n",
       "      <td>MY</td>\n",
       "      <td>1074</td>\n",
       "      <td>15</td>\n",
       "    </tr>\n",
       "  </tbody>\n",
       "</table>\n",
       "</div>"
      ],
      "text/plain": [
       "   country  total_immigrants  rank\n",
       "0       US             14547     1\n",
       "1       GB              6651     2\n",
       "2       AU              3823     3\n",
       "3       DE              2260     4\n",
       "4       CA              2249     5\n",
       "5       ES              1907     6\n",
       "6       SE              1743     7\n",
       "7       FR              1453     8\n",
       "8       KR              1370     9\n",
       "9       CH              1355    10\n",
       "10      CN              1209    11\n",
       "11      PT              1204    12\n",
       "12      DK              1145    13\n",
       "13      SA              1094    14\n",
       "14      MY              1074    15"
      ]
     },
     "metadata": {},
     "output_type": "display_data"
    },
    {
     "data": {
      "application/vnd.plotly.v1+json": {
       "config": {
        "plotlyServerURL": "https://plot.ly"
       },
       "data": [
        {
         "hovertemplate": "Investigadores Recibidos=%{marker.color}<br>País Destino=%{y}<extra></extra>",
         "legendgroup": "",
         "marker": {
          "color": {
           "bdata": "0zj7Ge8O1AjJCHMHzwatBVoFSwW5BLQEeQRGBDIE",
           "dtype": "i2"
          },
          "coloraxis": "coloraxis",
          "pattern": {
           "shape": ""
          }
         },
         "name": "",
         "orientation": "h",
         "showlegend": false,
         "text": {
          "bdata": "AAAAAIBpzEAAAAAAAPu5QAAAAAAA3q1AAAAAAACooUAAAAAAAJKhQAAAAAAAzJ1AAAAAAAA8m0AAAAAAALSWQAAAAAAAaJVAAAAAAAAslUAAAAAAAOSSQAAAAAAA0JJAAAAAAADkkUAAAAAAABiRQAAAAAAAyJBA",
          "dtype": "f8"
         },
         "textposition": "outside",
         "texttemplate": "%{text:,.0f}",
         "type": "bar",
         "x": {
          "bdata": "0zj7Ge8O1AjJCHMHzwatBVoFSwW5BLQEeQRGBDIE",
          "dtype": "i2"
         },
         "xaxis": "x",
         "y": [
          "US",
          "GB",
          "AU",
          "DE",
          "CA",
          "ES",
          "SE",
          "FR",
          "KR",
          "CH",
          "CN",
          "PT",
          "DK",
          "SA",
          "MY"
         ],
         "yaxis": "y"
        }
       ],
       "layout": {
        "barmode": "relative",
        "coloraxis": {
         "colorbar": {
          "title": {
           "text": "Investigadores Recibidos"
          }
         },
         "colorscale": [
          [
           0,
           "rgb(247,252,245)"
          ],
          [
           0.125,
           "rgb(229,245,224)"
          ],
          [
           0.25,
           "rgb(199,233,192)"
          ],
          [
           0.375,
           "rgb(161,217,155)"
          ],
          [
           0.5,
           "rgb(116,196,118)"
          ],
          [
           0.625,
           "rgb(65,171,93)"
          ],
          [
           0.75,
           "rgb(35,139,69)"
          ],
          [
           0.875,
           "rgb(0,109,44)"
          ],
          [
           1,
           "rgb(0,68,27)"
          ]
         ]
        },
        "height": 500,
        "legend": {
         "tracegroupgap": 0
        },
        "showlegend": false,
        "template": {
         "data": {
          "bar": [
           {
            "error_x": {
             "color": "#2a3f5f"
            },
            "error_y": {
             "color": "#2a3f5f"
            },
            "marker": {
             "line": {
              "color": "white",
              "width": 0.5
             },
             "pattern": {
              "fillmode": "overlay",
              "size": 10,
              "solidity": 0.2
             }
            },
            "type": "bar"
           }
          ],
          "barpolar": [
           {
            "marker": {
             "line": {
              "color": "white",
              "width": 0.5
             },
             "pattern": {
              "fillmode": "overlay",
              "size": 10,
              "solidity": 0.2
             }
            },
            "type": "barpolar"
           }
          ],
          "carpet": [
           {
            "aaxis": {
             "endlinecolor": "#2a3f5f",
             "gridcolor": "#C8D4E3",
             "linecolor": "#C8D4E3",
             "minorgridcolor": "#C8D4E3",
             "startlinecolor": "#2a3f5f"
            },
            "baxis": {
             "endlinecolor": "#2a3f5f",
             "gridcolor": "#C8D4E3",
             "linecolor": "#C8D4E3",
             "minorgridcolor": "#C8D4E3",
             "startlinecolor": "#2a3f5f"
            },
            "type": "carpet"
           }
          ],
          "choropleth": [
           {
            "colorbar": {
             "outlinewidth": 0,
             "ticks": ""
            },
            "type": "choropleth"
           }
          ],
          "contour": [
           {
            "colorbar": {
             "outlinewidth": 0,
             "ticks": ""
            },
            "colorscale": [
             [
              0,
              "#0d0887"
             ],
             [
              0.1111111111111111,
              "#46039f"
             ],
             [
              0.2222222222222222,
              "#7201a8"
             ],
             [
              0.3333333333333333,
              "#9c179e"
             ],
             [
              0.4444444444444444,
              "#bd3786"
             ],
             [
              0.5555555555555556,
              "#d8576b"
             ],
             [
              0.6666666666666666,
              "#ed7953"
             ],
             [
              0.7777777777777778,
              "#fb9f3a"
             ],
             [
              0.8888888888888888,
              "#fdca26"
             ],
             [
              1,
              "#f0f921"
             ]
            ],
            "type": "contour"
           }
          ],
          "contourcarpet": [
           {
            "colorbar": {
             "outlinewidth": 0,
             "ticks": ""
            },
            "type": "contourcarpet"
           }
          ],
          "heatmap": [
           {
            "colorbar": {
             "outlinewidth": 0,
             "ticks": ""
            },
            "colorscale": [
             [
              0,
              "#0d0887"
             ],
             [
              0.1111111111111111,
              "#46039f"
             ],
             [
              0.2222222222222222,
              "#7201a8"
             ],
             [
              0.3333333333333333,
              "#9c179e"
             ],
             [
              0.4444444444444444,
              "#bd3786"
             ],
             [
              0.5555555555555556,
              "#d8576b"
             ],
             [
              0.6666666666666666,
              "#ed7953"
             ],
             [
              0.7777777777777778,
              "#fb9f3a"
             ],
             [
              0.8888888888888888,
              "#fdca26"
             ],
             [
              1,
              "#f0f921"
             ]
            ],
            "type": "heatmap"
           }
          ],
          "histogram": [
           {
            "marker": {
             "pattern": {
              "fillmode": "overlay",
              "size": 10,
              "solidity": 0.2
             }
            },
            "type": "histogram"
           }
          ],
          "histogram2d": [
           {
            "colorbar": {
             "outlinewidth": 0,
             "ticks": ""
            },
            "colorscale": [
             [
              0,
              "#0d0887"
             ],
             [
              0.1111111111111111,
              "#46039f"
             ],
             [
              0.2222222222222222,
              "#7201a8"
             ],
             [
              0.3333333333333333,
              "#9c179e"
             ],
             [
              0.4444444444444444,
              "#bd3786"
             ],
             [
              0.5555555555555556,
              "#d8576b"
             ],
             [
              0.6666666666666666,
              "#ed7953"
             ],
             [
              0.7777777777777778,
              "#fb9f3a"
             ],
             [
              0.8888888888888888,
              "#fdca26"
             ],
             [
              1,
              "#f0f921"
             ]
            ],
            "type": "histogram2d"
           }
          ],
          "histogram2dcontour": [
           {
            "colorbar": {
             "outlinewidth": 0,
             "ticks": ""
            },
            "colorscale": [
             [
              0,
              "#0d0887"
             ],
             [
              0.1111111111111111,
              "#46039f"
             ],
             [
              0.2222222222222222,
              "#7201a8"
             ],
             [
              0.3333333333333333,
              "#9c179e"
             ],
             [
              0.4444444444444444,
              "#bd3786"
             ],
             [
              0.5555555555555556,
              "#d8576b"
             ],
             [
              0.6666666666666666,
              "#ed7953"
             ],
             [
              0.7777777777777778,
              "#fb9f3a"
             ],
             [
              0.8888888888888888,
              "#fdca26"
             ],
             [
              1,
              "#f0f921"
             ]
            ],
            "type": "histogram2dcontour"
           }
          ],
          "mesh3d": [
           {
            "colorbar": {
             "outlinewidth": 0,
             "ticks": ""
            },
            "type": "mesh3d"
           }
          ],
          "parcoords": [
           {
            "line": {
             "colorbar": {
              "outlinewidth": 0,
              "ticks": ""
             }
            },
            "type": "parcoords"
           }
          ],
          "pie": [
           {
            "automargin": true,
            "type": "pie"
           }
          ],
          "scatter": [
           {
            "fillpattern": {
             "fillmode": "overlay",
             "size": 10,
             "solidity": 0.2
            },
            "type": "scatter"
           }
          ],
          "scatter3d": [
           {
            "line": {
             "colorbar": {
              "outlinewidth": 0,
              "ticks": ""
             }
            },
            "marker": {
             "colorbar": {
              "outlinewidth": 0,
              "ticks": ""
             }
            },
            "type": "scatter3d"
           }
          ],
          "scattercarpet": [
           {
            "marker": {
             "colorbar": {
              "outlinewidth": 0,
              "ticks": ""
             }
            },
            "type": "scattercarpet"
           }
          ],
          "scattergeo": [
           {
            "marker": {
             "colorbar": {
              "outlinewidth": 0,
              "ticks": ""
             }
            },
            "type": "scattergeo"
           }
          ],
          "scattergl": [
           {
            "marker": {
             "colorbar": {
              "outlinewidth": 0,
              "ticks": ""
             }
            },
            "type": "scattergl"
           }
          ],
          "scattermap": [
           {
            "marker": {
             "colorbar": {
              "outlinewidth": 0,
              "ticks": ""
             }
            },
            "type": "scattermap"
           }
          ],
          "scattermapbox": [
           {
            "marker": {
             "colorbar": {
              "outlinewidth": 0,
              "ticks": ""
             }
            },
            "type": "scattermapbox"
           }
          ],
          "scatterpolar": [
           {
            "marker": {
             "colorbar": {
              "outlinewidth": 0,
              "ticks": ""
             }
            },
            "type": "scatterpolar"
           }
          ],
          "scatterpolargl": [
           {
            "marker": {
             "colorbar": {
              "outlinewidth": 0,
              "ticks": ""
             }
            },
            "type": "scatterpolargl"
           }
          ],
          "scatterternary": [
           {
            "marker": {
             "colorbar": {
              "outlinewidth": 0,
              "ticks": ""
             }
            },
            "type": "scatterternary"
           }
          ],
          "surface": [
           {
            "colorbar": {
             "outlinewidth": 0,
             "ticks": ""
            },
            "colorscale": [
             [
              0,
              "#0d0887"
             ],
             [
              0.1111111111111111,
              "#46039f"
             ],
             [
              0.2222222222222222,
              "#7201a8"
             ],
             [
              0.3333333333333333,
              "#9c179e"
             ],
             [
              0.4444444444444444,
              "#bd3786"
             ],
             [
              0.5555555555555556,
              "#d8576b"
             ],
             [
              0.6666666666666666,
              "#ed7953"
             ],
             [
              0.7777777777777778,
              "#fb9f3a"
             ],
             [
              0.8888888888888888,
              "#fdca26"
             ],
             [
              1,
              "#f0f921"
             ]
            ],
            "type": "surface"
           }
          ],
          "table": [
           {
            "cells": {
             "fill": {
              "color": "#EBF0F8"
             },
             "line": {
              "color": "white"
             }
            },
            "header": {
             "fill": {
              "color": "#C8D4E3"
             },
             "line": {
              "color": "white"
             }
            },
            "type": "table"
           }
          ]
         },
         "layout": {
          "annotationdefaults": {
           "arrowcolor": "#2a3f5f",
           "arrowhead": 0,
           "arrowwidth": 1
          },
          "autotypenumbers": "strict",
          "coloraxis": {
           "colorbar": {
            "outlinewidth": 0,
            "ticks": ""
           }
          },
          "colorscale": {
           "diverging": [
            [
             0,
             "#8e0152"
            ],
            [
             0.1,
             "#c51b7d"
            ],
            [
             0.2,
             "#de77ae"
            ],
            [
             0.3,
             "#f1b6da"
            ],
            [
             0.4,
             "#fde0ef"
            ],
            [
             0.5,
             "#f7f7f7"
            ],
            [
             0.6,
             "#e6f5d0"
            ],
            [
             0.7,
             "#b8e186"
            ],
            [
             0.8,
             "#7fbc41"
            ],
            [
             0.9,
             "#4d9221"
            ],
            [
             1,
             "#276419"
            ]
           ],
           "sequential": [
            [
             0,
             "#0d0887"
            ],
            [
             0.1111111111111111,
             "#46039f"
            ],
            [
             0.2222222222222222,
             "#7201a8"
            ],
            [
             0.3333333333333333,
             "#9c179e"
            ],
            [
             0.4444444444444444,
             "#bd3786"
            ],
            [
             0.5555555555555556,
             "#d8576b"
            ],
            [
             0.6666666666666666,
             "#ed7953"
            ],
            [
             0.7777777777777778,
             "#fb9f3a"
            ],
            [
             0.8888888888888888,
             "#fdca26"
            ],
            [
             1,
             "#f0f921"
            ]
           ],
           "sequentialminus": [
            [
             0,
             "#0d0887"
            ],
            [
             0.1111111111111111,
             "#46039f"
            ],
            [
             0.2222222222222222,
             "#7201a8"
            ],
            [
             0.3333333333333333,
             "#9c179e"
            ],
            [
             0.4444444444444444,
             "#bd3786"
            ],
            [
             0.5555555555555556,
             "#d8576b"
            ],
            [
             0.6666666666666666,
             "#ed7953"
            ],
            [
             0.7777777777777778,
             "#fb9f3a"
            ],
            [
             0.8888888888888888,
             "#fdca26"
            ],
            [
             1,
             "#f0f921"
            ]
           ]
          },
          "colorway": [
           "#636efa",
           "#EF553B",
           "#00cc96",
           "#ab63fa",
           "#FFA15A",
           "#19d3f3",
           "#FF6692",
           "#B6E880",
           "#FF97FF",
           "#FECB52"
          ],
          "font": {
           "color": "#2a3f5f"
          },
          "geo": {
           "bgcolor": "white",
           "lakecolor": "white",
           "landcolor": "white",
           "showlakes": true,
           "showland": true,
           "subunitcolor": "#C8D4E3"
          },
          "hoverlabel": {
           "align": "left"
          },
          "hovermode": "closest",
          "mapbox": {
           "style": "light"
          },
          "paper_bgcolor": "white",
          "plot_bgcolor": "white",
          "polar": {
           "angularaxis": {
            "gridcolor": "#EBF0F8",
            "linecolor": "#EBF0F8",
            "ticks": ""
           },
           "bgcolor": "white",
           "radialaxis": {
            "gridcolor": "#EBF0F8",
            "linecolor": "#EBF0F8",
            "ticks": ""
           }
          },
          "scene": {
           "xaxis": {
            "backgroundcolor": "white",
            "gridcolor": "#DFE8F3",
            "gridwidth": 2,
            "linecolor": "#EBF0F8",
            "showbackground": true,
            "ticks": "",
            "zerolinecolor": "#EBF0F8"
           },
           "yaxis": {
            "backgroundcolor": "white",
            "gridcolor": "#DFE8F3",
            "gridwidth": 2,
            "linecolor": "#EBF0F8",
            "showbackground": true,
            "ticks": "",
            "zerolinecolor": "#EBF0F8"
           },
           "zaxis": {
            "backgroundcolor": "white",
            "gridcolor": "#DFE8F3",
            "gridwidth": 2,
            "linecolor": "#EBF0F8",
            "showbackground": true,
            "ticks": "",
            "zerolinecolor": "#EBF0F8"
           }
          },
          "shapedefaults": {
           "line": {
            "color": "#2a3f5f"
           }
          },
          "ternary": {
           "aaxis": {
            "gridcolor": "#DFE8F3",
            "linecolor": "#A2B1C6",
            "ticks": ""
           },
           "baxis": {
            "gridcolor": "#DFE8F3",
            "linecolor": "#A2B1C6",
            "ticks": ""
           },
           "bgcolor": "white",
           "caxis": {
            "gridcolor": "#DFE8F3",
            "linecolor": "#A2B1C6",
            "ticks": ""
           }
          },
          "title": {
           "x": 0.05
          },
          "xaxis": {
           "automargin": true,
           "gridcolor": "#EBF0F8",
           "linecolor": "#EBF0F8",
           "ticks": "",
           "title": {
            "standoff": 15
           },
           "zerolinecolor": "#EBF0F8",
           "zerolinewidth": 2
          },
          "yaxis": {
           "automargin": true,
           "gridcolor": "#EBF0F8",
           "linecolor": "#EBF0F8",
           "ticks": "",
           "title": {
            "standoff": 15
           },
           "zerolinecolor": "#EBF0F8",
           "zerolinewidth": 2
          }
         }
        },
        "title": {
         "text": "Top 15 Países Receptores de Investigadores Científicos"
        },
        "xaxis": {
         "anchor": "y",
         "domain": [
          0,
          1
         ],
         "title": {
          "text": "Investigadores Recibidos"
         }
        },
        "yaxis": {
         "anchor": "x",
         "categoryorder": "total ascending",
         "domain": [
          0,
          1
         ],
         "title": {
          "text": "País Destino"
         }
        }
       }
      }
     },
     "metadata": {},
     "output_type": "display_data"
    }
   ],
   "source": [
    "# Agregación por país destino (receptores)\n",
    "top_receivers = df_flows.groupby('destination')['n_researchers'].sum().sort_values(ascending=False).reset_index()\n",
    "top_receivers.columns = ['country', 'total_immigrants']\n",
    "top_receivers['rank'] = range(1, len(top_receivers) + 1)\n",
    "\n",
    "print(f\"🟢 TOP 15 PAÍSES RECEPTORES DE CIENTÍFICOS (Brain Gain)\\n\" + \"=\"*70)\n",
    "display(top_receivers.head(15))\n",
    "\n",
    "# Visualización\n",
    "fig = px.bar(\n",
    "    top_receivers.head(15),\n",
    "    x='total_immigrants',\n",
    "    y='country',\n",
    "    orientation='h',\n",
    "    title='Top 15 Países Receptores de Investigadores Científicos',\n",
    "    labels={'total_immigrants': 'Investigadores Recibidos', 'country': 'País Destino'},\n",
    "    color='total_immigrants',\n",
    "    color_continuous_scale='Greens',\n",
    "    text='total_immigrants'\n",
    ")\n",
    "fig.update_traces(texttemplate='%{text:,.0f}', textposition='outside')\n",
    "fig.update_layout(height=500, showlegend=False, yaxis={'categoryorder':'total ascending'})\n",
    "fig.show()"
   ]
  },
  {
   "cell_type": "markdown",
   "id": "96646324",
   "metadata": {},
   "source": [
    "## 5. Saldo Migratorio Neto: Atractores vs. Exportadores\n",
    "\n",
    "Calculamos el **saldo neto** = (Inmigración - Emigración) para identificar países atractores y exportadores de talento científico."
   ]
  },
  {
   "cell_type": "code",
   "execution_count": 13,
   "id": "9138c0f7",
   "metadata": {},
   "outputs": [
    {
     "name": "stdout",
     "output_type": "stream",
     "text": [
      "⚖️  SALDO MIGRATORIO NETO\n",
      "======================================================================\n",
      "\n",
      "Top 10 Atractores (Brain Gain):\n"
     ]
    },
    {
     "data": {
      "text/html": [
       "<div>\n",
       "<style scoped>\n",
       "    .dataframe tbody tr th:only-of-type {\n",
       "        vertical-align: middle;\n",
       "    }\n",
       "\n",
       "    .dataframe tbody tr th {\n",
       "        vertical-align: top;\n",
       "    }\n",
       "\n",
       "    .dataframe thead th {\n",
       "        text-align: right;\n",
       "    }\n",
       "</style>\n",
       "<table border=\"1\" class=\"dataframe\">\n",
       "  <thead>\n",
       "    <tr style=\"text-align: right;\">\n",
       "      <th></th>\n",
       "      <th>country</th>\n",
       "      <th>immigration</th>\n",
       "      <th>emigration</th>\n",
       "      <th>net_balance</th>\n",
       "      <th>migration_ratio</th>\n",
       "    </tr>\n",
       "  </thead>\n",
       "  <tbody>\n",
       "    <tr>\n",
       "      <th>0</th>\n",
       "      <td>US</td>\n",
       "      <td>14547</td>\n",
       "      <td>7657</td>\n",
       "      <td>6890</td>\n",
       "      <td>1.90</td>\n",
       "    </tr>\n",
       "    <tr>\n",
       "      <th>1</th>\n",
       "      <td>AU</td>\n",
       "      <td>3823</td>\n",
       "      <td>1116</td>\n",
       "      <td>2707</td>\n",
       "      <td>3.43</td>\n",
       "    </tr>\n",
       "    <tr>\n",
       "      <th>2</th>\n",
       "      <td>GB</td>\n",
       "      <td>6651</td>\n",
       "      <td>5376</td>\n",
       "      <td>1275</td>\n",
       "      <td>1.24</td>\n",
       "    </tr>\n",
       "    <tr>\n",
       "      <th>3</th>\n",
       "      <td>SE</td>\n",
       "      <td>1743</td>\n",
       "      <td>514</td>\n",
       "      <td>1229</td>\n",
       "      <td>3.39</td>\n",
       "    </tr>\n",
       "    <tr>\n",
       "      <th>4</th>\n",
       "      <td>SA</td>\n",
       "      <td>1094</td>\n",
       "      <td>71</td>\n",
       "      <td>1023</td>\n",
       "      <td>15.41</td>\n",
       "    </tr>\n",
       "    <tr>\n",
       "      <th>5</th>\n",
       "      <td>DK</td>\n",
       "      <td>1145</td>\n",
       "      <td>283</td>\n",
       "      <td>862</td>\n",
       "      <td>4.05</td>\n",
       "    </tr>\n",
       "    <tr>\n",
       "      <th>6</th>\n",
       "      <td>MY</td>\n",
       "      <td>1074</td>\n",
       "      <td>269</td>\n",
       "      <td>805</td>\n",
       "      <td>3.99</td>\n",
       "    </tr>\n",
       "    <tr>\n",
       "      <th>7</th>\n",
       "      <td>CH</td>\n",
       "      <td>1355</td>\n",
       "      <td>574</td>\n",
       "      <td>781</td>\n",
       "      <td>2.36</td>\n",
       "    </tr>\n",
       "    <tr>\n",
       "      <th>8</th>\n",
       "      <td>QA</td>\n",
       "      <td>589</td>\n",
       "      <td>11</td>\n",
       "      <td>578</td>\n",
       "      <td>53.55</td>\n",
       "    </tr>\n",
       "    <tr>\n",
       "      <th>9</th>\n",
       "      <td>SG</td>\n",
       "      <td>774</td>\n",
       "      <td>244</td>\n",
       "      <td>530</td>\n",
       "      <td>3.17</td>\n",
       "    </tr>\n",
       "  </tbody>\n",
       "</table>\n",
       "</div>"
      ],
      "text/plain": [
       "  country  immigration  emigration  net_balance  migration_ratio\n",
       "0      US        14547        7657         6890             1.90\n",
       "1      AU         3823        1116         2707             3.43\n",
       "2      GB         6651        5376         1275             1.24\n",
       "3      SE         1743         514         1229             3.39\n",
       "4      SA         1094          71         1023            15.41\n",
       "5      DK         1145         283          862             4.05\n",
       "6      MY         1074         269          805             3.99\n",
       "7      CH         1355         574          781             2.36\n",
       "8      QA          589          11          578            53.55\n",
       "9      SG          774         244          530             3.17"
      ]
     },
     "metadata": {},
     "output_type": "display_data"
    },
    {
     "name": "stdout",
     "output_type": "stream",
     "text": [
      "\n",
      "Top 10 Exportadores (Brain Drain):\n"
     ]
    },
    {
     "data": {
      "text/html": [
       "<div>\n",
       "<style scoped>\n",
       "    .dataframe tbody tr th:only-of-type {\n",
       "        vertical-align: middle;\n",
       "    }\n",
       "\n",
       "    .dataframe tbody tr th {\n",
       "        vertical-align: top;\n",
       "    }\n",
       "\n",
       "    .dataframe thead th {\n",
       "        text-align: right;\n",
       "    }\n",
       "</style>\n",
       "<table border=\"1\" class=\"dataframe\">\n",
       "  <thead>\n",
       "    <tr style=\"text-align: right;\">\n",
       "      <th></th>\n",
       "      <th>country</th>\n",
       "      <th>immigration</th>\n",
       "      <th>emigration</th>\n",
       "      <th>net_balance</th>\n",
       "      <th>migration_ratio</th>\n",
       "    </tr>\n",
       "  </thead>\n",
       "  <tbody>\n",
       "    <tr>\n",
       "      <th>219</th>\n",
       "      <td>BD</td>\n",
       "      <td>105</td>\n",
       "      <td>481</td>\n",
       "      <td>-376</td>\n",
       "      <td>0.22</td>\n",
       "    </tr>\n",
       "    <tr>\n",
       "      <th>220</th>\n",
       "      <td>PK</td>\n",
       "      <td>219</td>\n",
       "      <td>676</td>\n",
       "      <td>-457</td>\n",
       "      <td>0.32</td>\n",
       "    </tr>\n",
       "    <tr>\n",
       "      <th>221</th>\n",
       "      <td>DE</td>\n",
       "      <td>2260</td>\n",
       "      <td>2838</td>\n",
       "      <td>-578</td>\n",
       "      <td>0.80</td>\n",
       "    </tr>\n",
       "    <tr>\n",
       "      <th>222</th>\n",
       "      <td>GR</td>\n",
       "      <td>175</td>\n",
       "      <td>881</td>\n",
       "      <td>-706</td>\n",
       "      <td>0.20</td>\n",
       "    </tr>\n",
       "    <tr>\n",
       "      <th>223</th>\n",
       "      <td>FR</td>\n",
       "      <td>1453</td>\n",
       "      <td>2280</td>\n",
       "      <td>-827</td>\n",
       "      <td>0.64</td>\n",
       "    </tr>\n",
       "    <tr>\n",
       "      <th>224</th>\n",
       "      <td>IR</td>\n",
       "      <td>304</td>\n",
       "      <td>1213</td>\n",
       "      <td>-909</td>\n",
       "      <td>0.25</td>\n",
       "    </tr>\n",
       "    <tr>\n",
       "      <th>225</th>\n",
       "      <td>RU</td>\n",
       "      <td>330</td>\n",
       "      <td>1417</td>\n",
       "      <td>-1087</td>\n",
       "      <td>0.23</td>\n",
       "    </tr>\n",
       "    <tr>\n",
       "      <th>226</th>\n",
       "      <td>IT</td>\n",
       "      <td>956</td>\n",
       "      <td>2351</td>\n",
       "      <td>-1395</td>\n",
       "      <td>0.41</td>\n",
       "    </tr>\n",
       "    <tr>\n",
       "      <th>227</th>\n",
       "      <td>IN</td>\n",
       "      <td>373</td>\n",
       "      <td>4559</td>\n",
       "      <td>-4186</td>\n",
       "      <td>0.08</td>\n",
       "    </tr>\n",
       "    <tr>\n",
       "      <th>228</th>\n",
       "      <td>CN</td>\n",
       "      <td>1209</td>\n",
       "      <td>6187</td>\n",
       "      <td>-4978</td>\n",
       "      <td>0.20</td>\n",
       "    </tr>\n",
       "  </tbody>\n",
       "</table>\n",
       "</div>"
      ],
      "text/plain": [
       "    country  immigration  emigration  net_balance  migration_ratio\n",
       "219      BD          105         481         -376             0.22\n",
       "220      PK          219         676         -457             0.32\n",
       "221      DE         2260        2838         -578             0.80\n",
       "222      GR          175         881         -706             0.20\n",
       "223      FR         1453        2280         -827             0.64\n",
       "224      IR          304        1213         -909             0.25\n",
       "225      RU          330        1417        -1087             0.23\n",
       "226      IT          956        2351        -1395             0.41\n",
       "227      IN          373        4559        -4186             0.08\n",
       "228      CN         1209        6187        -4978             0.20"
      ]
     },
     "metadata": {},
     "output_type": "display_data"
    }
   ],
   "source": [
    "# Calcular inmigración y emigración por país\n",
    "immigration = df_flows.groupby('destination')['n_researchers'].sum().reset_index()\n",
    "immigration.columns = ['country', 'immigration']\n",
    "\n",
    "emigration = df_flows.groupby('origin')['n_researchers'].sum().reset_index()\n",
    "emigration.columns = ['country', 'emigration']\n",
    "\n",
    "# Merge y calcular saldo neto\n",
    "net_migration = immigration.merge(emigration, on='country', how='outer').fillna(0)\n",
    "net_migration['net_balance'] = net_migration['immigration'] - net_migration['emigration']\n",
    "net_migration['total_flow'] = net_migration['immigration'] + net_migration['emigration']\n",
    "net_migration['migration_ratio'] = np.where(\n",
    "    net_migration['emigration'] > 0,\n",
    "    net_migration['immigration'] / net_migration['emigration'],\n",
    "    np.inf\n",
    ")\n",
    "\n",
    "# Clasificar países\n",
    "net_migration['type'] = np.where(\n",
    "    net_migration['net_balance'] > 0, 'Atractor', 'Exportador'\n",
    ")\n",
    "\n",
    "net_migration = net_migration.sort_values('net_balance', ascending=False).reset_index(drop=True)\n",
    "\n",
    "print(f\"⚖️  SALDO MIGRATORIO NETO\\n\" + \"=\"*70)\n",
    "print(f\"\\nTop 10 Atractores (Brain Gain):\")\n",
    "display(net_migration[\n",
    "    ['country', 'immigration', 'emigration', 'net_balance', 'migration_ratio']\n",
    "].head(10))\n",
    "\n",
    "print(f\"\\nTop 10 Exportadores (Brain Drain):\")\n",
    "display(net_migration[\n",
    "    ['country', 'immigration', 'emigration', 'net_balance', 'migration_ratio']\n",
    "].tail(10))"
   ]
  },
  {
   "cell_type": "code",
   "execution_count": 14,
   "id": "a0ba5465",
   "metadata": {},
   "outputs": [
    {
     "data": {
      "application/vnd.plotly.v1+json": {
       "config": {
        "plotlyServerURL": "https://plot.ly"
       },
       "data": [
        {
         "hovertemplate": "Saldo Neto (Inmigración - Emigración)=%{marker.color}<br>País=%{y}<extra></extra>",
         "legendgroup": "",
         "marker": {
          "color": {
           "bdata": "6hqTCvsEzQT/A14DJQMNA0ICEgLwAdcBwgFZAUsBBwEAAeMA2wDDABP/EP8E//n+8/7c/s3+v/60/pz+iP43/r79Pv3F/HP8wfuN+qbvjuw=",
           "dtype": "i2"
          },
          "coloraxis": "coloraxis",
          "pattern": {
           "shape": ""
          }
         },
         "name": "",
         "orientation": "h",
         "showlegend": false,
         "text": {
          "bdata": "AAAAAADqukAAAAAAACalQAAAAAAA7JNAAAAAAAA0k0AAAAAAAPiPQAAAAAAA8IpAAAAAAAAoiUAAAAAAAGiIQAAAAAAAEIJAAAAAAACQgEAAAAAAAAB/QAAAAAAAcH1AAAAAAAAgfEAAAAAAAJB1QAAAAAAAsHRAAAAAAABwcEAAAAAAAABwQAAAAAAAYGxAAAAAAABga0AAAAAAAGBoQAAAAAAAoG3AAAAAAAAAbsAAAAAAAIBvwAAAAAAAcHDAAAAAAADQcMAAAAAAAEBywAAAAAAAMHPAAAAAAAAQdMAAAAAAAMB0wAAAAAAAQHbAAAAAAACAd8AAAAAAAJB8wAAAAAAAEILAAAAAAAAQhsAAAAAAANiJwAAAAAAAaIzAAAAAAAD8kMAAAAAAAMyVwAAAAAAAWrDAAAAAAABys8A=",
          "dtype": "f8"
         },
         "textposition": "outside",
         "texttemplate": "%{text:,.0f}",
         "type": "bar",
         "x": {
          "bdata": "6hqTCvsEzQT/A14DJQMNA0ICEgLwAdcBwgFZAUsBBwEAAeMA2wDDABP/EP8E//n+8/7c/s3+v/60/pz+iP43/r79Pv3F/HP8wfuN+qbvjuw=",
          "dtype": "i2"
         },
         "xaxis": "x",
         "y": [
          "US",
          "AU",
          "GB",
          "SE",
          "SA",
          "DK",
          "MY",
          "CH",
          "QA",
          "SG",
          "KR",
          "PT",
          "TW",
          "AE",
          "NO",
          "AT",
          "HK",
          "FI",
          "NZ",
          "CY",
          "VE",
          "AR",
          "JP",
          "CU",
          "UA",
          "CO",
          "NG",
          "RO",
          "EG",
          "PL",
          "BD",
          "PK",
          "DE",
          "GR",
          "FR",
          "IR",
          "RU",
          "IT",
          "IN",
          "CN"
         ],
         "yaxis": "y"
        }
       ],
       "layout": {
        "annotations": [
         {
          "showarrow": false,
          "text": "Balance = 0",
          "x": 0,
          "xanchor": "left",
          "xref": "x",
          "y": 1,
          "yanchor": "top",
          "yref": "y domain"
         }
        ],
        "barmode": "relative",
        "coloraxis": {
         "cmid": 0,
         "colorbar": {
          "title": {
           "text": "Saldo Neto (Inmigración - Emigración)"
          }
         },
         "colorscale": [
          [
           0,
           "rgb(165,0,38)"
          ],
          [
           0.1,
           "rgb(215,48,39)"
          ],
          [
           0.2,
           "rgb(244,109,67)"
          ],
          [
           0.3,
           "rgb(253,174,97)"
          ],
          [
           0.4,
           "rgb(254,224,139)"
          ],
          [
           0.5,
           "rgb(255,255,191)"
          ],
          [
           0.6,
           "rgb(217,239,139)"
          ],
          [
           0.7,
           "rgb(166,217,106)"
          ],
          [
           0.8,
           "rgb(102,189,99)"
          ],
          [
           0.9,
           "rgb(26,152,80)"
          ],
          [
           1,
           "rgb(0,104,55)"
          ]
         ]
        },
        "height": 700,
        "legend": {
         "tracegroupgap": 0
        },
        "shapes": [
         {
          "line": {
           "color": "gray",
           "dash": "dash"
          },
          "type": "line",
          "x0": 0,
          "x1": 0,
          "xref": "x",
          "y0": 0,
          "y1": 1,
          "yref": "y domain"
         }
        ],
        "showlegend": false,
        "template": {
         "data": {
          "bar": [
           {
            "error_x": {
             "color": "#2a3f5f"
            },
            "error_y": {
             "color": "#2a3f5f"
            },
            "marker": {
             "line": {
              "color": "white",
              "width": 0.5
             },
             "pattern": {
              "fillmode": "overlay",
              "size": 10,
              "solidity": 0.2
             }
            },
            "type": "bar"
           }
          ],
          "barpolar": [
           {
            "marker": {
             "line": {
              "color": "white",
              "width": 0.5
             },
             "pattern": {
              "fillmode": "overlay",
              "size": 10,
              "solidity": 0.2
             }
            },
            "type": "barpolar"
           }
          ],
          "carpet": [
           {
            "aaxis": {
             "endlinecolor": "#2a3f5f",
             "gridcolor": "#C8D4E3",
             "linecolor": "#C8D4E3",
             "minorgridcolor": "#C8D4E3",
             "startlinecolor": "#2a3f5f"
            },
            "baxis": {
             "endlinecolor": "#2a3f5f",
             "gridcolor": "#C8D4E3",
             "linecolor": "#C8D4E3",
             "minorgridcolor": "#C8D4E3",
             "startlinecolor": "#2a3f5f"
            },
            "type": "carpet"
           }
          ],
          "choropleth": [
           {
            "colorbar": {
             "outlinewidth": 0,
             "ticks": ""
            },
            "type": "choropleth"
           }
          ],
          "contour": [
           {
            "colorbar": {
             "outlinewidth": 0,
             "ticks": ""
            },
            "colorscale": [
             [
              0,
              "#0d0887"
             ],
             [
              0.1111111111111111,
              "#46039f"
             ],
             [
              0.2222222222222222,
              "#7201a8"
             ],
             [
              0.3333333333333333,
              "#9c179e"
             ],
             [
              0.4444444444444444,
              "#bd3786"
             ],
             [
              0.5555555555555556,
              "#d8576b"
             ],
             [
              0.6666666666666666,
              "#ed7953"
             ],
             [
              0.7777777777777778,
              "#fb9f3a"
             ],
             [
              0.8888888888888888,
              "#fdca26"
             ],
             [
              1,
              "#f0f921"
             ]
            ],
            "type": "contour"
           }
          ],
          "contourcarpet": [
           {
            "colorbar": {
             "outlinewidth": 0,
             "ticks": ""
            },
            "type": "contourcarpet"
           }
          ],
          "heatmap": [
           {
            "colorbar": {
             "outlinewidth": 0,
             "ticks": ""
            },
            "colorscale": [
             [
              0,
              "#0d0887"
             ],
             [
              0.1111111111111111,
              "#46039f"
             ],
             [
              0.2222222222222222,
              "#7201a8"
             ],
             [
              0.3333333333333333,
              "#9c179e"
             ],
             [
              0.4444444444444444,
              "#bd3786"
             ],
             [
              0.5555555555555556,
              "#d8576b"
             ],
             [
              0.6666666666666666,
              "#ed7953"
             ],
             [
              0.7777777777777778,
              "#fb9f3a"
             ],
             [
              0.8888888888888888,
              "#fdca26"
             ],
             [
              1,
              "#f0f921"
             ]
            ],
            "type": "heatmap"
           }
          ],
          "histogram": [
           {
            "marker": {
             "pattern": {
              "fillmode": "overlay",
              "size": 10,
              "solidity": 0.2
             }
            },
            "type": "histogram"
           }
          ],
          "histogram2d": [
           {
            "colorbar": {
             "outlinewidth": 0,
             "ticks": ""
            },
            "colorscale": [
             [
              0,
              "#0d0887"
             ],
             [
              0.1111111111111111,
              "#46039f"
             ],
             [
              0.2222222222222222,
              "#7201a8"
             ],
             [
              0.3333333333333333,
              "#9c179e"
             ],
             [
              0.4444444444444444,
              "#bd3786"
             ],
             [
              0.5555555555555556,
              "#d8576b"
             ],
             [
              0.6666666666666666,
              "#ed7953"
             ],
             [
              0.7777777777777778,
              "#fb9f3a"
             ],
             [
              0.8888888888888888,
              "#fdca26"
             ],
             [
              1,
              "#f0f921"
             ]
            ],
            "type": "histogram2d"
           }
          ],
          "histogram2dcontour": [
           {
            "colorbar": {
             "outlinewidth": 0,
             "ticks": ""
            },
            "colorscale": [
             [
              0,
              "#0d0887"
             ],
             [
              0.1111111111111111,
              "#46039f"
             ],
             [
              0.2222222222222222,
              "#7201a8"
             ],
             [
              0.3333333333333333,
              "#9c179e"
             ],
             [
              0.4444444444444444,
              "#bd3786"
             ],
             [
              0.5555555555555556,
              "#d8576b"
             ],
             [
              0.6666666666666666,
              "#ed7953"
             ],
             [
              0.7777777777777778,
              "#fb9f3a"
             ],
             [
              0.8888888888888888,
              "#fdca26"
             ],
             [
              1,
              "#f0f921"
             ]
            ],
            "type": "histogram2dcontour"
           }
          ],
          "mesh3d": [
           {
            "colorbar": {
             "outlinewidth": 0,
             "ticks": ""
            },
            "type": "mesh3d"
           }
          ],
          "parcoords": [
           {
            "line": {
             "colorbar": {
              "outlinewidth": 0,
              "ticks": ""
             }
            },
            "type": "parcoords"
           }
          ],
          "pie": [
           {
            "automargin": true,
            "type": "pie"
           }
          ],
          "scatter": [
           {
            "fillpattern": {
             "fillmode": "overlay",
             "size": 10,
             "solidity": 0.2
            },
            "type": "scatter"
           }
          ],
          "scatter3d": [
           {
            "line": {
             "colorbar": {
              "outlinewidth": 0,
              "ticks": ""
             }
            },
            "marker": {
             "colorbar": {
              "outlinewidth": 0,
              "ticks": ""
             }
            },
            "type": "scatter3d"
           }
          ],
          "scattercarpet": [
           {
            "marker": {
             "colorbar": {
              "outlinewidth": 0,
              "ticks": ""
             }
            },
            "type": "scattercarpet"
           }
          ],
          "scattergeo": [
           {
            "marker": {
             "colorbar": {
              "outlinewidth": 0,
              "ticks": ""
             }
            },
            "type": "scattergeo"
           }
          ],
          "scattergl": [
           {
            "marker": {
             "colorbar": {
              "outlinewidth": 0,
              "ticks": ""
             }
            },
            "type": "scattergl"
           }
          ],
          "scattermap": [
           {
            "marker": {
             "colorbar": {
              "outlinewidth": 0,
              "ticks": ""
             }
            },
            "type": "scattermap"
           }
          ],
          "scattermapbox": [
           {
            "marker": {
             "colorbar": {
              "outlinewidth": 0,
              "ticks": ""
             }
            },
            "type": "scattermapbox"
           }
          ],
          "scatterpolar": [
           {
            "marker": {
             "colorbar": {
              "outlinewidth": 0,
              "ticks": ""
             }
            },
            "type": "scatterpolar"
           }
          ],
          "scatterpolargl": [
           {
            "marker": {
             "colorbar": {
              "outlinewidth": 0,
              "ticks": ""
             }
            },
            "type": "scatterpolargl"
           }
          ],
          "scatterternary": [
           {
            "marker": {
             "colorbar": {
              "outlinewidth": 0,
              "ticks": ""
             }
            },
            "type": "scatterternary"
           }
          ],
          "surface": [
           {
            "colorbar": {
             "outlinewidth": 0,
             "ticks": ""
            },
            "colorscale": [
             [
              0,
              "#0d0887"
             ],
             [
              0.1111111111111111,
              "#46039f"
             ],
             [
              0.2222222222222222,
              "#7201a8"
             ],
             [
              0.3333333333333333,
              "#9c179e"
             ],
             [
              0.4444444444444444,
              "#bd3786"
             ],
             [
              0.5555555555555556,
              "#d8576b"
             ],
             [
              0.6666666666666666,
              "#ed7953"
             ],
             [
              0.7777777777777778,
              "#fb9f3a"
             ],
             [
              0.8888888888888888,
              "#fdca26"
             ],
             [
              1,
              "#f0f921"
             ]
            ],
            "type": "surface"
           }
          ],
          "table": [
           {
            "cells": {
             "fill": {
              "color": "#EBF0F8"
             },
             "line": {
              "color": "white"
             }
            },
            "header": {
             "fill": {
              "color": "#C8D4E3"
             },
             "line": {
              "color": "white"
             }
            },
            "type": "table"
           }
          ]
         },
         "layout": {
          "annotationdefaults": {
           "arrowcolor": "#2a3f5f",
           "arrowhead": 0,
           "arrowwidth": 1
          },
          "autotypenumbers": "strict",
          "coloraxis": {
           "colorbar": {
            "outlinewidth": 0,
            "ticks": ""
           }
          },
          "colorscale": {
           "diverging": [
            [
             0,
             "#8e0152"
            ],
            [
             0.1,
             "#c51b7d"
            ],
            [
             0.2,
             "#de77ae"
            ],
            [
             0.3,
             "#f1b6da"
            ],
            [
             0.4,
             "#fde0ef"
            ],
            [
             0.5,
             "#f7f7f7"
            ],
            [
             0.6,
             "#e6f5d0"
            ],
            [
             0.7,
             "#b8e186"
            ],
            [
             0.8,
             "#7fbc41"
            ],
            [
             0.9,
             "#4d9221"
            ],
            [
             1,
             "#276419"
            ]
           ],
           "sequential": [
            [
             0,
             "#0d0887"
            ],
            [
             0.1111111111111111,
             "#46039f"
            ],
            [
             0.2222222222222222,
             "#7201a8"
            ],
            [
             0.3333333333333333,
             "#9c179e"
            ],
            [
             0.4444444444444444,
             "#bd3786"
            ],
            [
             0.5555555555555556,
             "#d8576b"
            ],
            [
             0.6666666666666666,
             "#ed7953"
            ],
            [
             0.7777777777777778,
             "#fb9f3a"
            ],
            [
             0.8888888888888888,
             "#fdca26"
            ],
            [
             1,
             "#f0f921"
            ]
           ],
           "sequentialminus": [
            [
             0,
             "#0d0887"
            ],
            [
             0.1111111111111111,
             "#46039f"
            ],
            [
             0.2222222222222222,
             "#7201a8"
            ],
            [
             0.3333333333333333,
             "#9c179e"
            ],
            [
             0.4444444444444444,
             "#bd3786"
            ],
            [
             0.5555555555555556,
             "#d8576b"
            ],
            [
             0.6666666666666666,
             "#ed7953"
            ],
            [
             0.7777777777777778,
             "#fb9f3a"
            ],
            [
             0.8888888888888888,
             "#fdca26"
            ],
            [
             1,
             "#f0f921"
            ]
           ]
          },
          "colorway": [
           "#636efa",
           "#EF553B",
           "#00cc96",
           "#ab63fa",
           "#FFA15A",
           "#19d3f3",
           "#FF6692",
           "#B6E880",
           "#FF97FF",
           "#FECB52"
          ],
          "font": {
           "color": "#2a3f5f"
          },
          "geo": {
           "bgcolor": "white",
           "lakecolor": "white",
           "landcolor": "white",
           "showlakes": true,
           "showland": true,
           "subunitcolor": "#C8D4E3"
          },
          "hoverlabel": {
           "align": "left"
          },
          "hovermode": "closest",
          "mapbox": {
           "style": "light"
          },
          "paper_bgcolor": "white",
          "plot_bgcolor": "white",
          "polar": {
           "angularaxis": {
            "gridcolor": "#EBF0F8",
            "linecolor": "#EBF0F8",
            "ticks": ""
           },
           "bgcolor": "white",
           "radialaxis": {
            "gridcolor": "#EBF0F8",
            "linecolor": "#EBF0F8",
            "ticks": ""
           }
          },
          "scene": {
           "xaxis": {
            "backgroundcolor": "white",
            "gridcolor": "#DFE8F3",
            "gridwidth": 2,
            "linecolor": "#EBF0F8",
            "showbackground": true,
            "ticks": "",
            "zerolinecolor": "#EBF0F8"
           },
           "yaxis": {
            "backgroundcolor": "white",
            "gridcolor": "#DFE8F3",
            "gridwidth": 2,
            "linecolor": "#EBF0F8",
            "showbackground": true,
            "ticks": "",
            "zerolinecolor": "#EBF0F8"
           },
           "zaxis": {
            "backgroundcolor": "white",
            "gridcolor": "#DFE8F3",
            "gridwidth": 2,
            "linecolor": "#EBF0F8",
            "showbackground": true,
            "ticks": "",
            "zerolinecolor": "#EBF0F8"
           }
          },
          "shapedefaults": {
           "line": {
            "color": "#2a3f5f"
           }
          },
          "ternary": {
           "aaxis": {
            "gridcolor": "#DFE8F3",
            "linecolor": "#A2B1C6",
            "ticks": ""
           },
           "baxis": {
            "gridcolor": "#DFE8F3",
            "linecolor": "#A2B1C6",
            "ticks": ""
           },
           "bgcolor": "white",
           "caxis": {
            "gridcolor": "#DFE8F3",
            "linecolor": "#A2B1C6",
            "ticks": ""
           }
          },
          "title": {
           "x": 0.05
          },
          "xaxis": {
           "automargin": true,
           "gridcolor": "#EBF0F8",
           "linecolor": "#EBF0F8",
           "ticks": "",
           "title": {
            "standoff": 15
           },
           "zerolinecolor": "#EBF0F8",
           "zerolinewidth": 2
          },
          "yaxis": {
           "automargin": true,
           "gridcolor": "#EBF0F8",
           "linecolor": "#EBF0F8",
           "ticks": "",
           "title": {
            "standoff": 15
           },
           "zerolinecolor": "#EBF0F8",
           "zerolinewidth": 2
          }
         }
        },
        "title": {
         "text": "Saldo Migratorio Neto: Top 20 Atractores y Exportadores"
        },
        "xaxis": {
         "anchor": "y",
         "domain": [
          0,
          1
         ],
         "title": {
          "text": "Saldo Neto (Inmigración - Emigración)"
         }
        },
        "yaxis": {
         "anchor": "x",
         "categoryorder": "total ascending",
         "domain": [
          0,
          1
         ],
         "title": {
          "text": "País"
         }
        }
       }
      }
     },
     "metadata": {},
     "output_type": "display_data"
    }
   ],
   "source": [
    "# Visualización del saldo neto (top 20 atractores y exportadores)\n",
    "top_attractors = net_migration.head(20).copy()\n",
    "top_exporters = net_migration.tail(20).copy()\n",
    "viz_data = pd.concat([top_attractors, top_exporters])\n",
    "\n",
    "fig = px.bar(\n",
    "    viz_data,\n",
    "    x='net_balance',\n",
    "    y='country',\n",
    "    orientation='h',\n",
    "    title='Saldo Migratorio Neto: Top 20 Atractores y Exportadores',\n",
    "    labels={'net_balance': 'Saldo Neto (Inmigración - Emigración)', 'country': 'País'},\n",
    "    color='net_balance',\n",
    "    color_continuous_scale='RdYlGn',\n",
    "    color_continuous_midpoint=0,\n",
    "    text='net_balance'\n",
    ")\n",
    "fig.update_traces(texttemplate='%{text:,.0f}', textposition='outside')\n",
    "fig.update_layout(\n",
    "    height=700,\n",
    "    yaxis={'categoryorder':'total ascending'},\n",
    "    showlegend=False\n",
    ")\n",
    "fig.add_vline(x=0, line_dash=\"dash\", line_color=\"gray\", annotation_text=\"Balance = 0\")\n",
    "fig.show()"
   ]
  },
  {
   "cell_type": "markdown",
   "id": "f1fde05f",
   "metadata": {},
   "source": [
    "## 6. Análisis de Corredores Migratorios\n",
    "\n",
    "Identificamos los **corredores bilaterales** más importantes (rutas específicas origen→destino)."
   ]
  },
  {
   "cell_type": "code",
   "execution_count": 15,
   "id": "8d78be88",
   "metadata": {},
   "outputs": [
    {
     "name": "stdout",
     "output_type": "stream",
     "text": [
      "🛤️  TOP 20 CORREDORES MIGRATORIOS\n",
      "======================================================================\n"
     ]
    },
    {
     "data": {
      "text/html": [
       "<div>\n",
       "<style scoped>\n",
       "    .dataframe tbody tr th:only-of-type {\n",
       "        vertical-align: middle;\n",
       "    }\n",
       "\n",
       "    .dataframe tbody tr th {\n",
       "        vertical-align: top;\n",
       "    }\n",
       "\n",
       "    .dataframe thead th {\n",
       "        text-align: right;\n",
       "    }\n",
       "</style>\n",
       "<table border=\"1\" class=\"dataframe\">\n",
       "  <thead>\n",
       "    <tr style=\"text-align: right;\">\n",
       "      <th></th>\n",
       "      <th>route</th>\n",
       "      <th>origin</th>\n",
       "      <th>destination</th>\n",
       "      <th>n_researchers</th>\n",
       "      <th>phd_year_mean</th>\n",
       "      <th>origin_year_mean</th>\n",
       "    </tr>\n",
       "  </thead>\n",
       "  <tbody>\n",
       "    <tr>\n",
       "      <th>0</th>\n",
       "      <td>CN → US</td>\n",
       "      <td>CN</td>\n",
       "      <td>US</td>\n",
       "      <td>3508</td>\n",
       "      <td>2011</td>\n",
       "      <td>2000</td>\n",
       "    </tr>\n",
       "    <tr>\n",
       "      <th>1</th>\n",
       "      <td>IN → US</td>\n",
       "      <td>IN</td>\n",
       "      <td>US</td>\n",
       "      <td>1916</td>\n",
       "      <td>2009</td>\n",
       "      <td>1998</td>\n",
       "    </tr>\n",
       "    <tr>\n",
       "      <th>2</th>\n",
       "      <td>CA → US</td>\n",
       "      <td>CA</td>\n",
       "      <td>US</td>\n",
       "      <td>1029</td>\n",
       "      <td>2004</td>\n",
       "      <td>1995</td>\n",
       "    </tr>\n",
       "    <tr>\n",
       "      <th>3</th>\n",
       "      <td>GB → US</td>\n",
       "      <td>GB</td>\n",
       "      <td>US</td>\n",
       "      <td>940</td>\n",
       "      <td>2000</td>\n",
       "      <td>1992</td>\n",
       "    </tr>\n",
       "    <tr>\n",
       "      <th>4</th>\n",
       "      <td>US → GB</td>\n",
       "      <td>US</td>\n",
       "      <td>GB</td>\n",
       "      <td>786</td>\n",
       "      <td>2006</td>\n",
       "      <td>1997</td>\n",
       "    </tr>\n",
       "    <tr>\n",
       "      <th>5</th>\n",
       "      <td>GB → AU</td>\n",
       "      <td>GB</td>\n",
       "      <td>AU</td>\n",
       "      <td>719</td>\n",
       "      <td>2000</td>\n",
       "      <td>1991</td>\n",
       "    </tr>\n",
       "    <tr>\n",
       "      <th>6</th>\n",
       "      <td>US → KR</td>\n",
       "      <td>US</td>\n",
       "      <td>KR</td>\n",
       "      <td>709</td>\n",
       "      <td>2000</td>\n",
       "      <td>1995</td>\n",
       "    </tr>\n",
       "    <tr>\n",
       "      <th>7</th>\n",
       "      <td>US → CA</td>\n",
       "      <td>US</td>\n",
       "      <td>CA</td>\n",
       "      <td>616</td>\n",
       "      <td>2001</td>\n",
       "      <td>1993</td>\n",
       "    </tr>\n",
       "    <tr>\n",
       "      <th>8</th>\n",
       "      <td>US → TW</td>\n",
       "      <td>US</td>\n",
       "      <td>TW</td>\n",
       "      <td>610</td>\n",
       "      <td>1997</td>\n",
       "      <td>1992</td>\n",
       "    </tr>\n",
       "    <tr>\n",
       "      <th>9</th>\n",
       "      <td>KR → US</td>\n",
       "      <td>KR</td>\n",
       "      <td>US</td>\n",
       "      <td>562</td>\n",
       "      <td>2010</td>\n",
       "      <td>1997</td>\n",
       "    </tr>\n",
       "    <tr>\n",
       "      <th>10</th>\n",
       "      <td>IT → GB</td>\n",
       "      <td>IT</td>\n",
       "      <td>GB</td>\n",
       "      <td>507</td>\n",
       "      <td>2011</td>\n",
       "      <td>2001</td>\n",
       "    </tr>\n",
       "    <tr>\n",
       "      <th>11</th>\n",
       "      <td>DE → US</td>\n",
       "      <td>DE</td>\n",
       "      <td>US</td>\n",
       "      <td>480</td>\n",
       "      <td>2004</td>\n",
       "      <td>1996</td>\n",
       "    </tr>\n",
       "    <tr>\n",
       "      <th>12</th>\n",
       "      <td>US → AU</td>\n",
       "      <td>US</td>\n",
       "      <td>AU</td>\n",
       "      <td>468</td>\n",
       "      <td>2003</td>\n",
       "      <td>1994</td>\n",
       "    </tr>\n",
       "    <tr>\n",
       "      <th>13</th>\n",
       "      <td>CN → GB</td>\n",
       "      <td>CN</td>\n",
       "      <td>GB</td>\n",
       "      <td>440</td>\n",
       "      <td>2009</td>\n",
       "      <td>1999</td>\n",
       "    </tr>\n",
       "    <tr>\n",
       "      <th>14</th>\n",
       "      <td>CN → AU</td>\n",
       "      <td>CN</td>\n",
       "      <td>AU</td>\n",
       "      <td>423</td>\n",
       "      <td>2010</td>\n",
       "      <td>1999</td>\n",
       "    </tr>\n",
       "    <tr>\n",
       "      <th>15</th>\n",
       "      <td>DE → GB</td>\n",
       "      <td>DE</td>\n",
       "      <td>GB</td>\n",
       "      <td>396</td>\n",
       "      <td>2008</td>\n",
       "      <td>1998</td>\n",
       "    </tr>\n",
       "    <tr>\n",
       "      <th>16</th>\n",
       "      <td>IR → US</td>\n",
       "      <td>IR</td>\n",
       "      <td>US</td>\n",
       "      <td>367</td>\n",
       "      <td>2014</td>\n",
       "      <td>2002</td>\n",
       "    </tr>\n",
       "    <tr>\n",
       "      <th>17</th>\n",
       "      <td>US → CN</td>\n",
       "      <td>US</td>\n",
       "      <td>CN</td>\n",
       "      <td>345</td>\n",
       "      <td>2004</td>\n",
       "      <td>1999</td>\n",
       "    </tr>\n",
       "    <tr>\n",
       "      <th>18</th>\n",
       "      <td>ES → GB</td>\n",
       "      <td>ES</td>\n",
       "      <td>GB</td>\n",
       "      <td>342</td>\n",
       "      <td>2010</td>\n",
       "      <td>2000</td>\n",
       "    </tr>\n",
       "    <tr>\n",
       "      <th>19</th>\n",
       "      <td>FR → US</td>\n",
       "      <td>FR</td>\n",
       "      <td>US</td>\n",
       "      <td>339</td>\n",
       "      <td>2007</td>\n",
       "      <td>2000</td>\n",
       "    </tr>\n",
       "  </tbody>\n",
       "</table>\n",
       "</div>"
      ],
      "text/plain": [
       "      route origin destination  n_researchers  phd_year_mean  origin_year_mean\n",
       "0   CN → US     CN          US           3508           2011              2000\n",
       "1   IN → US     IN          US           1916           2009              1998\n",
       "2   CA → US     CA          US           1029           2004              1995\n",
       "3   GB → US     GB          US            940           2000              1992\n",
       "4   US → GB     US          GB            786           2006              1997\n",
       "5   GB → AU     GB          AU            719           2000              1991\n",
       "6   US → KR     US          KR            709           2000              1995\n",
       "7   US → CA     US          CA            616           2001              1993\n",
       "8   US → TW     US          TW            610           1997              1992\n",
       "9   KR → US     KR          US            562           2010              1997\n",
       "10  IT → GB     IT          GB            507           2011              2001\n",
       "11  DE → US     DE          US            480           2004              1996\n",
       "12  US → AU     US          AU            468           2003              1994\n",
       "13  CN → GB     CN          GB            440           2009              1999\n",
       "14  CN → AU     CN          AU            423           2010              1999\n",
       "15  DE → GB     DE          GB            396           2008              1998\n",
       "16  IR → US     IR          US            367           2014              2002\n",
       "17  US → CN     US          CN            345           2004              1999\n",
       "18  ES → GB     ES          GB            342           2010              2000\n",
       "19  FR → US     FR          US            339           2007              2000"
      ]
     },
     "metadata": {},
     "output_type": "display_data"
    },
    {
     "data": {
      "application/vnd.plotly.v1+json": {
       "config": {
        "plotlyServerURL": "https://plot.ly"
       },
       "data": [
        {
         "hovertemplate": "Número de Investigadores=%{marker.color}<br>Corredor (Origen → Destino)=%{y}<extra></extra>",
         "legendgroup": "",
         "marker": {
          "color": {
           "bdata": "tA18BwUErAMSA88CxQJoAmICMgL7AeAB1AG4AacBjAFvAVkBVgFTAQ==",
           "dtype": "i2"
          },
          "coloraxis": "coloraxis",
          "pattern": {
           "shape": ""
          }
         },
         "name": "",
         "orientation": "h",
         "showlegend": false,
         "text": {
          "bdata": "AAAAAABoq0AAAAAAAPCdQAAAAAAAFJBAAAAAAABgjUAAAAAAAJCIQAAAAAAAeIZAAAAAAAAohkAAAAAAAECDQAAAAAAAEINAAAAAAACQgUAAAAAAALB/QAAAAAAAAH5AAAAAAABAfUAAAAAAAIB7QAAAAAAAcHpAAAAAAADAeEAAAAAAAPB2QAAAAAAAkHVAAAAAAABgdUAAAAAAADB1QA==",
          "dtype": "f8"
         },
         "textposition": "outside",
         "texttemplate": "%{text:,.0f}",
         "type": "bar",
         "x": {
          "bdata": "tA18BwUErAMSA88CxQJoAmICMgL7AeAB1AG4AacBjAFvAVkBVgFTAQ==",
          "dtype": "i2"
         },
         "xaxis": "x",
         "y": [
          "CN → US",
          "IN → US",
          "CA → US",
          "GB → US",
          "US → GB",
          "GB → AU",
          "US → KR",
          "US → CA",
          "US → TW",
          "KR → US",
          "IT → GB",
          "DE → US",
          "US → AU",
          "CN → GB",
          "CN → AU",
          "DE → GB",
          "IR → US",
          "US → CN",
          "ES → GB",
          "FR → US"
         ],
         "yaxis": "y"
        }
       ],
       "layout": {
        "barmode": "relative",
        "coloraxis": {
         "colorbar": {
          "title": {
           "text": "Número de Investigadores"
          }
         },
         "colorscale": [
          [
           0,
           "rgb(247,251,255)"
          ],
          [
           0.125,
           "rgb(222,235,247)"
          ],
          [
           0.25,
           "rgb(198,219,239)"
          ],
          [
           0.375,
           "rgb(158,202,225)"
          ],
          [
           0.5,
           "rgb(107,174,214)"
          ],
          [
           0.625,
           "rgb(66,146,198)"
          ],
          [
           0.75,
           "rgb(33,113,181)"
          ],
          [
           0.875,
           "rgb(8,81,156)"
          ],
          [
           1,
           "rgb(8,48,107)"
          ]
         ]
        },
        "height": 600,
        "legend": {
         "tracegroupgap": 0
        },
        "showlegend": false,
        "template": {
         "data": {
          "bar": [
           {
            "error_x": {
             "color": "#2a3f5f"
            },
            "error_y": {
             "color": "#2a3f5f"
            },
            "marker": {
             "line": {
              "color": "white",
              "width": 0.5
             },
             "pattern": {
              "fillmode": "overlay",
              "size": 10,
              "solidity": 0.2
             }
            },
            "type": "bar"
           }
          ],
          "barpolar": [
           {
            "marker": {
             "line": {
              "color": "white",
              "width": 0.5
             },
             "pattern": {
              "fillmode": "overlay",
              "size": 10,
              "solidity": 0.2
             }
            },
            "type": "barpolar"
           }
          ],
          "carpet": [
           {
            "aaxis": {
             "endlinecolor": "#2a3f5f",
             "gridcolor": "#C8D4E3",
             "linecolor": "#C8D4E3",
             "minorgridcolor": "#C8D4E3",
             "startlinecolor": "#2a3f5f"
            },
            "baxis": {
             "endlinecolor": "#2a3f5f",
             "gridcolor": "#C8D4E3",
             "linecolor": "#C8D4E3",
             "minorgridcolor": "#C8D4E3",
             "startlinecolor": "#2a3f5f"
            },
            "type": "carpet"
           }
          ],
          "choropleth": [
           {
            "colorbar": {
             "outlinewidth": 0,
             "ticks": ""
            },
            "type": "choropleth"
           }
          ],
          "contour": [
           {
            "colorbar": {
             "outlinewidth": 0,
             "ticks": ""
            },
            "colorscale": [
             [
              0,
              "#0d0887"
             ],
             [
              0.1111111111111111,
              "#46039f"
             ],
             [
              0.2222222222222222,
              "#7201a8"
             ],
             [
              0.3333333333333333,
              "#9c179e"
             ],
             [
              0.4444444444444444,
              "#bd3786"
             ],
             [
              0.5555555555555556,
              "#d8576b"
             ],
             [
              0.6666666666666666,
              "#ed7953"
             ],
             [
              0.7777777777777778,
              "#fb9f3a"
             ],
             [
              0.8888888888888888,
              "#fdca26"
             ],
             [
              1,
              "#f0f921"
             ]
            ],
            "type": "contour"
           }
          ],
          "contourcarpet": [
           {
            "colorbar": {
             "outlinewidth": 0,
             "ticks": ""
            },
            "type": "contourcarpet"
           }
          ],
          "heatmap": [
           {
            "colorbar": {
             "outlinewidth": 0,
             "ticks": ""
            },
            "colorscale": [
             [
              0,
              "#0d0887"
             ],
             [
              0.1111111111111111,
              "#46039f"
             ],
             [
              0.2222222222222222,
              "#7201a8"
             ],
             [
              0.3333333333333333,
              "#9c179e"
             ],
             [
              0.4444444444444444,
              "#bd3786"
             ],
             [
              0.5555555555555556,
              "#d8576b"
             ],
             [
              0.6666666666666666,
              "#ed7953"
             ],
             [
              0.7777777777777778,
              "#fb9f3a"
             ],
             [
              0.8888888888888888,
              "#fdca26"
             ],
             [
              1,
              "#f0f921"
             ]
            ],
            "type": "heatmap"
           }
          ],
          "histogram": [
           {
            "marker": {
             "pattern": {
              "fillmode": "overlay",
              "size": 10,
              "solidity": 0.2
             }
            },
            "type": "histogram"
           }
          ],
          "histogram2d": [
           {
            "colorbar": {
             "outlinewidth": 0,
             "ticks": ""
            },
            "colorscale": [
             [
              0,
              "#0d0887"
             ],
             [
              0.1111111111111111,
              "#46039f"
             ],
             [
              0.2222222222222222,
              "#7201a8"
             ],
             [
              0.3333333333333333,
              "#9c179e"
             ],
             [
              0.4444444444444444,
              "#bd3786"
             ],
             [
              0.5555555555555556,
              "#d8576b"
             ],
             [
              0.6666666666666666,
              "#ed7953"
             ],
             [
              0.7777777777777778,
              "#fb9f3a"
             ],
             [
              0.8888888888888888,
              "#fdca26"
             ],
             [
              1,
              "#f0f921"
             ]
            ],
            "type": "histogram2d"
           }
          ],
          "histogram2dcontour": [
           {
            "colorbar": {
             "outlinewidth": 0,
             "ticks": ""
            },
            "colorscale": [
             [
              0,
              "#0d0887"
             ],
             [
              0.1111111111111111,
              "#46039f"
             ],
             [
              0.2222222222222222,
              "#7201a8"
             ],
             [
              0.3333333333333333,
              "#9c179e"
             ],
             [
              0.4444444444444444,
              "#bd3786"
             ],
             [
              0.5555555555555556,
              "#d8576b"
             ],
             [
              0.6666666666666666,
              "#ed7953"
             ],
             [
              0.7777777777777778,
              "#fb9f3a"
             ],
             [
              0.8888888888888888,
              "#fdca26"
             ],
             [
              1,
              "#f0f921"
             ]
            ],
            "type": "histogram2dcontour"
           }
          ],
          "mesh3d": [
           {
            "colorbar": {
             "outlinewidth": 0,
             "ticks": ""
            },
            "type": "mesh3d"
           }
          ],
          "parcoords": [
           {
            "line": {
             "colorbar": {
              "outlinewidth": 0,
              "ticks": ""
             }
            },
            "type": "parcoords"
           }
          ],
          "pie": [
           {
            "automargin": true,
            "type": "pie"
           }
          ],
          "scatter": [
           {
            "fillpattern": {
             "fillmode": "overlay",
             "size": 10,
             "solidity": 0.2
            },
            "type": "scatter"
           }
          ],
          "scatter3d": [
           {
            "line": {
             "colorbar": {
              "outlinewidth": 0,
              "ticks": ""
             }
            },
            "marker": {
             "colorbar": {
              "outlinewidth": 0,
              "ticks": ""
             }
            },
            "type": "scatter3d"
           }
          ],
          "scattercarpet": [
           {
            "marker": {
             "colorbar": {
              "outlinewidth": 0,
              "ticks": ""
             }
            },
            "type": "scattercarpet"
           }
          ],
          "scattergeo": [
           {
            "marker": {
             "colorbar": {
              "outlinewidth": 0,
              "ticks": ""
             }
            },
            "type": "scattergeo"
           }
          ],
          "scattergl": [
           {
            "marker": {
             "colorbar": {
              "outlinewidth": 0,
              "ticks": ""
             }
            },
            "type": "scattergl"
           }
          ],
          "scattermap": [
           {
            "marker": {
             "colorbar": {
              "outlinewidth": 0,
              "ticks": ""
             }
            },
            "type": "scattermap"
           }
          ],
          "scattermapbox": [
           {
            "marker": {
             "colorbar": {
              "outlinewidth": 0,
              "ticks": ""
             }
            },
            "type": "scattermapbox"
           }
          ],
          "scatterpolar": [
           {
            "marker": {
             "colorbar": {
              "outlinewidth": 0,
              "ticks": ""
             }
            },
            "type": "scatterpolar"
           }
          ],
          "scatterpolargl": [
           {
            "marker": {
             "colorbar": {
              "outlinewidth": 0,
              "ticks": ""
             }
            },
            "type": "scatterpolargl"
           }
          ],
          "scatterternary": [
           {
            "marker": {
             "colorbar": {
              "outlinewidth": 0,
              "ticks": ""
             }
            },
            "type": "scatterternary"
           }
          ],
          "surface": [
           {
            "colorbar": {
             "outlinewidth": 0,
             "ticks": ""
            },
            "colorscale": [
             [
              0,
              "#0d0887"
             ],
             [
              0.1111111111111111,
              "#46039f"
             ],
             [
              0.2222222222222222,
              "#7201a8"
             ],
             [
              0.3333333333333333,
              "#9c179e"
             ],
             [
              0.4444444444444444,
              "#bd3786"
             ],
             [
              0.5555555555555556,
              "#d8576b"
             ],
             [
              0.6666666666666666,
              "#ed7953"
             ],
             [
              0.7777777777777778,
              "#fb9f3a"
             ],
             [
              0.8888888888888888,
              "#fdca26"
             ],
             [
              1,
              "#f0f921"
             ]
            ],
            "type": "surface"
           }
          ],
          "table": [
           {
            "cells": {
             "fill": {
              "color": "#EBF0F8"
             },
             "line": {
              "color": "white"
             }
            },
            "header": {
             "fill": {
              "color": "#C8D4E3"
             },
             "line": {
              "color": "white"
             }
            },
            "type": "table"
           }
          ]
         },
         "layout": {
          "annotationdefaults": {
           "arrowcolor": "#2a3f5f",
           "arrowhead": 0,
           "arrowwidth": 1
          },
          "autotypenumbers": "strict",
          "coloraxis": {
           "colorbar": {
            "outlinewidth": 0,
            "ticks": ""
           }
          },
          "colorscale": {
           "diverging": [
            [
             0,
             "#8e0152"
            ],
            [
             0.1,
             "#c51b7d"
            ],
            [
             0.2,
             "#de77ae"
            ],
            [
             0.3,
             "#f1b6da"
            ],
            [
             0.4,
             "#fde0ef"
            ],
            [
             0.5,
             "#f7f7f7"
            ],
            [
             0.6,
             "#e6f5d0"
            ],
            [
             0.7,
             "#b8e186"
            ],
            [
             0.8,
             "#7fbc41"
            ],
            [
             0.9,
             "#4d9221"
            ],
            [
             1,
             "#276419"
            ]
           ],
           "sequential": [
            [
             0,
             "#0d0887"
            ],
            [
             0.1111111111111111,
             "#46039f"
            ],
            [
             0.2222222222222222,
             "#7201a8"
            ],
            [
             0.3333333333333333,
             "#9c179e"
            ],
            [
             0.4444444444444444,
             "#bd3786"
            ],
            [
             0.5555555555555556,
             "#d8576b"
            ],
            [
             0.6666666666666666,
             "#ed7953"
            ],
            [
             0.7777777777777778,
             "#fb9f3a"
            ],
            [
             0.8888888888888888,
             "#fdca26"
            ],
            [
             1,
             "#f0f921"
            ]
           ],
           "sequentialminus": [
            [
             0,
             "#0d0887"
            ],
            [
             0.1111111111111111,
             "#46039f"
            ],
            [
             0.2222222222222222,
             "#7201a8"
            ],
            [
             0.3333333333333333,
             "#9c179e"
            ],
            [
             0.4444444444444444,
             "#bd3786"
            ],
            [
             0.5555555555555556,
             "#d8576b"
            ],
            [
             0.6666666666666666,
             "#ed7953"
            ],
            [
             0.7777777777777778,
             "#fb9f3a"
            ],
            [
             0.8888888888888888,
             "#fdca26"
            ],
            [
             1,
             "#f0f921"
            ]
           ]
          },
          "colorway": [
           "#636efa",
           "#EF553B",
           "#00cc96",
           "#ab63fa",
           "#FFA15A",
           "#19d3f3",
           "#FF6692",
           "#B6E880",
           "#FF97FF",
           "#FECB52"
          ],
          "font": {
           "color": "#2a3f5f"
          },
          "geo": {
           "bgcolor": "white",
           "lakecolor": "white",
           "landcolor": "white",
           "showlakes": true,
           "showland": true,
           "subunitcolor": "#C8D4E3"
          },
          "hoverlabel": {
           "align": "left"
          },
          "hovermode": "closest",
          "mapbox": {
           "style": "light"
          },
          "paper_bgcolor": "white",
          "plot_bgcolor": "white",
          "polar": {
           "angularaxis": {
            "gridcolor": "#EBF0F8",
            "linecolor": "#EBF0F8",
            "ticks": ""
           },
           "bgcolor": "white",
           "radialaxis": {
            "gridcolor": "#EBF0F8",
            "linecolor": "#EBF0F8",
            "ticks": ""
           }
          },
          "scene": {
           "xaxis": {
            "backgroundcolor": "white",
            "gridcolor": "#DFE8F3",
            "gridwidth": 2,
            "linecolor": "#EBF0F8",
            "showbackground": true,
            "ticks": "",
            "zerolinecolor": "#EBF0F8"
           },
           "yaxis": {
            "backgroundcolor": "white",
            "gridcolor": "#DFE8F3",
            "gridwidth": 2,
            "linecolor": "#EBF0F8",
            "showbackground": true,
            "ticks": "",
            "zerolinecolor": "#EBF0F8"
           },
           "zaxis": {
            "backgroundcolor": "white",
            "gridcolor": "#DFE8F3",
            "gridwidth": 2,
            "linecolor": "#EBF0F8",
            "showbackground": true,
            "ticks": "",
            "zerolinecolor": "#EBF0F8"
           }
          },
          "shapedefaults": {
           "line": {
            "color": "#2a3f5f"
           }
          },
          "ternary": {
           "aaxis": {
            "gridcolor": "#DFE8F3",
            "linecolor": "#A2B1C6",
            "ticks": ""
           },
           "baxis": {
            "gridcolor": "#DFE8F3",
            "linecolor": "#A2B1C6",
            "ticks": ""
           },
           "bgcolor": "white",
           "caxis": {
            "gridcolor": "#DFE8F3",
            "linecolor": "#A2B1C6",
            "ticks": ""
           }
          },
          "title": {
           "x": 0.05
          },
          "xaxis": {
           "automargin": true,
           "gridcolor": "#EBF0F8",
           "linecolor": "#EBF0F8",
           "ticks": "",
           "title": {
            "standoff": 15
           },
           "zerolinecolor": "#EBF0F8",
           "zerolinewidth": 2
          },
          "yaxis": {
           "automargin": true,
           "gridcolor": "#EBF0F8",
           "linecolor": "#EBF0F8",
           "ticks": "",
           "title": {
            "standoff": 15
           },
           "zerolinecolor": "#EBF0F8",
           "zerolinewidth": 2
          }
         }
        },
        "title": {
         "text": "Top 20 Corredores Migratorios Más Importantes"
        },
        "xaxis": {
         "anchor": "y",
         "domain": [
          0,
          1
         ],
         "title": {
          "text": "Número de Investigadores"
         }
        },
        "yaxis": {
         "anchor": "x",
         "categoryorder": "total ascending",
         "domain": [
          0,
          1
         ],
         "title": {
          "text": "Corredor (Origen → Destino)"
         }
        }
       }
      }
     },
     "metadata": {},
     "output_type": "display_data"
    }
   ],
   "source": [
    "# Top 20 corredores\n",
    "top_corridors = df_flows.nlargest(20, 'n_researchers')[[\n",
    "    'route', 'origin', 'destination', 'n_researchers',\n",
    "    'phd_year_mean', 'origin_year_mean'\n",
    "]].copy()\n",
    "\n",
    "print(f\"🛤️  TOP 20 CORREDORES MIGRATORIOS\\n\" + \"=\"*70)\n",
    "display(top_corridors)\n",
    "\n",
    "# Visualización\n",
    "fig = px.bar(\n",
    "    top_corridors,\n",
    "    x='n_researchers',\n",
    "    y='route',\n",
    "    orientation='h',\n",
    "    title='Top 20 Corredores Migratorios Más Importantes',\n",
    "    labels={'n_researchers': 'Número de Investigadores', 'route': 'Corredor (Origen → Destino)'},\n",
    "    color='n_researchers',\n",
    "    color_continuous_scale='Blues',\n",
    "    text='n_researchers'\n",
    ")\n",
    "fig.update_traces(texttemplate='%{text:,.0f}', textposition='outside')\n",
    "fig.update_layout(height=600, showlegend=False, yaxis={'categoryorder':'total ascending'})\n",
    "fig.show()"
   ]
  },
  {
   "cell_type": "markdown",
   "id": "0483b1e5",
   "metadata": {},
   "source": [
    "## 7. Diagrama de Flujos: Sankey Diagram\n",
    "\n",
    "### Función para crear Sankey Diagram\n",
    "\n",
    "**Limitaciones de Chord Diagram en Python:**\n",
    "- No existe librería nativa robusta en Python (a diferencia de R con `circlize`)\n",
    "- Librerías como `holoviews` o `chord` son poco mantenidas y difíciles de configurar\n",
    "\n",
    "**Alternativa: Sankey Diagram con Plotly**\n",
    "\n",
    "✅ **Pros:**\n",
    "- Nativo en Plotly (sin dependencias adicionales)\n",
    "- Interactivo (hover, zoom)\n",
    "- Fácil de personalizar\n",
    "- Muestra magnitud y dirección de flujos claramente\n",
    "- Escalable a muchos nodos\n",
    "\n",
    "⚠️ **Contras:**\n",
    "- No muestra relaciones circulares como un chord diagram\n",
    "- Layout automático puede solapar etiquetas con muchos nodos\n",
    "- Menos compacto visualmente para muchas conexiones"
   ]
  },
  {
   "cell_type": "code",
   "execution_count": 16,
   "id": "2d6d76eb",
   "metadata": {},
   "outputs": [
    {
     "name": "stdout",
     "output_type": "stream",
     "text": [
      "✓ Función make_sankey() definida\n",
      "\n",
      "Uso: fig = make_sankey(df_flows, top_n=30, title='Mi Título')\n",
      "     fig.show()\n"
     ]
    }
   ],
   "source": [
    "def make_sankey(df_edges, top_n=20, title=\"Flujos Migratorios\"):\n",
    "    \"\"\"\n",
    "    Crea un Sankey Diagram interactivo a partir de flujos migratorios.\n",
    "    \n",
    "    Parameters:\n",
    "    -----------\n",
    "    df_edges : DataFrame\n",
    "        DataFrame con columnas: 'origin_iso3', 'destination_iso3', 'n_researchers'\n",
    "    top_n : int\n",
    "        Número de flujos principales a visualizar (por defecto 20)\n",
    "    title : str\n",
    "        Título del diagrama\n",
    "    \n",
    "    Returns:\n",
    "    --------\n",
    "    plotly.graph_objects.Figure\n",
    "    \"\"\"\n",
    "    # Filtrar top N flujos\n",
    "    df_top = df_edges.nlargest(top_n, 'n_researchers').copy()\n",
    "    \n",
    "    # Crear mapeo de nodos únicos (origen + destino)\n",
    "    all_countries = list(set(df_top['origin_iso3'].tolist() + df_top['destination_iso3'].tolist()))\n",
    "    country_to_idx = {country: idx for idx, country in enumerate(all_countries)}\n",
    "    \n",
    "    # Crear listas para Sankey\n",
    "    sources = [country_to_idx[origin] for origin in df_top['origin_iso3']]\n",
    "    targets = [country_to_idx[dest] for dest in df_top['destination_iso3']]\n",
    "    values = df_top['n_researchers'].tolist()\n",
    "    \n",
    "    # Colores por región (simplificado)\n",
    "    node_colors = ['rgba(31, 119, 180, 0.8)'] * len(all_countries)\n",
    "    link_colors = ['rgba(31, 119, 180, 0.3)'] * len(values)\n",
    "    \n",
    "    # Crear diagrama\n",
    "    fig = go.Figure(data=[go.Sankey(\n",
    "        node=dict(\n",
    "            pad=15,\n",
    "            thickness=20,\n",
    "            line=dict(color=\"white\", width=0.5),\n",
    "            label=all_countries,\n",
    "            color=node_colors\n",
    "        ),\n",
    "        link=dict(\n",
    "            source=sources,\n",
    "            target=targets,\n",
    "            value=values,\n",
    "            color=link_colors\n",
    "        )\n",
    "    )])\n",
    "    \n",
    "    fig.update_layout(\n",
    "        title=title,\n",
    "        font=dict(size=12),\n",
    "        height=700\n",
    "    )\n",
    "    \n",
    "    return fig\n",
    "\n",
    "print(\"✓ Función make_sankey() definida\")\n",
    "print(\"\\nUso: fig = make_sankey(df_flows, top_n=30, title='Mi Título')\")\n",
    "print(\"     fig.show()\")"
   ]
  },
  {
   "cell_type": "code",
   "execution_count": 17,
   "id": "c9d95f1a",
   "metadata": {},
   "outputs": [
    {
     "data": {
      "application/vnd.plotly.v1+json": {
       "config": {
        "plotlyServerURL": "https://plot.ly"
       },
       "data": [
        {
         "link": {
          "color": [
           "rgba(31, 119, 180, 0.3)",
           "rgba(31, 119, 180, 0.3)",
           "rgba(31, 119, 180, 0.3)",
           "rgba(31, 119, 180, 0.3)",
           "rgba(31, 119, 180, 0.3)",
           "rgba(31, 119, 180, 0.3)",
           "rgba(31, 119, 180, 0.3)",
           "rgba(31, 119, 180, 0.3)",
           "rgba(31, 119, 180, 0.3)",
           "rgba(31, 119, 180, 0.3)",
           "rgba(31, 119, 180, 0.3)",
           "rgba(31, 119, 180, 0.3)",
           "rgba(31, 119, 180, 0.3)",
           "rgba(31, 119, 180, 0.3)",
           "rgba(31, 119, 180, 0.3)",
           "rgba(31, 119, 180, 0.3)",
           "rgba(31, 119, 180, 0.3)",
           "rgba(31, 119, 180, 0.3)",
           "rgba(31, 119, 180, 0.3)",
           "rgba(31, 119, 180, 0.3)",
           "rgba(31, 119, 180, 0.3)",
           "rgba(31, 119, 180, 0.3)",
           "rgba(31, 119, 180, 0.3)",
           "rgba(31, 119, 180, 0.3)",
           "rgba(31, 119, 180, 0.3)",
           "rgba(31, 119, 180, 0.3)",
           "rgba(31, 119, 180, 0.3)",
           "rgba(31, 119, 180, 0.3)",
           "rgba(31, 119, 180, 0.3)",
           "rgba(31, 119, 180, 0.3)"
          ],
          "source": [
           3,
           16,
           6,
           9,
           2,
           9,
           2,
           2,
           2,
           12,
           8,
           1,
           2,
           3,
           3,
           1,
           14,
           2,
           13,
           5,
           16,
           8,
           0,
           5,
           13,
           10,
           7,
           6,
           4,
           1
          ],
          "target": [
           2,
           2,
           2,
           2,
           9,
           11,
           12,
           6,
           4,
           2,
           9,
           2,
           11,
           9,
           11,
           9,
           2,
           3,
           9,
           2,
           9,
           2,
           2,
           9,
           2,
           2,
           9,
           9,
           2,
           15
          ],
          "value": [
           3508,
           1916,
           1029,
           940,
           786,
           719,
           709,
           616,
           610,
           562,
           507,
           480,
           468,
           440,
           423,
           396,
           367,
           345,
           342,
           339,
           323,
           299,
           294,
           286,
           276,
           271,
           266,
           265,
           261,
           253
          ]
         },
         "node": {
          "color": [
           "rgba(31, 119, 180, 0.8)",
           "rgba(31, 119, 180, 0.8)",
           "rgba(31, 119, 180, 0.8)",
           "rgba(31, 119, 180, 0.8)",
           "rgba(31, 119, 180, 0.8)",
           "rgba(31, 119, 180, 0.8)",
           "rgba(31, 119, 180, 0.8)",
           "rgba(31, 119, 180, 0.8)",
           "rgba(31, 119, 180, 0.8)",
           "rgba(31, 119, 180, 0.8)",
           "rgba(31, 119, 180, 0.8)",
           "rgba(31, 119, 180, 0.8)",
           "rgba(31, 119, 180, 0.8)",
           "rgba(31, 119, 180, 0.8)",
           "rgba(31, 119, 180, 0.8)",
           "rgba(31, 119, 180, 0.8)",
           "rgba(31, 119, 180, 0.8)"
          ],
          "label": [
           "RUS",
           "DEU",
           "USA",
           "CHN",
           "TWN",
           "FRA",
           "CAN",
           "GRC",
           "ITA",
           "GBR",
           "BRA",
           "AUS",
           "KOR",
           "ESP",
           "IRN",
           "CHE",
           "IND"
          ],
          "line": {
           "color": "white",
           "width": 0.5
          },
          "pad": 15,
          "thickness": 20
         },
         "type": "sankey"
        }
       ],
       "layout": {
        "font": {
         "size": 12
        },
        "height": 700,
        "template": {
         "data": {
          "bar": [
           {
            "error_x": {
             "color": "#2a3f5f"
            },
            "error_y": {
             "color": "#2a3f5f"
            },
            "marker": {
             "line": {
              "color": "white",
              "width": 0.5
             },
             "pattern": {
              "fillmode": "overlay",
              "size": 10,
              "solidity": 0.2
             }
            },
            "type": "bar"
           }
          ],
          "barpolar": [
           {
            "marker": {
             "line": {
              "color": "white",
              "width": 0.5
             },
             "pattern": {
              "fillmode": "overlay",
              "size": 10,
              "solidity": 0.2
             }
            },
            "type": "barpolar"
           }
          ],
          "carpet": [
           {
            "aaxis": {
             "endlinecolor": "#2a3f5f",
             "gridcolor": "#C8D4E3",
             "linecolor": "#C8D4E3",
             "minorgridcolor": "#C8D4E3",
             "startlinecolor": "#2a3f5f"
            },
            "baxis": {
             "endlinecolor": "#2a3f5f",
             "gridcolor": "#C8D4E3",
             "linecolor": "#C8D4E3",
             "minorgridcolor": "#C8D4E3",
             "startlinecolor": "#2a3f5f"
            },
            "type": "carpet"
           }
          ],
          "choropleth": [
           {
            "colorbar": {
             "outlinewidth": 0,
             "ticks": ""
            },
            "type": "choropleth"
           }
          ],
          "contour": [
           {
            "colorbar": {
             "outlinewidth": 0,
             "ticks": ""
            },
            "colorscale": [
             [
              0,
              "#0d0887"
             ],
             [
              0.1111111111111111,
              "#46039f"
             ],
             [
              0.2222222222222222,
              "#7201a8"
             ],
             [
              0.3333333333333333,
              "#9c179e"
             ],
             [
              0.4444444444444444,
              "#bd3786"
             ],
             [
              0.5555555555555556,
              "#d8576b"
             ],
             [
              0.6666666666666666,
              "#ed7953"
             ],
             [
              0.7777777777777778,
              "#fb9f3a"
             ],
             [
              0.8888888888888888,
              "#fdca26"
             ],
             [
              1,
              "#f0f921"
             ]
            ],
            "type": "contour"
           }
          ],
          "contourcarpet": [
           {
            "colorbar": {
             "outlinewidth": 0,
             "ticks": ""
            },
            "type": "contourcarpet"
           }
          ],
          "heatmap": [
           {
            "colorbar": {
             "outlinewidth": 0,
             "ticks": ""
            },
            "colorscale": [
             [
              0,
              "#0d0887"
             ],
             [
              0.1111111111111111,
              "#46039f"
             ],
             [
              0.2222222222222222,
              "#7201a8"
             ],
             [
              0.3333333333333333,
              "#9c179e"
             ],
             [
              0.4444444444444444,
              "#bd3786"
             ],
             [
              0.5555555555555556,
              "#d8576b"
             ],
             [
              0.6666666666666666,
              "#ed7953"
             ],
             [
              0.7777777777777778,
              "#fb9f3a"
             ],
             [
              0.8888888888888888,
              "#fdca26"
             ],
             [
              1,
              "#f0f921"
             ]
            ],
            "type": "heatmap"
           }
          ],
          "histogram": [
           {
            "marker": {
             "pattern": {
              "fillmode": "overlay",
              "size": 10,
              "solidity": 0.2
             }
            },
            "type": "histogram"
           }
          ],
          "histogram2d": [
           {
            "colorbar": {
             "outlinewidth": 0,
             "ticks": ""
            },
            "colorscale": [
             [
              0,
              "#0d0887"
             ],
             [
              0.1111111111111111,
              "#46039f"
             ],
             [
              0.2222222222222222,
              "#7201a8"
             ],
             [
              0.3333333333333333,
              "#9c179e"
             ],
             [
              0.4444444444444444,
              "#bd3786"
             ],
             [
              0.5555555555555556,
              "#d8576b"
             ],
             [
              0.6666666666666666,
              "#ed7953"
             ],
             [
              0.7777777777777778,
              "#fb9f3a"
             ],
             [
              0.8888888888888888,
              "#fdca26"
             ],
             [
              1,
              "#f0f921"
             ]
            ],
            "type": "histogram2d"
           }
          ],
          "histogram2dcontour": [
           {
            "colorbar": {
             "outlinewidth": 0,
             "ticks": ""
            },
            "colorscale": [
             [
              0,
              "#0d0887"
             ],
             [
              0.1111111111111111,
              "#46039f"
             ],
             [
              0.2222222222222222,
              "#7201a8"
             ],
             [
              0.3333333333333333,
              "#9c179e"
             ],
             [
              0.4444444444444444,
              "#bd3786"
             ],
             [
              0.5555555555555556,
              "#d8576b"
             ],
             [
              0.6666666666666666,
              "#ed7953"
             ],
             [
              0.7777777777777778,
              "#fb9f3a"
             ],
             [
              0.8888888888888888,
              "#fdca26"
             ],
             [
              1,
              "#f0f921"
             ]
            ],
            "type": "histogram2dcontour"
           }
          ],
          "mesh3d": [
           {
            "colorbar": {
             "outlinewidth": 0,
             "ticks": ""
            },
            "type": "mesh3d"
           }
          ],
          "parcoords": [
           {
            "line": {
             "colorbar": {
              "outlinewidth": 0,
              "ticks": ""
             }
            },
            "type": "parcoords"
           }
          ],
          "pie": [
           {
            "automargin": true,
            "type": "pie"
           }
          ],
          "scatter": [
           {
            "fillpattern": {
             "fillmode": "overlay",
             "size": 10,
             "solidity": 0.2
            },
            "type": "scatter"
           }
          ],
          "scatter3d": [
           {
            "line": {
             "colorbar": {
              "outlinewidth": 0,
              "ticks": ""
             }
            },
            "marker": {
             "colorbar": {
              "outlinewidth": 0,
              "ticks": ""
             }
            },
            "type": "scatter3d"
           }
          ],
          "scattercarpet": [
           {
            "marker": {
             "colorbar": {
              "outlinewidth": 0,
              "ticks": ""
             }
            },
            "type": "scattercarpet"
           }
          ],
          "scattergeo": [
           {
            "marker": {
             "colorbar": {
              "outlinewidth": 0,
              "ticks": ""
             }
            },
            "type": "scattergeo"
           }
          ],
          "scattergl": [
           {
            "marker": {
             "colorbar": {
              "outlinewidth": 0,
              "ticks": ""
             }
            },
            "type": "scattergl"
           }
          ],
          "scattermap": [
           {
            "marker": {
             "colorbar": {
              "outlinewidth": 0,
              "ticks": ""
             }
            },
            "type": "scattermap"
           }
          ],
          "scattermapbox": [
           {
            "marker": {
             "colorbar": {
              "outlinewidth": 0,
              "ticks": ""
             }
            },
            "type": "scattermapbox"
           }
          ],
          "scatterpolar": [
           {
            "marker": {
             "colorbar": {
              "outlinewidth": 0,
              "ticks": ""
             }
            },
            "type": "scatterpolar"
           }
          ],
          "scatterpolargl": [
           {
            "marker": {
             "colorbar": {
              "outlinewidth": 0,
              "ticks": ""
             }
            },
            "type": "scatterpolargl"
           }
          ],
          "scatterternary": [
           {
            "marker": {
             "colorbar": {
              "outlinewidth": 0,
              "ticks": ""
             }
            },
            "type": "scatterternary"
           }
          ],
          "surface": [
           {
            "colorbar": {
             "outlinewidth": 0,
             "ticks": ""
            },
            "colorscale": [
             [
              0,
              "#0d0887"
             ],
             [
              0.1111111111111111,
              "#46039f"
             ],
             [
              0.2222222222222222,
              "#7201a8"
             ],
             [
              0.3333333333333333,
              "#9c179e"
             ],
             [
              0.4444444444444444,
              "#bd3786"
             ],
             [
              0.5555555555555556,
              "#d8576b"
             ],
             [
              0.6666666666666666,
              "#ed7953"
             ],
             [
              0.7777777777777778,
              "#fb9f3a"
             ],
             [
              0.8888888888888888,
              "#fdca26"
             ],
             [
              1,
              "#f0f921"
             ]
            ],
            "type": "surface"
           }
          ],
          "table": [
           {
            "cells": {
             "fill": {
              "color": "#EBF0F8"
             },
             "line": {
              "color": "white"
             }
            },
            "header": {
             "fill": {
              "color": "#C8D4E3"
             },
             "line": {
              "color": "white"
             }
            },
            "type": "table"
           }
          ]
         },
         "layout": {
          "annotationdefaults": {
           "arrowcolor": "#2a3f5f",
           "arrowhead": 0,
           "arrowwidth": 1
          },
          "autotypenumbers": "strict",
          "coloraxis": {
           "colorbar": {
            "outlinewidth": 0,
            "ticks": ""
           }
          },
          "colorscale": {
           "diverging": [
            [
             0,
             "#8e0152"
            ],
            [
             0.1,
             "#c51b7d"
            ],
            [
             0.2,
             "#de77ae"
            ],
            [
             0.3,
             "#f1b6da"
            ],
            [
             0.4,
             "#fde0ef"
            ],
            [
             0.5,
             "#f7f7f7"
            ],
            [
             0.6,
             "#e6f5d0"
            ],
            [
             0.7,
             "#b8e186"
            ],
            [
             0.8,
             "#7fbc41"
            ],
            [
             0.9,
             "#4d9221"
            ],
            [
             1,
             "#276419"
            ]
           ],
           "sequential": [
            [
             0,
             "#0d0887"
            ],
            [
             0.1111111111111111,
             "#46039f"
            ],
            [
             0.2222222222222222,
             "#7201a8"
            ],
            [
             0.3333333333333333,
             "#9c179e"
            ],
            [
             0.4444444444444444,
             "#bd3786"
            ],
            [
             0.5555555555555556,
             "#d8576b"
            ],
            [
             0.6666666666666666,
             "#ed7953"
            ],
            [
             0.7777777777777778,
             "#fb9f3a"
            ],
            [
             0.8888888888888888,
             "#fdca26"
            ],
            [
             1,
             "#f0f921"
            ]
           ],
           "sequentialminus": [
            [
             0,
             "#0d0887"
            ],
            [
             0.1111111111111111,
             "#46039f"
            ],
            [
             0.2222222222222222,
             "#7201a8"
            ],
            [
             0.3333333333333333,
             "#9c179e"
            ],
            [
             0.4444444444444444,
             "#bd3786"
            ],
            [
             0.5555555555555556,
             "#d8576b"
            ],
            [
             0.6666666666666666,
             "#ed7953"
            ],
            [
             0.7777777777777778,
             "#fb9f3a"
            ],
            [
             0.8888888888888888,
             "#fdca26"
            ],
            [
             1,
             "#f0f921"
            ]
           ]
          },
          "colorway": [
           "#636efa",
           "#EF553B",
           "#00cc96",
           "#ab63fa",
           "#FFA15A",
           "#19d3f3",
           "#FF6692",
           "#B6E880",
           "#FF97FF",
           "#FECB52"
          ],
          "font": {
           "color": "#2a3f5f"
          },
          "geo": {
           "bgcolor": "white",
           "lakecolor": "white",
           "landcolor": "white",
           "showlakes": true,
           "showland": true,
           "subunitcolor": "#C8D4E3"
          },
          "hoverlabel": {
           "align": "left"
          },
          "hovermode": "closest",
          "mapbox": {
           "style": "light"
          },
          "paper_bgcolor": "white",
          "plot_bgcolor": "white",
          "polar": {
           "angularaxis": {
            "gridcolor": "#EBF0F8",
            "linecolor": "#EBF0F8",
            "ticks": ""
           },
           "bgcolor": "white",
           "radialaxis": {
            "gridcolor": "#EBF0F8",
            "linecolor": "#EBF0F8",
            "ticks": ""
           }
          },
          "scene": {
           "xaxis": {
            "backgroundcolor": "white",
            "gridcolor": "#DFE8F3",
            "gridwidth": 2,
            "linecolor": "#EBF0F8",
            "showbackground": true,
            "ticks": "",
            "zerolinecolor": "#EBF0F8"
           },
           "yaxis": {
            "backgroundcolor": "white",
            "gridcolor": "#DFE8F3",
            "gridwidth": 2,
            "linecolor": "#EBF0F8",
            "showbackground": true,
            "ticks": "",
            "zerolinecolor": "#EBF0F8"
           },
           "zaxis": {
            "backgroundcolor": "white",
            "gridcolor": "#DFE8F3",
            "gridwidth": 2,
            "linecolor": "#EBF0F8",
            "showbackground": true,
            "ticks": "",
            "zerolinecolor": "#EBF0F8"
           }
          },
          "shapedefaults": {
           "line": {
            "color": "#2a3f5f"
           }
          },
          "ternary": {
           "aaxis": {
            "gridcolor": "#DFE8F3",
            "linecolor": "#A2B1C6",
            "ticks": ""
           },
           "baxis": {
            "gridcolor": "#DFE8F3",
            "linecolor": "#A2B1C6",
            "ticks": ""
           },
           "bgcolor": "white",
           "caxis": {
            "gridcolor": "#DFE8F3",
            "linecolor": "#A2B1C6",
            "ticks": ""
           }
          },
          "title": {
           "x": 0.05
          },
          "xaxis": {
           "automargin": true,
           "gridcolor": "#EBF0F8",
           "linecolor": "#EBF0F8",
           "ticks": "",
           "title": {
            "standoff": 15
           },
           "zerolinecolor": "#EBF0F8",
           "zerolinewidth": 2
          },
          "yaxis": {
           "automargin": true,
           "gridcolor": "#EBF0F8",
           "linecolor": "#EBF0F8",
           "ticks": "",
           "title": {
            "standoff": 15
           },
           "zerolinecolor": "#EBF0F8",
           "zerolinewidth": 2
          }
         }
        },
        "title": {
         "text": "Top 30 Flujos Migratorios de Investigadores Científicos"
        }
       }
      }
     },
     "metadata": {},
     "output_type": "display_data"
    }
   ],
   "source": [
    "# Aplicar función a los top 30 flujos\n",
    "fig_sankey = make_sankey(\n",
    "    df_flows,\n",
    "    top_n=30,\n",
    "    title=\"Top 30 Flujos Migratorios de Investigadores Científicos\"\n",
    ")\n",
    "fig_sankey.show()"
   ]
  },
  {
   "cell_type": "markdown",
   "id": "7244f0ed",
   "metadata": {},
   "source": [
    "## 8. Integración con World Development Indicators (WDI)\n",
    "\n",
    "### 8.1 Preparación de Datos WDI"
   ]
  },
  {
   "cell_type": "code",
   "execution_count": 18,
   "id": "dccccf1d",
   "metadata": {},
   "outputs": [
    {
     "name": "stdout",
     "output_type": "stream",
     "text": [
      "🌐 ANÁLISIS CON INDICADORES WDI\n",
      "======================================================================\n",
      "✓ Indicadores WDI procesados: 247 países\n",
      "\n",
      "📋 Vista previa:\n"
     ]
    },
    {
     "data": {
      "text/html": [
       "<div>\n",
       "<style scoped>\n",
       "    .dataframe tbody tr th:only-of-type {\n",
       "        vertical-align: middle;\n",
       "    }\n",
       "\n",
       "    .dataframe tbody tr th {\n",
       "        vertical-align: top;\n",
       "    }\n",
       "\n",
       "    .dataframe thead th {\n",
       "        text-align: right;\n",
       "    }\n",
       "</style>\n",
       "<table border=\"1\" class=\"dataframe\">\n",
       "  <thead>\n",
       "    <tr style=\"text-align: right;\">\n",
       "      <th></th>\n",
       "      <th>country</th>\n",
       "      <th>gdp_per_capita</th>\n",
       "      <th>rd_expenditure_pct</th>\n",
       "      <th>population</th>\n",
       "      <th>researchers_per_million</th>\n",
       "    </tr>\n",
       "  </thead>\n",
       "  <tbody>\n",
       "    <tr>\n",
       "      <th>0</th>\n",
       "      <td>ABW</td>\n",
       "      <td>NaN</td>\n",
       "      <td>NaN</td>\n",
       "      <td>NaN</td>\n",
       "      <td>103,441.00</td>\n",
       "    </tr>\n",
       "    <tr>\n",
       "      <th>1</th>\n",
       "      <td>ADO</td>\n",
       "      <td>NaN</td>\n",
       "      <td>NaN</td>\n",
       "      <td>NaN</td>\n",
       "      <td>72,786.00</td>\n",
       "    </tr>\n",
       "    <tr>\n",
       "      <th>2</th>\n",
       "      <td>AFG</td>\n",
       "      <td>NaN</td>\n",
       "      <td>633.57</td>\n",
       "      <td>NaN</td>\n",
       "      <td>31,627,506.00</td>\n",
       "    </tr>\n",
       "    <tr>\n",
       "      <th>3</th>\n",
       "      <td>AGO</td>\n",
       "      <td>NaN</td>\n",
       "      <td>NaN</td>\n",
       "      <td>NaN</td>\n",
       "      <td>24,227,524.00</td>\n",
       "    </tr>\n",
       "    <tr>\n",
       "      <th>4</th>\n",
       "      <td>ALB</td>\n",
       "      <td>NaN</td>\n",
       "      <td>4,564.39</td>\n",
       "      <td>NaN</td>\n",
       "      <td>2,894,475.00</td>\n",
       "    </tr>\n",
       "    <tr>\n",
       "      <th>5</th>\n",
       "      <td>ARB</td>\n",
       "      <td>NaN</td>\n",
       "      <td>7,386.43</td>\n",
       "      <td>NaN</td>\n",
       "      <td>385,272,539.00</td>\n",
       "    </tr>\n",
       "    <tr>\n",
       "      <th>6</th>\n",
       "      <td>ARE</td>\n",
       "      <td>NaN</td>\n",
       "      <td>43,962.71</td>\n",
       "      <td>NaN</td>\n",
       "      <td>9,086,139.00</td>\n",
       "    </tr>\n",
       "    <tr>\n",
       "      <th>7</th>\n",
       "      <td>ARG</td>\n",
       "      <td>NaN</td>\n",
       "      <td>12,509.53</td>\n",
       "      <td>NaN</td>\n",
       "      <td>42,980,026.00</td>\n",
       "    </tr>\n",
       "    <tr>\n",
       "      <th>8</th>\n",
       "      <td>ARM</td>\n",
       "      <td>NaN</td>\n",
       "      <td>3,873.53</td>\n",
       "      <td>NaN</td>\n",
       "      <td>3,006,154.00</td>\n",
       "    </tr>\n",
       "    <tr>\n",
       "      <th>9</th>\n",
       "      <td>ASM</td>\n",
       "      <td>NaN</td>\n",
       "      <td>NaN</td>\n",
       "      <td>NaN</td>\n",
       "      <td>55,434.00</td>\n",
       "    </tr>\n",
       "  </tbody>\n",
       "</table>\n",
       "</div>"
      ],
      "text/plain": [
       "  country  gdp_per_capita  rd_expenditure_pct  population  \\\n",
       "0     ABW             NaN                 NaN         NaN   \n",
       "1     ADO             NaN                 NaN         NaN   \n",
       "2     AFG             NaN              633.57         NaN   \n",
       "3     AGO             NaN                 NaN         NaN   \n",
       "4     ALB             NaN            4,564.39         NaN   \n",
       "5     ARB             NaN            7,386.43         NaN   \n",
       "6     ARE             NaN           43,962.71         NaN   \n",
       "7     ARG             NaN           12,509.53         NaN   \n",
       "8     ARM             NaN            3,873.53         NaN   \n",
       "9     ASM             NaN                 NaN         NaN   \n",
       "\n",
       "   researchers_per_million  \n",
       "0               103,441.00  \n",
       "1                72,786.00  \n",
       "2            31,627,506.00  \n",
       "3            24,227,524.00  \n",
       "4             2,894,475.00  \n",
       "5           385,272,539.00  \n",
       "6             9,086,139.00  \n",
       "7            42,980,026.00  \n",
       "8             3,006,154.00  \n",
       "9                55,434.00  "
      ]
     },
     "metadata": {},
     "output_type": "display_data"
    }
   ],
   "source": [
    "if df_wdi is not None:\n",
    "    print(f\"🌐 ANÁLISIS CON INDICADORES WDI\\n\" + \"=\"*70)\n",
    "    \n",
    "    # Filtrar año más reciente disponible (2015-2016 para alinear con dataset)\n",
    "    wdi_recent = df_wdi[df_wdi['Year'].between(2014, 2016)].copy()\n",
    "    \n",
    "    # Pivot para tener indicadores como columnas\n",
    "    wdi_pivot = wdi_recent.pivot_table(\n",
    "        index='iso3',\n",
    "        columns='IndicatorCode',\n",
    "        values='Value',\n",
    "        aggfunc='mean'  # Promedio si hay múltiples años\n",
    "    ).reset_index()\n",
    "    \n",
    "    # Renombrar columnas\n",
    "    wdi_pivot.columns = [\n",
    "        'country',\n",
    "        'gdp_per_capita',\n",
    "        'rd_expenditure_pct',\n",
    "        'population',\n",
    "        'researchers_per_million'\n",
    "    ]\n",
    "    \n",
    "    print(f\"✓ Indicadores WDI procesados: {len(wdi_pivot)} países\")\n",
    "    print(f\"\\n📋 Vista previa:\")\n",
    "    display(wdi_pivot.head(10))\n",
    "else:\n",
    "    print(\"⚠️  Indicadores WDI no disponibles. Saltando análisis.\")\n",
    "    wdi_pivot = None"
   ]
  },
  {
   "cell_type": "markdown",
   "id": "7645ad8b",
   "metadata": {},
   "source": [
    "### 8.2 Tasas de Migración Per Cápita"
   ]
  },
  {
   "cell_type": "code",
   "execution_count": 19,
   "id": "b2c6c4ce",
   "metadata": {},
   "outputs": [
    {
     "name": "stdout",
     "output_type": "stream",
     "text": [
      "✓ Tasas per cápita calculadas para 200 países\n",
      "\n",
      "Top 10 Países por Tasa de Inmigración (por millón hab.):\n"
     ]
    },
    {
     "data": {
      "text/html": [
       "<div>\n",
       "<style scoped>\n",
       "    .dataframe tbody tr th:only-of-type {\n",
       "        vertical-align: middle;\n",
       "    }\n",
       "\n",
       "    .dataframe tbody tr th {\n",
       "        vertical-align: top;\n",
       "    }\n",
       "\n",
       "    .dataframe thead th {\n",
       "        text-align: right;\n",
       "    }\n",
       "</style>\n",
       "<table border=\"1\" class=\"dataframe\">\n",
       "  <thead>\n",
       "    <tr style=\"text-align: right;\">\n",
       "      <th></th>\n",
       "      <th>country_x</th>\n",
       "      <th>immigration_rate</th>\n",
       "      <th>immigration</th>\n",
       "      <th>population</th>\n",
       "      <th>gdp_per_capita</th>\n",
       "    </tr>\n",
       "  </thead>\n",
       "  <tbody>\n",
       "    <tr>\n",
       "      <th>148</th>\n",
       "      <td>GE</td>\n",
       "      <td>15,373.82</td>\n",
       "      <td>9</td>\n",
       "      <td>585.41</td>\n",
       "      <td>0.16</td>\n",
       "    </tr>\n",
       "    <tr>\n",
       "      <th>0</th>\n",
       "      <td>US</td>\n",
       "      <td>&lt;NA&gt;</td>\n",
       "      <td>14547</td>\n",
       "      <td>NaN</td>\n",
       "      <td>NaN</td>\n",
       "    </tr>\n",
       "    <tr>\n",
       "      <th>1</th>\n",
       "      <td>AU</td>\n",
       "      <td>&lt;NA&gt;</td>\n",
       "      <td>3823</td>\n",
       "      <td>NaN</td>\n",
       "      <td>NaN</td>\n",
       "    </tr>\n",
       "    <tr>\n",
       "      <th>2</th>\n",
       "      <td>GB</td>\n",
       "      <td>&lt;NA&gt;</td>\n",
       "      <td>6651</td>\n",
       "      <td>NaN</td>\n",
       "      <td>NaN</td>\n",
       "    </tr>\n",
       "    <tr>\n",
       "      <th>3</th>\n",
       "      <td>SE</td>\n",
       "      <td>&lt;NA&gt;</td>\n",
       "      <td>1743</td>\n",
       "      <td>NaN</td>\n",
       "      <td>NaN</td>\n",
       "    </tr>\n",
       "    <tr>\n",
       "      <th>4</th>\n",
       "      <td>SA</td>\n",
       "      <td>&lt;NA&gt;</td>\n",
       "      <td>1094</td>\n",
       "      <td>NaN</td>\n",
       "      <td>NaN</td>\n",
       "    </tr>\n",
       "    <tr>\n",
       "      <th>5</th>\n",
       "      <td>DK</td>\n",
       "      <td>&lt;NA&gt;</td>\n",
       "      <td>1145</td>\n",
       "      <td>NaN</td>\n",
       "      <td>NaN</td>\n",
       "    </tr>\n",
       "    <tr>\n",
       "      <th>6</th>\n",
       "      <td>MY</td>\n",
       "      <td>&lt;NA&gt;</td>\n",
       "      <td>1074</td>\n",
       "      <td>NaN</td>\n",
       "      <td>NaN</td>\n",
       "    </tr>\n",
       "    <tr>\n",
       "      <th>7</th>\n",
       "      <td>CH</td>\n",
       "      <td>&lt;NA&gt;</td>\n",
       "      <td>1355</td>\n",
       "      <td>NaN</td>\n",
       "      <td>NaN</td>\n",
       "    </tr>\n",
       "    <tr>\n",
       "      <th>8</th>\n",
       "      <td>QA</td>\n",
       "      <td>&lt;NA&gt;</td>\n",
       "      <td>589</td>\n",
       "      <td>NaN</td>\n",
       "      <td>NaN</td>\n",
       "    </tr>\n",
       "  </tbody>\n",
       "</table>\n",
       "</div>"
      ],
      "text/plain": [
       "    country_x  immigration_rate  immigration  population  gdp_per_capita\n",
       "148        GE         15,373.82            9      585.41            0.16\n",
       "0          US              <NA>        14547         NaN             NaN\n",
       "1          AU              <NA>         3823         NaN             NaN\n",
       "2          GB              <NA>         6651         NaN             NaN\n",
       "3          SE              <NA>         1743         NaN             NaN\n",
       "4          SA              <NA>         1094         NaN             NaN\n",
       "5          DK              <NA>         1145         NaN             NaN\n",
       "6          MY              <NA>         1074         NaN             NaN\n",
       "7          CH              <NA>         1355         NaN             NaN\n",
       "8          QA              <NA>          589         NaN             NaN"
      ]
     },
     "metadata": {},
     "output_type": "display_data"
    },
    {
     "name": "stdout",
     "output_type": "stream",
     "text": [
      "\n",
      "Top 10 Países por Tasa de Emigración (por millón hab.):\n"
     ]
    },
    {
     "data": {
      "text/html": [
       "<div>\n",
       "<style scoped>\n",
       "    .dataframe tbody tr th:only-of-type {\n",
       "        vertical-align: middle;\n",
       "    }\n",
       "\n",
       "    .dataframe tbody tr th {\n",
       "        vertical-align: top;\n",
       "    }\n",
       "\n",
       "    .dataframe thead th {\n",
       "        text-align: right;\n",
       "    }\n",
       "</style>\n",
       "<table border=\"1\" class=\"dataframe\">\n",
       "  <thead>\n",
       "    <tr style=\"text-align: right;\">\n",
       "      <th></th>\n",
       "      <th>country_x</th>\n",
       "      <th>emigration_rate</th>\n",
       "      <th>emigration</th>\n",
       "      <th>population</th>\n",
       "      <th>gdp_per_capita</th>\n",
       "    </tr>\n",
       "  </thead>\n",
       "  <tbody>\n",
       "    <tr>\n",
       "      <th>148</th>\n",
       "      <td>GE</td>\n",
       "      <td>52,954.27</td>\n",
       "      <td>31</td>\n",
       "      <td>585.41</td>\n",
       "      <td>0.16</td>\n",
       "    </tr>\n",
       "    <tr>\n",
       "      <th>0</th>\n",
       "      <td>US</td>\n",
       "      <td>&lt;NA&gt;</td>\n",
       "      <td>7657</td>\n",
       "      <td>NaN</td>\n",
       "      <td>NaN</td>\n",
       "    </tr>\n",
       "    <tr>\n",
       "      <th>1</th>\n",
       "      <td>AU</td>\n",
       "      <td>&lt;NA&gt;</td>\n",
       "      <td>1116</td>\n",
       "      <td>NaN</td>\n",
       "      <td>NaN</td>\n",
       "    </tr>\n",
       "    <tr>\n",
       "      <th>2</th>\n",
       "      <td>GB</td>\n",
       "      <td>&lt;NA&gt;</td>\n",
       "      <td>5376</td>\n",
       "      <td>NaN</td>\n",
       "      <td>NaN</td>\n",
       "    </tr>\n",
       "    <tr>\n",
       "      <th>3</th>\n",
       "      <td>SE</td>\n",
       "      <td>&lt;NA&gt;</td>\n",
       "      <td>514</td>\n",
       "      <td>NaN</td>\n",
       "      <td>NaN</td>\n",
       "    </tr>\n",
       "    <tr>\n",
       "      <th>4</th>\n",
       "      <td>SA</td>\n",
       "      <td>&lt;NA&gt;</td>\n",
       "      <td>71</td>\n",
       "      <td>NaN</td>\n",
       "      <td>NaN</td>\n",
       "    </tr>\n",
       "    <tr>\n",
       "      <th>5</th>\n",
       "      <td>DK</td>\n",
       "      <td>&lt;NA&gt;</td>\n",
       "      <td>283</td>\n",
       "      <td>NaN</td>\n",
       "      <td>NaN</td>\n",
       "    </tr>\n",
       "    <tr>\n",
       "      <th>6</th>\n",
       "      <td>MY</td>\n",
       "      <td>&lt;NA&gt;</td>\n",
       "      <td>269</td>\n",
       "      <td>NaN</td>\n",
       "      <td>NaN</td>\n",
       "    </tr>\n",
       "    <tr>\n",
       "      <th>7</th>\n",
       "      <td>CH</td>\n",
       "      <td>&lt;NA&gt;</td>\n",
       "      <td>574</td>\n",
       "      <td>NaN</td>\n",
       "      <td>NaN</td>\n",
       "    </tr>\n",
       "    <tr>\n",
       "      <th>8</th>\n",
       "      <td>QA</td>\n",
       "      <td>&lt;NA&gt;</td>\n",
       "      <td>11</td>\n",
       "      <td>NaN</td>\n",
       "      <td>NaN</td>\n",
       "    </tr>\n",
       "  </tbody>\n",
       "</table>\n",
       "</div>"
      ],
      "text/plain": [
       "    country_x  emigration_rate  emigration  population  gdp_per_capita\n",
       "148        GE        52,954.27          31      585.41            0.16\n",
       "0          US             <NA>        7657         NaN             NaN\n",
       "1          AU             <NA>        1116         NaN             NaN\n",
       "2          GB             <NA>        5376         NaN             NaN\n",
       "3          SE             <NA>         514         NaN             NaN\n",
       "4          SA             <NA>          71         NaN             NaN\n",
       "5          DK             <NA>         283         NaN             NaN\n",
       "6          MY             <NA>         269         NaN             NaN\n",
       "7          CH             <NA>         574         NaN             NaN\n",
       "8          QA             <NA>          11         NaN             NaN"
      ]
     },
     "metadata": {},
     "output_type": "display_data"
    }
   ],
   "source": [
    "if wdi_pivot is not None:\n",
    "    # Merge con saldo migratorio\n",
    "    # Primero necesitamos iso3 en net_migration\n",
    "    if df_mapping is not None:\n",
    "        net_migration_iso3 = net_migration.merge(\n",
    "            df_mapping[['iso2', 'iso3']],\n",
    "            left_on='country',\n",
    "            right_on='iso2',\n",
    "            how='left'\n",
    "        )\n",
    "    else:\n",
    "        # Si no hay mapeo, asumir que country ya es iso2 y buscar en flows\n",
    "        iso_map_origin = df_flows[['origin', 'origin_iso3']].drop_duplicates().rename(\n",
    "            columns={'origin': 'country', 'origin_iso3': 'iso3'}\n",
    "        )\n",
    "        iso_map_dest = df_flows[['destination', 'destination_iso3']].drop_duplicates().rename(\n",
    "            columns={'destination': 'country', 'destination_iso3': 'iso3'}\n",
    "        )\n",
    "        iso_map = pd.concat([iso_map_origin, iso_map_dest]).drop_duplicates(subset='country')\n",
    "        net_migration_iso3 = net_migration.merge(iso_map, on='country', how='left')\n",
    "    \n",
    "    # Merge con WDI\n",
    "    migration_wdi = net_migration_iso3.merge(wdi_pivot, left_on='iso3', right_on='country', how='inner')\n",
    "    \n",
    "    # Calcular tasas per cápita (por millón de habitantes)\n",
    "    migration_wdi['immigration_rate'] = (migration_wdi['immigration'] / migration_wdi['population']) * 1_000_000\n",
    "    migration_wdi['emigration_rate'] = (migration_wdi['emigration'] / migration_wdi['population']) * 1_000_000\n",
    "    migration_wdi['net_rate'] = (migration_wdi['net_balance'] / migration_wdi['population']) * 1_000_000\n",
    "    \n",
    "    print(f\"✓ Tasas per cápita calculadas para {len(migration_wdi)} países\\n\")\n",
    "    \n",
    "    print(f\"Top 10 Países por Tasa de Inmigración (por millón hab.):\")\n",
    "    display(migration_wdi[[\n",
    "        'country_x', 'immigration_rate', 'immigration', 'population', 'gdp_per_capita'\n",
    "    ]].nlargest(10, 'immigration_rate'))\n",
    "    \n",
    "    print(f\"\\nTop 10 Países por Tasa de Emigración (por millón hab.):\")\n",
    "    display(migration_wdi[[\n",
    "        'country_x', 'emigration_rate', 'emigration', 'population', 'gdp_per_capita'\n",
    "    ]].nlargest(10, 'emigration_rate'))\n",
    "else:\n",
    "    migration_wdi = None"
   ]
  },
  {
   "cell_type": "markdown",
   "id": "5ca1b5fc",
   "metadata": {},
   "source": [
    "### 8.3 Relación entre Saldo Migratorio y Desarrollo Económico"
   ]
  },
  {
   "cell_type": "code",
   "execution_count": 20,
   "id": "4c142be9",
   "metadata": {},
   "outputs": [
    {
     "data": {
      "application/vnd.plotly.v1+json": {
       "config": {
        "plotlyServerURL": "https://plot.ly"
       },
       "data": [
        {
         "customdata": {
          "bdata": "AAAAAADYhEAAAAAAAEB5QAAAAAAAAPh/",
          "dtype": "f8",
          "shape": "1, 3"
         },
         "hovertemplate": "<b>%{hovertext}</b><br><br>Tipo=Atractor<br>PIB per Cápita (USD)=%{x}<br>Saldo Migratorio Neto=%{y}<br>Flujo Total=%{marker.size}<br>immigration=%{customdata[0]}<br>emigration=%{customdata[1]}<br>population=%{customdata[2]}<extra></extra>",
         "hovertext": [
          "AT"
         ],
         "legendgroup": "Atractor",
         "marker": {
          "color": "#06A77D",
          "size": {
           "bdata": "LwQ=",
           "dtype": "i2"
          },
          "sizemode": "area",
          "sizeref": 2.6775,
          "symbol": "circle"
         },
         "mode": "markers",
         "name": "Atractor",
         "orientation": "v",
         "showlegend": true,
         "type": "scatter",
         "x": {
          "bdata": "kxgEVg6tBkA=",
          "dtype": "f8"
         },
         "xaxis": "x",
         "y": {
          "bdata": "BwE=",
          "dtype": "i2"
         },
         "yaxis": "y"
        }
       ],
       "layout": {
        "height": 600,
        "legend": {
         "itemsizing": "constant",
         "title": {
          "text": "Tipo"
         },
         "tracegroupgap": 0
        },
        "shapes": [
         {
          "line": {
           "color": "gray",
           "dash": "dash"
          },
          "type": "line",
          "x0": 0,
          "x1": 1,
          "xref": "x domain",
          "y0": 0,
          "y1": 0,
          "yref": "y"
         }
        ],
        "template": {
         "data": {
          "bar": [
           {
            "error_x": {
             "color": "#2a3f5f"
            },
            "error_y": {
             "color": "#2a3f5f"
            },
            "marker": {
             "line": {
              "color": "white",
              "width": 0.5
             },
             "pattern": {
              "fillmode": "overlay",
              "size": 10,
              "solidity": 0.2
             }
            },
            "type": "bar"
           }
          ],
          "barpolar": [
           {
            "marker": {
             "line": {
              "color": "white",
              "width": 0.5
             },
             "pattern": {
              "fillmode": "overlay",
              "size": 10,
              "solidity": 0.2
             }
            },
            "type": "barpolar"
           }
          ],
          "carpet": [
           {
            "aaxis": {
             "endlinecolor": "#2a3f5f",
             "gridcolor": "#C8D4E3",
             "linecolor": "#C8D4E3",
             "minorgridcolor": "#C8D4E3",
             "startlinecolor": "#2a3f5f"
            },
            "baxis": {
             "endlinecolor": "#2a3f5f",
             "gridcolor": "#C8D4E3",
             "linecolor": "#C8D4E3",
             "minorgridcolor": "#C8D4E3",
             "startlinecolor": "#2a3f5f"
            },
            "type": "carpet"
           }
          ],
          "choropleth": [
           {
            "colorbar": {
             "outlinewidth": 0,
             "ticks": ""
            },
            "type": "choropleth"
           }
          ],
          "contour": [
           {
            "colorbar": {
             "outlinewidth": 0,
             "ticks": ""
            },
            "colorscale": [
             [
              0,
              "#0d0887"
             ],
             [
              0.1111111111111111,
              "#46039f"
             ],
             [
              0.2222222222222222,
              "#7201a8"
             ],
             [
              0.3333333333333333,
              "#9c179e"
             ],
             [
              0.4444444444444444,
              "#bd3786"
             ],
             [
              0.5555555555555556,
              "#d8576b"
             ],
             [
              0.6666666666666666,
              "#ed7953"
             ],
             [
              0.7777777777777778,
              "#fb9f3a"
             ],
             [
              0.8888888888888888,
              "#fdca26"
             ],
             [
              1,
              "#f0f921"
             ]
            ],
            "type": "contour"
           }
          ],
          "contourcarpet": [
           {
            "colorbar": {
             "outlinewidth": 0,
             "ticks": ""
            },
            "type": "contourcarpet"
           }
          ],
          "heatmap": [
           {
            "colorbar": {
             "outlinewidth": 0,
             "ticks": ""
            },
            "colorscale": [
             [
              0,
              "#0d0887"
             ],
             [
              0.1111111111111111,
              "#46039f"
             ],
             [
              0.2222222222222222,
              "#7201a8"
             ],
             [
              0.3333333333333333,
              "#9c179e"
             ],
             [
              0.4444444444444444,
              "#bd3786"
             ],
             [
              0.5555555555555556,
              "#d8576b"
             ],
             [
              0.6666666666666666,
              "#ed7953"
             ],
             [
              0.7777777777777778,
              "#fb9f3a"
             ],
             [
              0.8888888888888888,
              "#fdca26"
             ],
             [
              1,
              "#f0f921"
             ]
            ],
            "type": "heatmap"
           }
          ],
          "histogram": [
           {
            "marker": {
             "pattern": {
              "fillmode": "overlay",
              "size": 10,
              "solidity": 0.2
             }
            },
            "type": "histogram"
           }
          ],
          "histogram2d": [
           {
            "colorbar": {
             "outlinewidth": 0,
             "ticks": ""
            },
            "colorscale": [
             [
              0,
              "#0d0887"
             ],
             [
              0.1111111111111111,
              "#46039f"
             ],
             [
              0.2222222222222222,
              "#7201a8"
             ],
             [
              0.3333333333333333,
              "#9c179e"
             ],
             [
              0.4444444444444444,
              "#bd3786"
             ],
             [
              0.5555555555555556,
              "#d8576b"
             ],
             [
              0.6666666666666666,
              "#ed7953"
             ],
             [
              0.7777777777777778,
              "#fb9f3a"
             ],
             [
              0.8888888888888888,
              "#fdca26"
             ],
             [
              1,
              "#f0f921"
             ]
            ],
            "type": "histogram2d"
           }
          ],
          "histogram2dcontour": [
           {
            "colorbar": {
             "outlinewidth": 0,
             "ticks": ""
            },
            "colorscale": [
             [
              0,
              "#0d0887"
             ],
             [
              0.1111111111111111,
              "#46039f"
             ],
             [
              0.2222222222222222,
              "#7201a8"
             ],
             [
              0.3333333333333333,
              "#9c179e"
             ],
             [
              0.4444444444444444,
              "#bd3786"
             ],
             [
              0.5555555555555556,
              "#d8576b"
             ],
             [
              0.6666666666666666,
              "#ed7953"
             ],
             [
              0.7777777777777778,
              "#fb9f3a"
             ],
             [
              0.8888888888888888,
              "#fdca26"
             ],
             [
              1,
              "#f0f921"
             ]
            ],
            "type": "histogram2dcontour"
           }
          ],
          "mesh3d": [
           {
            "colorbar": {
             "outlinewidth": 0,
             "ticks": ""
            },
            "type": "mesh3d"
           }
          ],
          "parcoords": [
           {
            "line": {
             "colorbar": {
              "outlinewidth": 0,
              "ticks": ""
             }
            },
            "type": "parcoords"
           }
          ],
          "pie": [
           {
            "automargin": true,
            "type": "pie"
           }
          ],
          "scatter": [
           {
            "fillpattern": {
             "fillmode": "overlay",
             "size": 10,
             "solidity": 0.2
            },
            "type": "scatter"
           }
          ],
          "scatter3d": [
           {
            "line": {
             "colorbar": {
              "outlinewidth": 0,
              "ticks": ""
             }
            },
            "marker": {
             "colorbar": {
              "outlinewidth": 0,
              "ticks": ""
             }
            },
            "type": "scatter3d"
           }
          ],
          "scattercarpet": [
           {
            "marker": {
             "colorbar": {
              "outlinewidth": 0,
              "ticks": ""
             }
            },
            "type": "scattercarpet"
           }
          ],
          "scattergeo": [
           {
            "marker": {
             "colorbar": {
              "outlinewidth": 0,
              "ticks": ""
             }
            },
            "type": "scattergeo"
           }
          ],
          "scattergl": [
           {
            "marker": {
             "colorbar": {
              "outlinewidth": 0,
              "ticks": ""
             }
            },
            "type": "scattergl"
           }
          ],
          "scattermap": [
           {
            "marker": {
             "colorbar": {
              "outlinewidth": 0,
              "ticks": ""
             }
            },
            "type": "scattermap"
           }
          ],
          "scattermapbox": [
           {
            "marker": {
             "colorbar": {
              "outlinewidth": 0,
              "ticks": ""
             }
            },
            "type": "scattermapbox"
           }
          ],
          "scatterpolar": [
           {
            "marker": {
             "colorbar": {
              "outlinewidth": 0,
              "ticks": ""
             }
            },
            "type": "scatterpolar"
           }
          ],
          "scatterpolargl": [
           {
            "marker": {
             "colorbar": {
              "outlinewidth": 0,
              "ticks": ""
             }
            },
            "type": "scatterpolargl"
           }
          ],
          "scatterternary": [
           {
            "marker": {
             "colorbar": {
              "outlinewidth": 0,
              "ticks": ""
             }
            },
            "type": "scatterternary"
           }
          ],
          "surface": [
           {
            "colorbar": {
             "outlinewidth": 0,
             "ticks": ""
            },
            "colorscale": [
             [
              0,
              "#0d0887"
             ],
             [
              0.1111111111111111,
              "#46039f"
             ],
             [
              0.2222222222222222,
              "#7201a8"
             ],
             [
              0.3333333333333333,
              "#9c179e"
             ],
             [
              0.4444444444444444,
              "#bd3786"
             ],
             [
              0.5555555555555556,
              "#d8576b"
             ],
             [
              0.6666666666666666,
              "#ed7953"
             ],
             [
              0.7777777777777778,
              "#fb9f3a"
             ],
             [
              0.8888888888888888,
              "#fdca26"
             ],
             [
              1,
              "#f0f921"
             ]
            ],
            "type": "surface"
           }
          ],
          "table": [
           {
            "cells": {
             "fill": {
              "color": "#EBF0F8"
             },
             "line": {
              "color": "white"
             }
            },
            "header": {
             "fill": {
              "color": "#C8D4E3"
             },
             "line": {
              "color": "white"
             }
            },
            "type": "table"
           }
          ]
         },
         "layout": {
          "annotationdefaults": {
           "arrowcolor": "#2a3f5f",
           "arrowhead": 0,
           "arrowwidth": 1
          },
          "autotypenumbers": "strict",
          "coloraxis": {
           "colorbar": {
            "outlinewidth": 0,
            "ticks": ""
           }
          },
          "colorscale": {
           "diverging": [
            [
             0,
             "#8e0152"
            ],
            [
             0.1,
             "#c51b7d"
            ],
            [
             0.2,
             "#de77ae"
            ],
            [
             0.3,
             "#f1b6da"
            ],
            [
             0.4,
             "#fde0ef"
            ],
            [
             0.5,
             "#f7f7f7"
            ],
            [
             0.6,
             "#e6f5d0"
            ],
            [
             0.7,
             "#b8e186"
            ],
            [
             0.8,
             "#7fbc41"
            ],
            [
             0.9,
             "#4d9221"
            ],
            [
             1,
             "#276419"
            ]
           ],
           "sequential": [
            [
             0,
             "#0d0887"
            ],
            [
             0.1111111111111111,
             "#46039f"
            ],
            [
             0.2222222222222222,
             "#7201a8"
            ],
            [
             0.3333333333333333,
             "#9c179e"
            ],
            [
             0.4444444444444444,
             "#bd3786"
            ],
            [
             0.5555555555555556,
             "#d8576b"
            ],
            [
             0.6666666666666666,
             "#ed7953"
            ],
            [
             0.7777777777777778,
             "#fb9f3a"
            ],
            [
             0.8888888888888888,
             "#fdca26"
            ],
            [
             1,
             "#f0f921"
            ]
           ],
           "sequentialminus": [
            [
             0,
             "#0d0887"
            ],
            [
             0.1111111111111111,
             "#46039f"
            ],
            [
             0.2222222222222222,
             "#7201a8"
            ],
            [
             0.3333333333333333,
             "#9c179e"
            ],
            [
             0.4444444444444444,
             "#bd3786"
            ],
            [
             0.5555555555555556,
             "#d8576b"
            ],
            [
             0.6666666666666666,
             "#ed7953"
            ],
            [
             0.7777777777777778,
             "#fb9f3a"
            ],
            [
             0.8888888888888888,
             "#fdca26"
            ],
            [
             1,
             "#f0f921"
            ]
           ]
          },
          "colorway": [
           "#636efa",
           "#EF553B",
           "#00cc96",
           "#ab63fa",
           "#FFA15A",
           "#19d3f3",
           "#FF6692",
           "#B6E880",
           "#FF97FF",
           "#FECB52"
          ],
          "font": {
           "color": "#2a3f5f"
          },
          "geo": {
           "bgcolor": "white",
           "lakecolor": "white",
           "landcolor": "white",
           "showlakes": true,
           "showland": true,
           "subunitcolor": "#C8D4E3"
          },
          "hoverlabel": {
           "align": "left"
          },
          "hovermode": "closest",
          "mapbox": {
           "style": "light"
          },
          "paper_bgcolor": "white",
          "plot_bgcolor": "white",
          "polar": {
           "angularaxis": {
            "gridcolor": "#EBF0F8",
            "linecolor": "#EBF0F8",
            "ticks": ""
           },
           "bgcolor": "white",
           "radialaxis": {
            "gridcolor": "#EBF0F8",
            "linecolor": "#EBF0F8",
            "ticks": ""
           }
          },
          "scene": {
           "xaxis": {
            "backgroundcolor": "white",
            "gridcolor": "#DFE8F3",
            "gridwidth": 2,
            "linecolor": "#EBF0F8",
            "showbackground": true,
            "ticks": "",
            "zerolinecolor": "#EBF0F8"
           },
           "yaxis": {
            "backgroundcolor": "white",
            "gridcolor": "#DFE8F3",
            "gridwidth": 2,
            "linecolor": "#EBF0F8",
            "showbackground": true,
            "ticks": "",
            "zerolinecolor": "#EBF0F8"
           },
           "zaxis": {
            "backgroundcolor": "white",
            "gridcolor": "#DFE8F3",
            "gridwidth": 2,
            "linecolor": "#EBF0F8",
            "showbackground": true,
            "ticks": "",
            "zerolinecolor": "#EBF0F8"
           }
          },
          "shapedefaults": {
           "line": {
            "color": "#2a3f5f"
           }
          },
          "ternary": {
           "aaxis": {
            "gridcolor": "#DFE8F3",
            "linecolor": "#A2B1C6",
            "ticks": ""
           },
           "baxis": {
            "gridcolor": "#DFE8F3",
            "linecolor": "#A2B1C6",
            "ticks": ""
           },
           "bgcolor": "white",
           "caxis": {
            "gridcolor": "#DFE8F3",
            "linecolor": "#A2B1C6",
            "ticks": ""
           }
          },
          "title": {
           "x": 0.05
          },
          "xaxis": {
           "automargin": true,
           "gridcolor": "#EBF0F8",
           "linecolor": "#EBF0F8",
           "ticks": "",
           "title": {
            "standoff": 15
           },
           "zerolinecolor": "#EBF0F8",
           "zerolinewidth": 2
          },
          "yaxis": {
           "automargin": true,
           "gridcolor": "#EBF0F8",
           "linecolor": "#EBF0F8",
           "ticks": "",
           "title": {
            "standoff": 15
           },
           "zerolinecolor": "#EBF0F8",
           "zerolinewidth": 2
          }
         }
        },
        "title": {
         "text": "Saldo Migratorio vs. PIB per Cápita"
        },
        "xaxis": {
         "anchor": "y",
         "domain": [
          0,
          1
         ],
         "title": {
          "text": "PIB per Cápita (USD)"
         },
         "type": "log"
        },
        "yaxis": {
         "anchor": "x",
         "domain": [
          0,
          1
         ],
         "title": {
          "text": "Saldo Migratorio Neto"
         }
        }
       }
      }
     },
     "metadata": {},
     "output_type": "display_data"
    },
    {
     "name": "stdout",
     "output_type": "stream",
     "text": [
      "\n",
      "📊 Correlación PIB per cápita vs. Saldo Migratorio Neto: nan\n"
     ]
    }
   ],
   "source": [
    "if migration_wdi is not None:\n",
    "    # Filtrar países con datos completos\n",
    "    viz_data = migration_wdi[\n",
    "        migration_wdi['gdp_per_capita'].notna() &\n",
    "        migration_wdi['net_balance'].notna() &\n",
    "        (migration_wdi['total_flow'] > 100)  # Solo países con flujo significativo\n",
    "    ].copy()\n",
    "    \n",
    "    # Scatter: Saldo Neto vs PIB per cápita\n",
    "    fig = px.scatter(\n",
    "        viz_data,\n",
    "        x='gdp_per_capita',\n",
    "        y='net_balance',\n",
    "        size='total_flow',\n",
    "        color='type',\n",
    "        hover_name='country_x',\n",
    "        hover_data=['immigration', 'emigration', 'population'],\n",
    "        title='Saldo Migratorio vs. PIB per Cápita',\n",
    "        labels={\n",
    "            'gdp_per_capita': 'PIB per Cápita (USD)',\n",
    "            'net_balance': 'Saldo Migratorio Neto',\n",
    "            'total_flow': 'Flujo Total',\n",
    "            'type': 'Tipo'\n",
    "        },\n",
    "        color_discrete_map={'Atractor': COLORS['success'], 'Exportador': COLORS['warning']},\n",
    "        log_x=True\n",
    "    )\n",
    "    fig.add_hline(y=0, line_dash=\"dash\", line_color=\"gray\")\n",
    "    fig.update_layout(height=600)\n",
    "    fig.show()\n",
    "    \n",
    "    # Calcular correlación\n",
    "    corr_gdp = viz_data[['gdp_per_capita', 'net_balance']].corr().iloc[0, 1]\n",
    "    print(f\"\\n📊 Correlación PIB per cápita vs. Saldo Migratorio Neto: {corr_gdp:.3f}\")"
   ]
  },
  {
   "cell_type": "code",
   "execution_count": 21,
   "id": "e03bb968",
   "metadata": {},
   "outputs": [
    {
     "data": {
      "application/vnd.plotly.v1+json": {
       "config": {
        "plotlyServerURL": "https://plot.ly"
       },
       "data": [
        {
         "customdata": {
          "bdata": "AAAAAIBpzEAAAAAAAOm9QAAAAAAAAPh/AAAAAADerUAAAAAAAHCRQAAAAAAAAPh/AAAAAAD7uUAAAAAAAAC1QAAAAAAAAPh/AAAAAAA8m0AAAAAAABCAQAAAAAAAAPh/AAAAAAAYkUAAAAAAAMBRQAAAAAAAAPh/AAAAAADkkUAAAAAAALBxQAAAAAAAAPh/AAAAAADIkEAAAAAAANBwQAAAAAAAAPh/AAAAAAAslUAAAAAAAPCBQAAAAAAAAPh/AAAAAABogkAAAAAAAAAmQAAAAAAAAPh/AAAAAAAwiEAAAAAAAIBuQAAAAAAAAPh/AAAAAABolUAAAAAAAFCLQAAAAAAAAPh/AAAAAADQkkAAAAAAAOiGQAAAAAAAAPh/AAAAAAAQeEAAAAAAAABEQAAAAAAAAPh/AAAAAABwfEAAAAAAAABfQAAAAAAAAPh/AAAAAADYhEAAAAAAAEB5QJMYBFYOrQZAAAAAAAAAe0AAAAAAAABmQAAAAAAAAPh/AAAAAABgeUAAAAAAAGBmQAAAAAAAAPh/AAAAAAAgbUAAAAAAAABDQAAAAAAAAPh/AAAAAADwhUAAAAAAAACBQAAAAAAAAPh/AAAAAADAfkAAAAAAAFB2QAAAAAAAAPh/AAAAAABAbkAAAAAAAABbQAAAAAAAAPh/AAAAAADAYUAAAAAAAAAqQAAAAAAAAPh/AAAAAABAWkAAAAAAAAAwQAAAAAAAAPh/AAAAAABgc0AAAAAAAABuQAAAAAAAAPh/AAAAAACogUAAAAAAABB/QAAAAAAAAPh/AAAAAABAZUAAAAAAAMBZQAAAAAAAAPh/AAAAAABAYUAAAAAAAABYQAAAAAAAAPh/AAAAAACAcUAAAAAAAOBvQAAAAAAAAPh/AAAAAACATkAAAAAAAABFQAAAAAAAAPh/AAAAAACogEAAAAAAABCAQAAAAAAAAPh/AAAAAAAATkAAAAAAAIBFQAAAAAAAAPh/AAAAAADgZUAAAAAAAOBjQAAAAAAAAPh/",
          "dtype": "f8",
          "shape": "32, 3"
         },
         "hovertemplate": "<b>%{hovertext}</b><br><br>Tipo=Atractor<br>Gasto I+D (% del PIB)=%{x}<br>Saldo Migratorio Neto=%{y}<br>Flujo Total=%{marker.size}<br>immigration=%{customdata[0]}<br>emigration=%{customdata[1]}<br>gdp_per_capita=%{customdata[2]}<extra></extra>",
         "hovertext": [
          "US",
          "AU",
          "GB",
          "SE",
          "SA",
          "DK",
          "MY",
          "CH",
          "QA",
          "SG",
          "KR",
          "PT",
          "AE",
          "NO",
          "AT",
          "HK",
          "FI",
          "CY",
          "MX",
          "ZA",
          "TH",
          "OM",
          "KW",
          "CL",
          "IE",
          "EC",
          "KE",
          "IL",
          "IS",
          "BE",
          "KZ",
          "CZ"
         ],
         "legendgroup": "Atractor",
         "marker": {
          "color": "#06A77D",
          "size": {
           "bdata": "vFZLE/su0QiNBJQFPwWJB1gC+gPECJEHqQFDAi8EYAJJAg8B3gRRA14BmwB5ACYCJgQRAeoAFwJnABcEZwBOAQ==",
           "dtype": "i2"
          },
          "sizemode": "area",
          "sizeref": 55.51,
          "symbol": "circle"
         },
         "mode": "markers",
         "name": "Atractor",
         "orientation": "v",
         "showlegend": true,
         "type": "scatter",
         "x": {
          "bdata": "V1Vq2K+s6kD9zb3frzzuQBwS8kZ/n+ZAqE9ZuljH7EAOx8tYPZjXQHsxzfpnpO1ABdBfUIgVxkDlXMI5peX0QHka03DGnfdAkehLgpJ760AEv3ywn1DbQJxyKiULndVAth+T1lZ35UBPi9e+tsH3QPIeK93Z/uhAmT18ZTGd40AOZpxx9lPoQEeF3ROZjtpAB2BJstIqxEBDDHpM0lK5QIg6KG5hWbdANBNhMmfb0kC/uO12NknlQNwAL7QpYMxAw/yKRcuM6kBl68E518m4QCpuBYMMOZVAn1fs0v8q4kDUD0CLj2TpQHYeSSweH+dAnsCRC9qcyEDRnPH8dRLTQA==",
          "dtype": "f8"
         },
         "xaxis": "x",
         "y": {
          "bdata": "6hqTCvsEzQT/A14DJQMNA0ICEgLwAdcBWQFLAQcBAAHjAMMAngCHAIYAgQBZAEYARABDACoAGQATABMAEQAQAA==",
          "dtype": "i2"
         },
         "yaxis": "y"
        },
        {
         "customdata": {
          "bdata": "AAAAAADMnUAAAAAAAASeQAAAAAAAAPh/AAAAAADAbEAAAAAAAKBuQAAAAAAAAPh/AAAAAAAATUAAAAAAAIBSQAAAAAAAAPh/AAAAAACAR0AAAAAAAABQQAAAAAAAAPh/AAAAAABQjkAAAAAAACCPQAAAAAAAAPh/AAAAAACSoUAAAAAAAMahQAAAAAAAAPh/AAAAAACAU0AAAAAAAEBdQAAAAAAAAPh/AAAAAAAASkAAAAAAAABYQAAAAAAAAPh/AAAAAAAAOEAAAAAAAMBUQAAAAAAAAPh/AAAAAACATkAAAAAAAOBgQAAAAAAAAPh/AAAAAAAAMUAAAAAAAEBXQAAAAAAAAPh/AAAAAAAAOEAAAAAAAMBZQAAAAAAAAPh/AAAAAAAAUUAAAAAAAIBiQAAAAAAAAPh/AAAAAAAAKEAAAAAAAMBXQAAAAAAAAPh/AAAAAACAU0AAAAAAAEBlQAAAAAAAAPh/AAAAAACAYEAAAAAAAKBsQAAAAAAAAPh/AAAAAABQjUAAAAAAAESQQAAAAAAAAPh/AAAAAAAANEAAAAAAAMBeQAAAAAAAAPh/AAAAAAAAPEAAAAAAAGBhQAAAAAAAAPh/AAAAAAAAUUAAAAAAAOBnQAAAAAAAAPh/AAAAAACATUAAAAAAAMBmQAAAAAAAAPh/AAAAAAAATUAAAAAAAMBnQAAAAAAAAPh/AAAAAACATUAAAAAAAKBoQAAAAAAAAPh/AAAAAAAAOUAAAAAAAKBkQAAAAAAAAPh/AAAAAABAeEAAAAAAANCAQAAAAAAAAPh/AAAAAABAVEAAAAAAAGBtQAAAAAAAAPh/AAAAAAAAV0AAAAAAAEBxQAAAAAAAAPh/AAAAAAAAY0AAAAAAAIB4QAAAAAAAAPh/AAAAAAAYh0AAAAAAAPiOQAAAAAAAAPh/AAAAAADgZUAAAAAAAMB7QAAAAAAAAPh/AAAAAAAQfUAAAAAAAKiHQAAAAAAAAPh/AAAAAADAVEAAAAAAAGB4QAAAAAAAAPh/AAAAAABgaUAAAAAAALiAQAAAAAAAAPh/AAAAAAAAV0AAAAAAAAB8QAAAAAAAAPh/AAAAAABAWkAAAAAAABB+QAAAAAAAAPh/AAAAAABga0AAAAAAACCFQAAAAAAAAPh/AAAAAACooUAAAAAAACymQAAAAAAAAPh/AAAAAADgZUAAAAAAAIiLQAAAAAAAAPh/AAAAAAC0lkAAAAAAANChQAAAAAAAAPh/AAAAAAAAc0AAAAAAAPSSQAAAAAAAAPh/AAAAAACgdEAAAAAAACSWQAAAAAAAAPh/AAAAAADgjUAAAAAAAF6iQAAAAAAAAPh/AAAAAABQd0AAAAAAAM+xQAAAAAAAAPh/AAAAAADkkkAAAAAAACu4QAAAAAAAAPh/",
          "dtype": "f8",
          "shape": "44, 3"
         },
         "hovertemplate": "<b>%{hovertext}</b><br><br>Tipo=Exportador<br>Gasto I+D (% del PIB)=%{x}<br>Saldo Migratorio Neto=%{y}<br>Flujo Total=%{marker.size}<br>immigration=%{customdata[0]}<br>emigration=%{customdata[1]}<br>gdp_per_capita=%{customdata[2]}<extra></extra>",
         "hovertext": [
          "ES",
          "JO",
          "DZ",
          "UG",
          "BR",
          "CA",
          "ET",
          "TN",
          "SK",
          "GH",
          "HR",
          "ZW",
          "NP",
          "BY",
          "LB",
          "ID",
          "NL",
          "SD",
          "BG",
          "PE",
          "LK",
          "IQ",
          "PH",
          "RS",
          "TR",
          "VN",
          "HU",
          "AR",
          "JP",
          "UA",
          "CO",
          "NG",
          "EG",
          "PL",
          "BD",
          "PK",
          "DE",
          "GR",
          "FR",
          "IR",
          "RU",
          "IT",
          "IN",
          "CN"
         ],
         "legendgroup": "Exportador",
         "marker": {
          "color": "#D00000",
          "size": {
           "bdata": "9A7bAYQAbwCuB6wRwwCUAGsAxABuAH8A2ABrAPgAaQG7B48ApwADAfEA+AAAAb4AngM8AXABIALCBmsCxgTZAeICHAJKAn8D6hMgBJUO7QXTBusMRBPkHA==",
           "dtype": "i2"
          },
          "sizemode": "area",
          "sizeref": 55.51,
          "symbol": "circle"
         },
         "mode": "markers",
         "name": "Exportador",
         "orientation": "v",
         "showlegend": true,
         "type": "scatter",
         "x": {
          "bdata": "B3/1f9YR3UA6IeYkki61QME6LBoRbLVAk8Ji7IlUhkDTDggfNTzGQOEhFlZsh+hA3sk3FofsgUAcjaXMskSxQBxjechJEdJAElBduouGlkDsMqwloVHKQHJNC+OVGY1AVmAUxXDthUCOlLEsDGi/QIRTqbXxpMNAdVHqA9xHq0BO58B6hXnpQE6LvIZfT51AS5kX80OrvkCGOwTTB425QInQyBhR1q1AJ+MvUV8UuUCqJ3Q6BnGmQLjL9PvdCLhAY7dBAIGJxEA9r5uhlgigQA8noW1cZstAOzit+8NuyEAGkLRMTazhQJpWykLsFKhAwYp3/+zfvkCDT2H5lwapQCw+s95j/ahAu56X03QDzEBLqMtyOvuQQJ4pLNl0kpRAfrjdW71Z50BVzrnAmv7UQOF/yiCS3eRAX//58N9CtUBbfzaO9d/IQOLd+weQC+FAPg/A9Qq2mEAijXI1BKa9QA==",
          "dtype": "f8"
         },
         "xaxis": "x",
         "y": {
          "bdata": "8v/x//D/7//m/+b/2f/U/8X/tv+0/7H/sP+t/6T/n/+Z/5n/kf+F/4X/fP92/3T/av9m/0j/EP8E//P+3P7N/rT+nP6I/jf+vv0+/cX8c/zB+436pu+O7A==",
          "dtype": "i2"
         },
         "yaxis": "y"
        }
       ],
       "layout": {
        "height": 600,
        "legend": {
         "itemsizing": "constant",
         "title": {
          "text": "Tipo"
         },
         "tracegroupgap": 0
        },
        "shapes": [
         {
          "line": {
           "color": "gray",
           "dash": "dash"
          },
          "type": "line",
          "x0": 0,
          "x1": 1,
          "xref": "x domain",
          "y0": 0,
          "y1": 0,
          "yref": "y"
         }
        ],
        "template": {
         "data": {
          "bar": [
           {
            "error_x": {
             "color": "#2a3f5f"
            },
            "error_y": {
             "color": "#2a3f5f"
            },
            "marker": {
             "line": {
              "color": "white",
              "width": 0.5
             },
             "pattern": {
              "fillmode": "overlay",
              "size": 10,
              "solidity": 0.2
             }
            },
            "type": "bar"
           }
          ],
          "barpolar": [
           {
            "marker": {
             "line": {
              "color": "white",
              "width": 0.5
             },
             "pattern": {
              "fillmode": "overlay",
              "size": 10,
              "solidity": 0.2
             }
            },
            "type": "barpolar"
           }
          ],
          "carpet": [
           {
            "aaxis": {
             "endlinecolor": "#2a3f5f",
             "gridcolor": "#C8D4E3",
             "linecolor": "#C8D4E3",
             "minorgridcolor": "#C8D4E3",
             "startlinecolor": "#2a3f5f"
            },
            "baxis": {
             "endlinecolor": "#2a3f5f",
             "gridcolor": "#C8D4E3",
             "linecolor": "#C8D4E3",
             "minorgridcolor": "#C8D4E3",
             "startlinecolor": "#2a3f5f"
            },
            "type": "carpet"
           }
          ],
          "choropleth": [
           {
            "colorbar": {
             "outlinewidth": 0,
             "ticks": ""
            },
            "type": "choropleth"
           }
          ],
          "contour": [
           {
            "colorbar": {
             "outlinewidth": 0,
             "ticks": ""
            },
            "colorscale": [
             [
              0,
              "#0d0887"
             ],
             [
              0.1111111111111111,
              "#46039f"
             ],
             [
              0.2222222222222222,
              "#7201a8"
             ],
             [
              0.3333333333333333,
              "#9c179e"
             ],
             [
              0.4444444444444444,
              "#bd3786"
             ],
             [
              0.5555555555555556,
              "#d8576b"
             ],
             [
              0.6666666666666666,
              "#ed7953"
             ],
             [
              0.7777777777777778,
              "#fb9f3a"
             ],
             [
              0.8888888888888888,
              "#fdca26"
             ],
             [
              1,
              "#f0f921"
             ]
            ],
            "type": "contour"
           }
          ],
          "contourcarpet": [
           {
            "colorbar": {
             "outlinewidth": 0,
             "ticks": ""
            },
            "type": "contourcarpet"
           }
          ],
          "heatmap": [
           {
            "colorbar": {
             "outlinewidth": 0,
             "ticks": ""
            },
            "colorscale": [
             [
              0,
              "#0d0887"
             ],
             [
              0.1111111111111111,
              "#46039f"
             ],
             [
              0.2222222222222222,
              "#7201a8"
             ],
             [
              0.3333333333333333,
              "#9c179e"
             ],
             [
              0.4444444444444444,
              "#bd3786"
             ],
             [
              0.5555555555555556,
              "#d8576b"
             ],
             [
              0.6666666666666666,
              "#ed7953"
             ],
             [
              0.7777777777777778,
              "#fb9f3a"
             ],
             [
              0.8888888888888888,
              "#fdca26"
             ],
             [
              1,
              "#f0f921"
             ]
            ],
            "type": "heatmap"
           }
          ],
          "histogram": [
           {
            "marker": {
             "pattern": {
              "fillmode": "overlay",
              "size": 10,
              "solidity": 0.2
             }
            },
            "type": "histogram"
           }
          ],
          "histogram2d": [
           {
            "colorbar": {
             "outlinewidth": 0,
             "ticks": ""
            },
            "colorscale": [
             [
              0,
              "#0d0887"
             ],
             [
              0.1111111111111111,
              "#46039f"
             ],
             [
              0.2222222222222222,
              "#7201a8"
             ],
             [
              0.3333333333333333,
              "#9c179e"
             ],
             [
              0.4444444444444444,
              "#bd3786"
             ],
             [
              0.5555555555555556,
              "#d8576b"
             ],
             [
              0.6666666666666666,
              "#ed7953"
             ],
             [
              0.7777777777777778,
              "#fb9f3a"
             ],
             [
              0.8888888888888888,
              "#fdca26"
             ],
             [
              1,
              "#f0f921"
             ]
            ],
            "type": "histogram2d"
           }
          ],
          "histogram2dcontour": [
           {
            "colorbar": {
             "outlinewidth": 0,
             "ticks": ""
            },
            "colorscale": [
             [
              0,
              "#0d0887"
             ],
             [
              0.1111111111111111,
              "#46039f"
             ],
             [
              0.2222222222222222,
              "#7201a8"
             ],
             [
              0.3333333333333333,
              "#9c179e"
             ],
             [
              0.4444444444444444,
              "#bd3786"
             ],
             [
              0.5555555555555556,
              "#d8576b"
             ],
             [
              0.6666666666666666,
              "#ed7953"
             ],
             [
              0.7777777777777778,
              "#fb9f3a"
             ],
             [
              0.8888888888888888,
              "#fdca26"
             ],
             [
              1,
              "#f0f921"
             ]
            ],
            "type": "histogram2dcontour"
           }
          ],
          "mesh3d": [
           {
            "colorbar": {
             "outlinewidth": 0,
             "ticks": ""
            },
            "type": "mesh3d"
           }
          ],
          "parcoords": [
           {
            "line": {
             "colorbar": {
              "outlinewidth": 0,
              "ticks": ""
             }
            },
            "type": "parcoords"
           }
          ],
          "pie": [
           {
            "automargin": true,
            "type": "pie"
           }
          ],
          "scatter": [
           {
            "fillpattern": {
             "fillmode": "overlay",
             "size": 10,
             "solidity": 0.2
            },
            "type": "scatter"
           }
          ],
          "scatter3d": [
           {
            "line": {
             "colorbar": {
              "outlinewidth": 0,
              "ticks": ""
             }
            },
            "marker": {
             "colorbar": {
              "outlinewidth": 0,
              "ticks": ""
             }
            },
            "type": "scatter3d"
           }
          ],
          "scattercarpet": [
           {
            "marker": {
             "colorbar": {
              "outlinewidth": 0,
              "ticks": ""
             }
            },
            "type": "scattercarpet"
           }
          ],
          "scattergeo": [
           {
            "marker": {
             "colorbar": {
              "outlinewidth": 0,
              "ticks": ""
             }
            },
            "type": "scattergeo"
           }
          ],
          "scattergl": [
           {
            "marker": {
             "colorbar": {
              "outlinewidth": 0,
              "ticks": ""
             }
            },
            "type": "scattergl"
           }
          ],
          "scattermap": [
           {
            "marker": {
             "colorbar": {
              "outlinewidth": 0,
              "ticks": ""
             }
            },
            "type": "scattermap"
           }
          ],
          "scattermapbox": [
           {
            "marker": {
             "colorbar": {
              "outlinewidth": 0,
              "ticks": ""
             }
            },
            "type": "scattermapbox"
           }
          ],
          "scatterpolar": [
           {
            "marker": {
             "colorbar": {
              "outlinewidth": 0,
              "ticks": ""
             }
            },
            "type": "scatterpolar"
           }
          ],
          "scatterpolargl": [
           {
            "marker": {
             "colorbar": {
              "outlinewidth": 0,
              "ticks": ""
             }
            },
            "type": "scatterpolargl"
           }
          ],
          "scatterternary": [
           {
            "marker": {
             "colorbar": {
              "outlinewidth": 0,
              "ticks": ""
             }
            },
            "type": "scatterternary"
           }
          ],
          "surface": [
           {
            "colorbar": {
             "outlinewidth": 0,
             "ticks": ""
            },
            "colorscale": [
             [
              0,
              "#0d0887"
             ],
             [
              0.1111111111111111,
              "#46039f"
             ],
             [
              0.2222222222222222,
              "#7201a8"
             ],
             [
              0.3333333333333333,
              "#9c179e"
             ],
             [
              0.4444444444444444,
              "#bd3786"
             ],
             [
              0.5555555555555556,
              "#d8576b"
             ],
             [
              0.6666666666666666,
              "#ed7953"
             ],
             [
              0.7777777777777778,
              "#fb9f3a"
             ],
             [
              0.8888888888888888,
              "#fdca26"
             ],
             [
              1,
              "#f0f921"
             ]
            ],
            "type": "surface"
           }
          ],
          "table": [
           {
            "cells": {
             "fill": {
              "color": "#EBF0F8"
             },
             "line": {
              "color": "white"
             }
            },
            "header": {
             "fill": {
              "color": "#C8D4E3"
             },
             "line": {
              "color": "white"
             }
            },
            "type": "table"
           }
          ]
         },
         "layout": {
          "annotationdefaults": {
           "arrowcolor": "#2a3f5f",
           "arrowhead": 0,
           "arrowwidth": 1
          },
          "autotypenumbers": "strict",
          "coloraxis": {
           "colorbar": {
            "outlinewidth": 0,
            "ticks": ""
           }
          },
          "colorscale": {
           "diverging": [
            [
             0,
             "#8e0152"
            ],
            [
             0.1,
             "#c51b7d"
            ],
            [
             0.2,
             "#de77ae"
            ],
            [
             0.3,
             "#f1b6da"
            ],
            [
             0.4,
             "#fde0ef"
            ],
            [
             0.5,
             "#f7f7f7"
            ],
            [
             0.6,
             "#e6f5d0"
            ],
            [
             0.7,
             "#b8e186"
            ],
            [
             0.8,
             "#7fbc41"
            ],
            [
             0.9,
             "#4d9221"
            ],
            [
             1,
             "#276419"
            ]
           ],
           "sequential": [
            [
             0,
             "#0d0887"
            ],
            [
             0.1111111111111111,
             "#46039f"
            ],
            [
             0.2222222222222222,
             "#7201a8"
            ],
            [
             0.3333333333333333,
             "#9c179e"
            ],
            [
             0.4444444444444444,
             "#bd3786"
            ],
            [
             0.5555555555555556,
             "#d8576b"
            ],
            [
             0.6666666666666666,
             "#ed7953"
            ],
            [
             0.7777777777777778,
             "#fb9f3a"
            ],
            [
             0.8888888888888888,
             "#fdca26"
            ],
            [
             1,
             "#f0f921"
            ]
           ],
           "sequentialminus": [
            [
             0,
             "#0d0887"
            ],
            [
             0.1111111111111111,
             "#46039f"
            ],
            [
             0.2222222222222222,
             "#7201a8"
            ],
            [
             0.3333333333333333,
             "#9c179e"
            ],
            [
             0.4444444444444444,
             "#bd3786"
            ],
            [
             0.5555555555555556,
             "#d8576b"
            ],
            [
             0.6666666666666666,
             "#ed7953"
            ],
            [
             0.7777777777777778,
             "#fb9f3a"
            ],
            [
             0.8888888888888888,
             "#fdca26"
            ],
            [
             1,
             "#f0f921"
            ]
           ]
          },
          "colorway": [
           "#636efa",
           "#EF553B",
           "#00cc96",
           "#ab63fa",
           "#FFA15A",
           "#19d3f3",
           "#FF6692",
           "#B6E880",
           "#FF97FF",
           "#FECB52"
          ],
          "font": {
           "color": "#2a3f5f"
          },
          "geo": {
           "bgcolor": "white",
           "lakecolor": "white",
           "landcolor": "white",
           "showlakes": true,
           "showland": true,
           "subunitcolor": "#C8D4E3"
          },
          "hoverlabel": {
           "align": "left"
          },
          "hovermode": "closest",
          "mapbox": {
           "style": "light"
          },
          "paper_bgcolor": "white",
          "plot_bgcolor": "white",
          "polar": {
           "angularaxis": {
            "gridcolor": "#EBF0F8",
            "linecolor": "#EBF0F8",
            "ticks": ""
           },
           "bgcolor": "white",
           "radialaxis": {
            "gridcolor": "#EBF0F8",
            "linecolor": "#EBF0F8",
            "ticks": ""
           }
          },
          "scene": {
           "xaxis": {
            "backgroundcolor": "white",
            "gridcolor": "#DFE8F3",
            "gridwidth": 2,
            "linecolor": "#EBF0F8",
            "showbackground": true,
            "ticks": "",
            "zerolinecolor": "#EBF0F8"
           },
           "yaxis": {
            "backgroundcolor": "white",
            "gridcolor": "#DFE8F3",
            "gridwidth": 2,
            "linecolor": "#EBF0F8",
            "showbackground": true,
            "ticks": "",
            "zerolinecolor": "#EBF0F8"
           },
           "zaxis": {
            "backgroundcolor": "white",
            "gridcolor": "#DFE8F3",
            "gridwidth": 2,
            "linecolor": "#EBF0F8",
            "showbackground": true,
            "ticks": "",
            "zerolinecolor": "#EBF0F8"
           }
          },
          "shapedefaults": {
           "line": {
            "color": "#2a3f5f"
           }
          },
          "ternary": {
           "aaxis": {
            "gridcolor": "#DFE8F3",
            "linecolor": "#A2B1C6",
            "ticks": ""
           },
           "baxis": {
            "gridcolor": "#DFE8F3",
            "linecolor": "#A2B1C6",
            "ticks": ""
           },
           "bgcolor": "white",
           "caxis": {
            "gridcolor": "#DFE8F3",
            "linecolor": "#A2B1C6",
            "ticks": ""
           }
          },
          "title": {
           "x": 0.05
          },
          "xaxis": {
           "automargin": true,
           "gridcolor": "#EBF0F8",
           "linecolor": "#EBF0F8",
           "ticks": "",
           "title": {
            "standoff": 15
           },
           "zerolinecolor": "#EBF0F8",
           "zerolinewidth": 2
          },
          "yaxis": {
           "automargin": true,
           "gridcolor": "#EBF0F8",
           "linecolor": "#EBF0F8",
           "ticks": "",
           "title": {
            "standoff": 15
           },
           "zerolinecolor": "#EBF0F8",
           "zerolinewidth": 2
          }
         }
        },
        "title": {
         "text": "Saldo Migratorio vs. Gasto en I+D (% PIB)"
        },
        "xaxis": {
         "anchor": "y",
         "domain": [
          0,
          1
         ],
         "title": {
          "text": "Gasto I+D (% del PIB)"
         }
        },
        "yaxis": {
         "anchor": "x",
         "domain": [
          0,
          1
         ],
         "title": {
          "text": "Saldo Migratorio Neto"
         }
        }
       }
      }
     },
     "metadata": {},
     "output_type": "display_data"
    },
    {
     "name": "stdout",
     "output_type": "stream",
     "text": [
      "\n",
      "📊 Correlación Gasto I+D vs. Saldo Migratorio Neto: 0.366\n"
     ]
    }
   ],
   "source": [
    "if migration_wdi is not None:\n",
    "    # Scatter: Saldo Neto vs Gasto I+D\n",
    "    viz_data_rd = migration_wdi[\n",
    "        migration_wdi['rd_expenditure_pct'].notna() &\n",
    "        migration_wdi['net_balance'].notna() &\n",
    "        (migration_wdi['total_flow'] > 100)\n",
    "    ].copy()\n",
    "    \n",
    "    if len(viz_data_rd) > 10:\n",
    "        fig = px.scatter(\n",
    "            viz_data_rd,\n",
    "            x='rd_expenditure_pct',\n",
    "            y='net_balance',\n",
    "            size='total_flow',\n",
    "            color='type',\n",
    "            hover_name='country_x',\n",
    "            hover_data=['immigration', 'emigration', 'gdp_per_capita'],\n",
    "            title='Saldo Migratorio vs. Gasto en I+D (% PIB)',\n",
    "            labels={\n",
    "                'rd_expenditure_pct': 'Gasto I+D (% del PIB)',\n",
    "                'net_balance': 'Saldo Migratorio Neto',\n",
    "                'total_flow': 'Flujo Total',\n",
    "                'type': 'Tipo'\n",
    "            },\n",
    "            color_discrete_map={'Atractor': COLORS['success'], 'Exportador': COLORS['warning']}\n",
    "        )\n",
    "        fig.add_hline(y=0, line_dash=\"dash\", line_color=\"gray\")\n",
    "        fig.update_layout(height=600)\n",
    "        fig.show()\n",
    "        \n",
    "        # Correlación\n",
    "        corr_rd = viz_data_rd[['rd_expenditure_pct', 'net_balance']].corr().iloc[0, 1]\n",
    "        print(f\"\\n📊 Correlación Gasto I+D vs. Saldo Migratorio Neto: {corr_rd:.3f}\")\n",
    "    else:\n",
    "        print(\"⚠️  Datos insuficientes para análisis de gasto I+D\")"
   ]
  },
  {
   "cell_type": "markdown",
   "id": "3bfda289",
   "metadata": {},
   "source": [
    "## 9. Análisis Temporal de Migraciones"
   ]
  },
  {
   "cell_type": "code",
   "execution_count": 22,
   "id": "2153b971",
   "metadata": {},
   "outputs": [
    {
     "data": {
      "application/vnd.plotly.v1+json": {
       "config": {
        "plotlyServerURL": "https://plot.ly"
       },
       "data": [
        {
         "hovertemplate": "Año de Primera Afiliación=%{x}<br>Número de Investigadores=%{y}<extra></extra>",
         "legendgroup": "",
         "line": {
          "color": "#2E86AB",
          "dash": "solid"
         },
         "marker": {
          "size": 6,
          "symbol": "circle"
         },
         "mode": "lines+markers",
         "name": "",
         "orientation": "v",
         "showlegend": false,
         "type": "scatter",
         "x": {
          "bdata": "eQd7B4wHjgeUB5UHlgeYB5kHmgebB5wHnQeeB58HoAehB6IHowekB6UHpgenB6gHqQeqB6sHrAetB64HrwewB7EHsgezB7QHtQe2B7cHuAe5B7oHuwe8B70Hvge/B8AHwQfCB8MHxAfFB8YHxwfIB8kHygfLB8wHzQfOB88H0AfRB9IH0wfUB9UH1gfXB9gH2QfaB9sH3AfdB94H3wfgBw==",
          "dtype": "i2"
         },
         "xaxis": "x",
         "y": {
          "bdata": "AQACAAEAAQABAAEAAgACAAEAAgALAAQAEAAKAAoAGAAfACMAIwA1AEcARwBZAGwAdQB9AKsA0wDuAAABPgFJAZoBoQHLATACIgKnAugCQgN0A9AElgT8BOUEGAWCBfgF/wWoBrsGawcQCAYJ6Qg5CnIKTwvmC6MM0w09EFURfxKwEkkT/xO/E8oSaBKKEJwO4grSB6oEtAPvAoQCnQBTAA==",
          "dtype": "i2"
         },
         "yaxis": "y"
        }
       ],
       "layout": {
        "height": 500,
        "legend": {
         "tracegroupgap": 0
        },
        "template": {
         "data": {
          "bar": [
           {
            "error_x": {
             "color": "#2a3f5f"
            },
            "error_y": {
             "color": "#2a3f5f"
            },
            "marker": {
             "line": {
              "color": "white",
              "width": 0.5
             },
             "pattern": {
              "fillmode": "overlay",
              "size": 10,
              "solidity": 0.2
             }
            },
            "type": "bar"
           }
          ],
          "barpolar": [
           {
            "marker": {
             "line": {
              "color": "white",
              "width": 0.5
             },
             "pattern": {
              "fillmode": "overlay",
              "size": 10,
              "solidity": 0.2
             }
            },
            "type": "barpolar"
           }
          ],
          "carpet": [
           {
            "aaxis": {
             "endlinecolor": "#2a3f5f",
             "gridcolor": "#C8D4E3",
             "linecolor": "#C8D4E3",
             "minorgridcolor": "#C8D4E3",
             "startlinecolor": "#2a3f5f"
            },
            "baxis": {
             "endlinecolor": "#2a3f5f",
             "gridcolor": "#C8D4E3",
             "linecolor": "#C8D4E3",
             "minorgridcolor": "#C8D4E3",
             "startlinecolor": "#2a3f5f"
            },
            "type": "carpet"
           }
          ],
          "choropleth": [
           {
            "colorbar": {
             "outlinewidth": 0,
             "ticks": ""
            },
            "type": "choropleth"
           }
          ],
          "contour": [
           {
            "colorbar": {
             "outlinewidth": 0,
             "ticks": ""
            },
            "colorscale": [
             [
              0,
              "#0d0887"
             ],
             [
              0.1111111111111111,
              "#46039f"
             ],
             [
              0.2222222222222222,
              "#7201a8"
             ],
             [
              0.3333333333333333,
              "#9c179e"
             ],
             [
              0.4444444444444444,
              "#bd3786"
             ],
             [
              0.5555555555555556,
              "#d8576b"
             ],
             [
              0.6666666666666666,
              "#ed7953"
             ],
             [
              0.7777777777777778,
              "#fb9f3a"
             ],
             [
              0.8888888888888888,
              "#fdca26"
             ],
             [
              1,
              "#f0f921"
             ]
            ],
            "type": "contour"
           }
          ],
          "contourcarpet": [
           {
            "colorbar": {
             "outlinewidth": 0,
             "ticks": ""
            },
            "type": "contourcarpet"
           }
          ],
          "heatmap": [
           {
            "colorbar": {
             "outlinewidth": 0,
             "ticks": ""
            },
            "colorscale": [
             [
              0,
              "#0d0887"
             ],
             [
              0.1111111111111111,
              "#46039f"
             ],
             [
              0.2222222222222222,
              "#7201a8"
             ],
             [
              0.3333333333333333,
              "#9c179e"
             ],
             [
              0.4444444444444444,
              "#bd3786"
             ],
             [
              0.5555555555555556,
              "#d8576b"
             ],
             [
              0.6666666666666666,
              "#ed7953"
             ],
             [
              0.7777777777777778,
              "#fb9f3a"
             ],
             [
              0.8888888888888888,
              "#fdca26"
             ],
             [
              1,
              "#f0f921"
             ]
            ],
            "type": "heatmap"
           }
          ],
          "histogram": [
           {
            "marker": {
             "pattern": {
              "fillmode": "overlay",
              "size": 10,
              "solidity": 0.2
             }
            },
            "type": "histogram"
           }
          ],
          "histogram2d": [
           {
            "colorbar": {
             "outlinewidth": 0,
             "ticks": ""
            },
            "colorscale": [
             [
              0,
              "#0d0887"
             ],
             [
              0.1111111111111111,
              "#46039f"
             ],
             [
              0.2222222222222222,
              "#7201a8"
             ],
             [
              0.3333333333333333,
              "#9c179e"
             ],
             [
              0.4444444444444444,
              "#bd3786"
             ],
             [
              0.5555555555555556,
              "#d8576b"
             ],
             [
              0.6666666666666666,
              "#ed7953"
             ],
             [
              0.7777777777777778,
              "#fb9f3a"
             ],
             [
              0.8888888888888888,
              "#fdca26"
             ],
             [
              1,
              "#f0f921"
             ]
            ],
            "type": "histogram2d"
           }
          ],
          "histogram2dcontour": [
           {
            "colorbar": {
             "outlinewidth": 0,
             "ticks": ""
            },
            "colorscale": [
             [
              0,
              "#0d0887"
             ],
             [
              0.1111111111111111,
              "#46039f"
             ],
             [
              0.2222222222222222,
              "#7201a8"
             ],
             [
              0.3333333333333333,
              "#9c179e"
             ],
             [
              0.4444444444444444,
              "#bd3786"
             ],
             [
              0.5555555555555556,
              "#d8576b"
             ],
             [
              0.6666666666666666,
              "#ed7953"
             ],
             [
              0.7777777777777778,
              "#fb9f3a"
             ],
             [
              0.8888888888888888,
              "#fdca26"
             ],
             [
              1,
              "#f0f921"
             ]
            ],
            "type": "histogram2dcontour"
           }
          ],
          "mesh3d": [
           {
            "colorbar": {
             "outlinewidth": 0,
             "ticks": ""
            },
            "type": "mesh3d"
           }
          ],
          "parcoords": [
           {
            "line": {
             "colorbar": {
              "outlinewidth": 0,
              "ticks": ""
             }
            },
            "type": "parcoords"
           }
          ],
          "pie": [
           {
            "automargin": true,
            "type": "pie"
           }
          ],
          "scatter": [
           {
            "fillpattern": {
             "fillmode": "overlay",
             "size": 10,
             "solidity": 0.2
            },
            "type": "scatter"
           }
          ],
          "scatter3d": [
           {
            "line": {
             "colorbar": {
              "outlinewidth": 0,
              "ticks": ""
             }
            },
            "marker": {
             "colorbar": {
              "outlinewidth": 0,
              "ticks": ""
             }
            },
            "type": "scatter3d"
           }
          ],
          "scattercarpet": [
           {
            "marker": {
             "colorbar": {
              "outlinewidth": 0,
              "ticks": ""
             }
            },
            "type": "scattercarpet"
           }
          ],
          "scattergeo": [
           {
            "marker": {
             "colorbar": {
              "outlinewidth": 0,
              "ticks": ""
             }
            },
            "type": "scattergeo"
           }
          ],
          "scattergl": [
           {
            "marker": {
             "colorbar": {
              "outlinewidth": 0,
              "ticks": ""
             }
            },
            "type": "scattergl"
           }
          ],
          "scattermap": [
           {
            "marker": {
             "colorbar": {
              "outlinewidth": 0,
              "ticks": ""
             }
            },
            "type": "scattermap"
           }
          ],
          "scattermapbox": [
           {
            "marker": {
             "colorbar": {
              "outlinewidth": 0,
              "ticks": ""
             }
            },
            "type": "scattermapbox"
           }
          ],
          "scatterpolar": [
           {
            "marker": {
             "colorbar": {
              "outlinewidth": 0,
              "ticks": ""
             }
            },
            "type": "scatterpolar"
           }
          ],
          "scatterpolargl": [
           {
            "marker": {
             "colorbar": {
              "outlinewidth": 0,
              "ticks": ""
             }
            },
            "type": "scatterpolargl"
           }
          ],
          "scatterternary": [
           {
            "marker": {
             "colorbar": {
              "outlinewidth": 0,
              "ticks": ""
             }
            },
            "type": "scatterternary"
           }
          ],
          "surface": [
           {
            "colorbar": {
             "outlinewidth": 0,
             "ticks": ""
            },
            "colorscale": [
             [
              0,
              "#0d0887"
             ],
             [
              0.1111111111111111,
              "#46039f"
             ],
             [
              0.2222222222222222,
              "#7201a8"
             ],
             [
              0.3333333333333333,
              "#9c179e"
             ],
             [
              0.4444444444444444,
              "#bd3786"
             ],
             [
              0.5555555555555556,
              "#d8576b"
             ],
             [
              0.6666666666666666,
              "#ed7953"
             ],
             [
              0.7777777777777778,
              "#fb9f3a"
             ],
             [
              0.8888888888888888,
              "#fdca26"
             ],
             [
              1,
              "#f0f921"
             ]
            ],
            "type": "surface"
           }
          ],
          "table": [
           {
            "cells": {
             "fill": {
              "color": "#EBF0F8"
             },
             "line": {
              "color": "white"
             }
            },
            "header": {
             "fill": {
              "color": "#C8D4E3"
             },
             "line": {
              "color": "white"
             }
            },
            "type": "table"
           }
          ]
         },
         "layout": {
          "annotationdefaults": {
           "arrowcolor": "#2a3f5f",
           "arrowhead": 0,
           "arrowwidth": 1
          },
          "autotypenumbers": "strict",
          "coloraxis": {
           "colorbar": {
            "outlinewidth": 0,
            "ticks": ""
           }
          },
          "colorscale": {
           "diverging": [
            [
             0,
             "#8e0152"
            ],
            [
             0.1,
             "#c51b7d"
            ],
            [
             0.2,
             "#de77ae"
            ],
            [
             0.3,
             "#f1b6da"
            ],
            [
             0.4,
             "#fde0ef"
            ],
            [
             0.5,
             "#f7f7f7"
            ],
            [
             0.6,
             "#e6f5d0"
            ],
            [
             0.7,
             "#b8e186"
            ],
            [
             0.8,
             "#7fbc41"
            ],
            [
             0.9,
             "#4d9221"
            ],
            [
             1,
             "#276419"
            ]
           ],
           "sequential": [
            [
             0,
             "#0d0887"
            ],
            [
             0.1111111111111111,
             "#46039f"
            ],
            [
             0.2222222222222222,
             "#7201a8"
            ],
            [
             0.3333333333333333,
             "#9c179e"
            ],
            [
             0.4444444444444444,
             "#bd3786"
            ],
            [
             0.5555555555555556,
             "#d8576b"
            ],
            [
             0.6666666666666666,
             "#ed7953"
            ],
            [
             0.7777777777777778,
             "#fb9f3a"
            ],
            [
             0.8888888888888888,
             "#fdca26"
            ],
            [
             1,
             "#f0f921"
            ]
           ],
           "sequentialminus": [
            [
             0,
             "#0d0887"
            ],
            [
             0.1111111111111111,
             "#46039f"
            ],
            [
             0.2222222222222222,
             "#7201a8"
            ],
            [
             0.3333333333333333,
             "#9c179e"
            ],
            [
             0.4444444444444444,
             "#bd3786"
            ],
            [
             0.5555555555555556,
             "#d8576b"
            ],
            [
             0.6666666666666666,
             "#ed7953"
            ],
            [
             0.7777777777777778,
             "#fb9f3a"
            ],
            [
             0.8888888888888888,
             "#fdca26"
            ],
            [
             1,
             "#f0f921"
            ]
           ]
          },
          "colorway": [
           "#636efa",
           "#EF553B",
           "#00cc96",
           "#ab63fa",
           "#FFA15A",
           "#19d3f3",
           "#FF6692",
           "#B6E880",
           "#FF97FF",
           "#FECB52"
          ],
          "font": {
           "color": "#2a3f5f"
          },
          "geo": {
           "bgcolor": "white",
           "lakecolor": "white",
           "landcolor": "white",
           "showlakes": true,
           "showland": true,
           "subunitcolor": "#C8D4E3"
          },
          "hoverlabel": {
           "align": "left"
          },
          "hovermode": "closest",
          "mapbox": {
           "style": "light"
          },
          "paper_bgcolor": "white",
          "plot_bgcolor": "white",
          "polar": {
           "angularaxis": {
            "gridcolor": "#EBF0F8",
            "linecolor": "#EBF0F8",
            "ticks": ""
           },
           "bgcolor": "white",
           "radialaxis": {
            "gridcolor": "#EBF0F8",
            "linecolor": "#EBF0F8",
            "ticks": ""
           }
          },
          "scene": {
           "xaxis": {
            "backgroundcolor": "white",
            "gridcolor": "#DFE8F3",
            "gridwidth": 2,
            "linecolor": "#EBF0F8",
            "showbackground": true,
            "ticks": "",
            "zerolinecolor": "#EBF0F8"
           },
           "yaxis": {
            "backgroundcolor": "white",
            "gridcolor": "#DFE8F3",
            "gridwidth": 2,
            "linecolor": "#EBF0F8",
            "showbackground": true,
            "ticks": "",
            "zerolinecolor": "#EBF0F8"
           },
           "zaxis": {
            "backgroundcolor": "white",
            "gridcolor": "#DFE8F3",
            "gridwidth": 2,
            "linecolor": "#EBF0F8",
            "showbackground": true,
            "ticks": "",
            "zerolinecolor": "#EBF0F8"
           }
          },
          "shapedefaults": {
           "line": {
            "color": "#2a3f5f"
           }
          },
          "ternary": {
           "aaxis": {
            "gridcolor": "#DFE8F3",
            "linecolor": "#A2B1C6",
            "ticks": ""
           },
           "baxis": {
            "gridcolor": "#DFE8F3",
            "linecolor": "#A2B1C6",
            "ticks": ""
           },
           "bgcolor": "white",
           "caxis": {
            "gridcolor": "#DFE8F3",
            "linecolor": "#A2B1C6",
            "ticks": ""
           }
          },
          "title": {
           "x": 0.05
          },
          "xaxis": {
           "automargin": true,
           "gridcolor": "#EBF0F8",
           "linecolor": "#EBF0F8",
           "ticks": "",
           "title": {
            "standoff": 15
           },
           "zerolinecolor": "#EBF0F8",
           "zerolinewidth": 2
          },
          "yaxis": {
           "automargin": true,
           "gridcolor": "#EBF0F8",
           "linecolor": "#EBF0F8",
           "ticks": "",
           "title": {
            "standoff": 15
           },
           "zerolinecolor": "#EBF0F8",
           "zerolinewidth": 2
          }
         }
        },
        "title": {
         "text": "Evolución Temporal de Migraciones Científicas"
        },
        "xaxis": {
         "anchor": "y",
         "domain": [
          0,
          1
         ],
         "title": {
          "text": "Año de Primera Afiliación"
         }
        },
        "yaxis": {
         "anchor": "x",
         "domain": [
          0,
          1
         ],
         "title": {
          "text": "Número de Investigadores"
         }
        }
       }
      }
     },
     "metadata": {},
     "output_type": "display_data"
    },
    {
     "name": "stdout",
     "output_type": "stream",
     "text": [
      "\n",
      "📊 Pico de migraciones: 2003 (5,119 investigadores)\n"
     ]
    }
   ],
   "source": [
    "# Distribución de año de migración (origin_year)\n",
    "if df_migrations is not None and 'origin_year' in df_migrations.columns:\n",
    "    migration_year_dist = df_migrations[\n",
    "        df_migrations['origin_year'].notna() &\n",
    "        df_migrations['has_migrated']\n",
    "    ]['origin_year'].value_counts().sort_index().reset_index()\n",
    "    migration_year_dist.columns = ['year', 'count']\n",
    "    \n",
    "    fig = px.line(\n",
    "        migration_year_dist,\n",
    "        x='year',\n",
    "        y='count',\n",
    "        title='Evolución Temporal de Migraciones Científicas',\n",
    "        labels={'year': 'Año de Primera Afiliación', 'count': 'Número de Investigadores'},\n",
    "        markers=True\n",
    "    )\n",
    "    fig.update_traces(line_color=COLORS['primary'], marker=dict(size=6))\n",
    "    fig.update_layout(height=500)\n",
    "    fig.show()\n",
    "    \n",
    "    print(f\"\\n📊 Pico de migraciones: {migration_year_dist.nlargest(1, 'count')['year'].values[0]} \"\n",
    "          f\"({migration_year_dist.nlargest(1, 'count')['count'].values[0]:,} investigadores)\")"
   ]
  },
  {
   "cell_type": "markdown",
   "id": "12490a28",
   "metadata": {},
   "source": [
    "## 10. Mapa Mundial de Saldo Migratorio"
   ]
  },
  {
   "cell_type": "code",
   "execution_count": 23,
   "id": "a041f9ac",
   "metadata": {},
   "outputs": [
    {
     "data": {
      "application/vnd.plotly.v1+json": {
       "config": {
        "plotlyServerURL": "https://plot.ly"
       },
       "data": [
        {
         "coloraxis": "coloraxis",
         "customdata": {
          "bdata": "0zjpHeoa7w5cBJMK+xkAFfsEzwYCAs0ERgRHAP8DeQQbAV4DMgQNASUDSwU+Ag0DTQILAEICBgP0ABICWgVqA/ABtATdAtcBZQOjAcIBgQEoAFkBxwF8AEsBmwKUAQcBsAGwAAABlgGzAOMAtgLbAdsA6QAmAMMAvgIgAp4A7AFlAYcA8gBsAIYAjgANAIEAaQAQAFkAUwAIAEsANgHwAEYANQLxAUQAqgBnAEMAigBgACoAMQAJACgAIAADAB0AIgAHABsAGAH/ABkAPAAlABcAIwAOABUALQAYABUAPQAqABMAFQICAhMAPAArABEAKwAaABEArwCfABAAGAAJAA8ADAABAAsADgAFAAkACgABAAkADQAFAAgACQABAAgACAAAAAgACAABAAcACQADAAYABgAAAAYADwAKAAUACwAGAAUABgABAAUABQAAAAUAEwAOAAUACgAGAAQABAAAAAQACQAFAAQABAAAAAQABAAAAAQABAAAAAQAEgAPAAMABAABAAMABAABAAMAGQAWAAMAAwAAAAMAAwAAAAMACgAHAAMABQACAAMABgADAAMAAgAAAAIABQADAAIAAwABAAIAAgAAAAIABgAEAAIAAgAAAAIABAADAAEAAQAAAAEAAQAAAAEAAgABAAEAAgABAAEAAQAAAAEABgAFAAEABAADAAEAAQAAAAEAAgABAAEAAQAAAAEAAgABAAEAAgABAAEAAgABAAEAAQAAAAEAAgABAAEAAQAAAAEACwAKAAEAAgABAAEABAADAAEAAAAAAAAAAAAAAAAAAAAAAAAAAAAAAAAAAAAAAAAAAAAAAAAAAQABAAAADAAMAAAAAAAAAAAAAwADAAAACAAIAAAAAAAAAAAAAAAAAAAAAwADAAAAAAAAAAAAAQABAAAAAQABAAAAAAAAAAAAAQABAAAAAAAAAAAAAAAAAAAADgAOAAAAAAAAAAAACAAIAAAAAAAAAAAAAAAAAAAAAQACAP//AwAEAP//AAABAP//AAABAP//AAABAP//AAABAP//AgADAP//AwAEAP//AAABAP//AAABAP//AQACAP//AAABAP//AAACAP7/BAAGAP7/AAACAP7/AAACAP7/DAAOAP7/AwAFAP7/AQAEAP3/BgAJAP3/AwAGAP3/DgARAP3/IAAkAPz/CQANAPz/BgAKAPz/CQAOAPv/AAAFAPv/CQAOAPv/BAAJAPv/BwAMAPv/CQAOAPv/CwARAPr/BQAMAPn/CQAQAPn/LQA1APj/GAAgAPj/DQAWAPf/CgAVAPX/CwAWAPX/DAAXAPX/EgAeAPT/CwAXAPT/FwAkAPP/cweBB/L/HgAsAPL/5gD1APH/BQAVAPD/OgBKAPD/LwBAAO//CgAbAO//GQAqAO//CgAfAOv/CQAfAOr/CwAiAOn/AwAbAOj/ygPkA+b/yQjjCOb/DQAoAOX/BAAfAOX/MwBWAN3/CAAtANv/TgB1ANn/NABgANT/DwBAAM//AQA3AMr/GABTAMX/PQCHALb/EQBdALT/GABnALH/RACUALD/DABfAK3/TgCqAKT/hADlAJ//qgMRBJn/FAB7AJn/HACLAJH/RAC/AIX/OwC2AIX/EgCRAIH/OgC+AHz/OwDFAHb/GQClAHT/hAEaAmr/UQDrAGb/XAAUAUj/JAARARP/mACIARD/4wLfAwT/CwASAfn+rwC8AfP+0QH1Atz+UwCGAc3+GgBbAb/+ywAXArT+XADAAZz+aQDhAYj+2wCkAjf+1AgWC779rwBxAz79rQXoCMX8MAG9BHP8SgGJBcH7vAMvCY36dQHPEabvuQQrGI7s",
          "dtype": "i2",
          "shape": "229, 3"
         },
         "geo": "geo",
         "hovertemplate": "<b>%{hovertext}</b><br><br>iso3=%{location}<br>immigration=%{customdata[0]}<br>emigration=%{customdata[1]}<br>Saldo Neto=%{z}<extra></extra>",
         "hovertext": [
          "US",
          "AU",
          "GB",
          "SE",
          "SA",
          "DK",
          "MY",
          "CH",
          "QA",
          "SG",
          "KR",
          "PT",
          "TW",
          "AE",
          "NO",
          "AT",
          "HK",
          "FI",
          "NZ",
          "CY",
          "MX",
          "ZA",
          "TH",
          "OM",
          "KW",
          "LU",
          "CL",
          "IE",
          "EC",
          "KE",
          "BW",
          "BN",
          "MO",
          "IL",
          "PS",
          "BH",
          "TZ",
          "IS",
          "BE",
          "KZ",
          "EE",
          "CZ",
          "RW",
          "BT",
          "BF",
          "PF",
          "SO",
          "MC",
          "ME",
          "ML",
          "GM",
          "TD",
          "SN",
          "MU",
          "NC",
          "FO",
          "ZM",
          "AF",
          "GL",
          "PG",
          "CW",
          "SM",
          "SR",
          "MK",
          "LA",
          "GF",
          "PA",
          "BZ",
          "AW",
          "CI",
          "CV",
          "GD",
          "LC",
          "GY",
          "LI",
          "SJ",
          "NE",
          "AG",
          "CG",
          "GW",
          "FK",
          "IM",
          "GU",
          "MP",
          "MG",
          "SX",
          "VU",
          "VI",
          "TL",
          "VC",
          "BM",
          "GA",
          "AI",
          "KP",
          "KI",
          "MN",
          "KY",
          "BS",
          "AQ",
          "IO",
          "BV",
          "WS",
          "YT",
          "TO",
          "ST",
          "SV",
          "PW",
          "SS",
          "SZ",
          "MH",
          "NR",
          "MV",
          "WF",
          "VA",
          "UM",
          "KM",
          "AS",
          "CF",
          "CK",
          "FJ",
          "GI",
          "BB",
          "AX",
          "JE",
          "SC",
          "KN",
          "MR",
          "MF",
          "DJ",
          "CC",
          "GP",
          "HT",
          "TF",
          "AD",
          "BI",
          "BL",
          "MQ",
          "AO",
          "GN",
          "DM",
          "AL",
          "TJ",
          "LR",
          "TG",
          "ER",
          "TT",
          "MA",
          "KH",
          "KG",
          "NI",
          "TM",
          "BJ",
          "RE",
          "SL",
          "MZ",
          "CD",
          "LS",
          "PY",
          "CR",
          "YE",
          "MT",
          "JM",
          "MW",
          "DO",
          "BA",
          "BO",
          "UY",
          "ES",
          "SI",
          "JO",
          "HN",
          "DZ",
          "UG",
          "AZ",
          "CM",
          "GT",
          "GE",
          "LY",
          "MD",
          "BR",
          "CA",
          "LV",
          "MM",
          "PR",
          "UZ",
          "ET",
          "TN",
          "LT",
          "AM",
          "SK",
          "GH",
          "HR",
          "ZW",
          "NP",
          "BY",
          "LB",
          "ID",
          "NL",
          "SD",
          "BG",
          "PE",
          "LK",
          "SY",
          "IQ",
          "PH",
          "RS",
          "TR",
          "VN",
          "HU",
          "VE",
          "AR",
          "JP",
          "CU",
          "UA",
          "CO",
          "NG",
          "RO",
          "EG",
          "PL",
          "BD",
          "PK",
          "DE",
          "GR",
          "FR",
          "IR",
          "RU",
          "IT",
          "IN",
          "CN"
         ],
         "locations": [
          "USA",
          "AUS",
          "GBR",
          "SWE",
          "SAU",
          "DNK",
          "MYS",
          "CHE",
          "QAT",
          "SGP",
          "KOR",
          "PRT",
          "TWN",
          "ARE",
          "NOR",
          "AUT",
          "HKG",
          "FIN",
          "NZL",
          "CYP",
          "MEX",
          "ZAF",
          "THA",
          "OMN",
          "KWT",
          "LUX",
          "CHL",
          "IRL",
          "ECU",
          "KEN",
          "BWA",
          "BRN",
          "MAC",
          "ISR",
          "PSE",
          "BHR",
          "TZA",
          "ISL",
          "BEL",
          "KAZ",
          "EST",
          "CZE",
          "RWA",
          "BTN",
          "BFA",
          "PYF",
          "SOM",
          "MCO",
          "MNE",
          "MLI",
          "GMB",
          "TCD",
          "SEN",
          "MUS",
          "NCL",
          "FRO",
          "ZMB",
          "AFG",
          "GRL",
          "PNG",
          "CUW",
          "SMR",
          "SUR",
          "MKD",
          "LAO",
          "GUF",
          "PAN",
          "BLZ",
          "ABW",
          "CIV",
          "CPV",
          "GRD",
          "LCA",
          "GUY",
          "LIE",
          "SJM",
          "NER",
          "ATG",
          "COG",
          "GNB",
          "FLK",
          "IMN",
          "GUM",
          "MNP",
          "MDG",
          "SXM",
          "VUT",
          "VIR",
          "TLS",
          "VCT",
          "BMU",
          "GAB",
          "AIA",
          "PRK",
          "KIR",
          "MNG",
          "CYM",
          "BHS",
          "ATA",
          "IOT",
          "BVT",
          "WSM",
          "MYT",
          "TON",
          "STP",
          "SLV",
          "PLW",
          "SSD",
          "SWZ",
          "MHL",
          "NRU",
          "MDV",
          "WLF",
          "VAT",
          "UMI",
          "COM",
          "ASM",
          "CAF",
          "COK",
          "FJI",
          "GIB",
          "BRB",
          "ALA",
          "JEY",
          "SYC",
          "KNA",
          "MRT",
          "MAF",
          "DJI",
          "CCK",
          "GLP",
          "HTI",
          "ATF",
          "AND",
          "BDI",
          "BLM",
          "MTQ",
          "AGO",
          "GIN",
          "DMA",
          "ALB",
          "TJK",
          "LBR",
          "TGO",
          "ERI",
          "TTO",
          "MAR",
          "KHM",
          "KGZ",
          "NIC",
          "TKM",
          "BEN",
          "REU",
          "SLE",
          "MOZ",
          "COD",
          "LSO",
          "PRY",
          "CRI",
          "YEM",
          "MLT",
          "JAM",
          "MWI",
          "DOM",
          "BIH",
          "BOL",
          "URY",
          "ESP",
          "SVN",
          "JOR",
          "HND",
          "DZA",
          "UGA",
          "AZE",
          "CMR",
          "GTM",
          "GEO",
          "LBY",
          "MDA",
          "BRA",
          "CAN",
          "LVA",
          "MMR",
          "PRI",
          "UZB",
          "ETH",
          "TUN",
          "LTU",
          "ARM",
          "SVK",
          "GHA",
          "HRV",
          "ZWE",
          "NPL",
          "BLR",
          "LBN",
          "IDN",
          "NLD",
          "SDN",
          "BGR",
          "PER",
          "LKA",
          "SYR",
          "IRQ",
          "PHL",
          "SRB",
          "TUR",
          "VNM",
          "HUN",
          "VEN",
          "ARG",
          "JPN",
          "CUB",
          "UKR",
          "COL",
          "NGA",
          "ROU",
          "EGY",
          "POL",
          "BGD",
          "PAK",
          "DEU",
          "GRC",
          "FRA",
          "IRN",
          "RUS",
          "ITA",
          "IND",
          "CHN"
         ],
         "name": "",
         "type": "choropleth",
         "z": {
          "bdata": "6hqTCvsEzQT/A14DJQMNA0ICEgLwAdcBwgFZAUsBBwEAAeMA2wDDAJ4AhwCGAIEAWQBLAEYARABDACoAKAAdABsAGQAXABUAFQATABMAEQARABAADwALAAkACQAIAAgACAAHAAYABgAFAAUABQAFAAUABAAEAAQABAAEAAQAAwADAAMAAwADAAMAAwADAAMAAgACAAIAAgACAAIAAQABAAEAAQABAAEAAQABAAEAAQABAAEAAQABAAEAAQABAAEAAQABAAAAAAAAAAAAAAAAAAAAAAAAAAAAAAAAAAAAAAAAAAAAAAAAAAAAAAAAAAAAAAAAAAAAAAD////////////////////////////////+//7//v/+//7//v/9//3//f/9//z//P/8//v/+//7//v/+//7//r/+f/5//j/+P/3//X/9f/1//T/9P/z//L/8v/x//D/8P/v/+//7//r/+r/6f/o/+b/5v/l/+X/3f/b/9n/1P/P/8r/xf+2/7T/sf+w/63/pP+f/5n/mf+R/4X/hf+B/3z/dv90/2r/Zv9I/xP/EP8E//n+8/7c/s3+v/60/pz+iP43/r79Pv3F/HP8wfuN+qbvjuw=",
          "dtype": "i2"
         }
        }
       ],
       "layout": {
        "coloraxis": {
         "cmid": 0,
         "colorbar": {
          "title": {
           "text": "Saldo Neto"
          }
         },
         "colorscale": [
          [
           0,
           "rgb(165,0,38)"
          ],
          [
           0.1,
           "rgb(215,48,39)"
          ],
          [
           0.2,
           "rgb(244,109,67)"
          ],
          [
           0.3,
           "rgb(253,174,97)"
          ],
          [
           0.4,
           "rgb(254,224,139)"
          ],
          [
           0.5,
           "rgb(255,255,191)"
          ],
          [
           0.6,
           "rgb(217,239,139)"
          ],
          [
           0.7,
           "rgb(166,217,106)"
          ],
          [
           0.8,
           "rgb(102,189,99)"
          ],
          [
           0.9,
           "rgb(26,152,80)"
          ],
          [
           1,
           "rgb(0,104,55)"
          ]
         ]
        },
        "geo": {
         "center": {},
         "countrycolor": "lightgray",
         "domain": {
          "x": [
           0,
           1
          ],
          "y": [
           0,
           1
          ]
         },
         "showcountries": true
        },
        "height": 600,
        "legend": {
         "tracegroupgap": 0
        },
        "template": {
         "data": {
          "bar": [
           {
            "error_x": {
             "color": "#2a3f5f"
            },
            "error_y": {
             "color": "#2a3f5f"
            },
            "marker": {
             "line": {
              "color": "white",
              "width": 0.5
             },
             "pattern": {
              "fillmode": "overlay",
              "size": 10,
              "solidity": 0.2
             }
            },
            "type": "bar"
           }
          ],
          "barpolar": [
           {
            "marker": {
             "line": {
              "color": "white",
              "width": 0.5
             },
             "pattern": {
              "fillmode": "overlay",
              "size": 10,
              "solidity": 0.2
             }
            },
            "type": "barpolar"
           }
          ],
          "carpet": [
           {
            "aaxis": {
             "endlinecolor": "#2a3f5f",
             "gridcolor": "#C8D4E3",
             "linecolor": "#C8D4E3",
             "minorgridcolor": "#C8D4E3",
             "startlinecolor": "#2a3f5f"
            },
            "baxis": {
             "endlinecolor": "#2a3f5f",
             "gridcolor": "#C8D4E3",
             "linecolor": "#C8D4E3",
             "minorgridcolor": "#C8D4E3",
             "startlinecolor": "#2a3f5f"
            },
            "type": "carpet"
           }
          ],
          "choropleth": [
           {
            "colorbar": {
             "outlinewidth": 0,
             "ticks": ""
            },
            "type": "choropleth"
           }
          ],
          "contour": [
           {
            "colorbar": {
             "outlinewidth": 0,
             "ticks": ""
            },
            "colorscale": [
             [
              0,
              "#0d0887"
             ],
             [
              0.1111111111111111,
              "#46039f"
             ],
             [
              0.2222222222222222,
              "#7201a8"
             ],
             [
              0.3333333333333333,
              "#9c179e"
             ],
             [
              0.4444444444444444,
              "#bd3786"
             ],
             [
              0.5555555555555556,
              "#d8576b"
             ],
             [
              0.6666666666666666,
              "#ed7953"
             ],
             [
              0.7777777777777778,
              "#fb9f3a"
             ],
             [
              0.8888888888888888,
              "#fdca26"
             ],
             [
              1,
              "#f0f921"
             ]
            ],
            "type": "contour"
           }
          ],
          "contourcarpet": [
           {
            "colorbar": {
             "outlinewidth": 0,
             "ticks": ""
            },
            "type": "contourcarpet"
           }
          ],
          "heatmap": [
           {
            "colorbar": {
             "outlinewidth": 0,
             "ticks": ""
            },
            "colorscale": [
             [
              0,
              "#0d0887"
             ],
             [
              0.1111111111111111,
              "#46039f"
             ],
             [
              0.2222222222222222,
              "#7201a8"
             ],
             [
              0.3333333333333333,
              "#9c179e"
             ],
             [
              0.4444444444444444,
              "#bd3786"
             ],
             [
              0.5555555555555556,
              "#d8576b"
             ],
             [
              0.6666666666666666,
              "#ed7953"
             ],
             [
              0.7777777777777778,
              "#fb9f3a"
             ],
             [
              0.8888888888888888,
              "#fdca26"
             ],
             [
              1,
              "#f0f921"
             ]
            ],
            "type": "heatmap"
           }
          ],
          "histogram": [
           {
            "marker": {
             "pattern": {
              "fillmode": "overlay",
              "size": 10,
              "solidity": 0.2
             }
            },
            "type": "histogram"
           }
          ],
          "histogram2d": [
           {
            "colorbar": {
             "outlinewidth": 0,
             "ticks": ""
            },
            "colorscale": [
             [
              0,
              "#0d0887"
             ],
             [
              0.1111111111111111,
              "#46039f"
             ],
             [
              0.2222222222222222,
              "#7201a8"
             ],
             [
              0.3333333333333333,
              "#9c179e"
             ],
             [
              0.4444444444444444,
              "#bd3786"
             ],
             [
              0.5555555555555556,
              "#d8576b"
             ],
             [
              0.6666666666666666,
              "#ed7953"
             ],
             [
              0.7777777777777778,
              "#fb9f3a"
             ],
             [
              0.8888888888888888,
              "#fdca26"
             ],
             [
              1,
              "#f0f921"
             ]
            ],
            "type": "histogram2d"
           }
          ],
          "histogram2dcontour": [
           {
            "colorbar": {
             "outlinewidth": 0,
             "ticks": ""
            },
            "colorscale": [
             [
              0,
              "#0d0887"
             ],
             [
              0.1111111111111111,
              "#46039f"
             ],
             [
              0.2222222222222222,
              "#7201a8"
             ],
             [
              0.3333333333333333,
              "#9c179e"
             ],
             [
              0.4444444444444444,
              "#bd3786"
             ],
             [
              0.5555555555555556,
              "#d8576b"
             ],
             [
              0.6666666666666666,
              "#ed7953"
             ],
             [
              0.7777777777777778,
              "#fb9f3a"
             ],
             [
              0.8888888888888888,
              "#fdca26"
             ],
             [
              1,
              "#f0f921"
             ]
            ],
            "type": "histogram2dcontour"
           }
          ],
          "mesh3d": [
           {
            "colorbar": {
             "outlinewidth": 0,
             "ticks": ""
            },
            "type": "mesh3d"
           }
          ],
          "parcoords": [
           {
            "line": {
             "colorbar": {
              "outlinewidth": 0,
              "ticks": ""
             }
            },
            "type": "parcoords"
           }
          ],
          "pie": [
           {
            "automargin": true,
            "type": "pie"
           }
          ],
          "scatter": [
           {
            "fillpattern": {
             "fillmode": "overlay",
             "size": 10,
             "solidity": 0.2
            },
            "type": "scatter"
           }
          ],
          "scatter3d": [
           {
            "line": {
             "colorbar": {
              "outlinewidth": 0,
              "ticks": ""
             }
            },
            "marker": {
             "colorbar": {
              "outlinewidth": 0,
              "ticks": ""
             }
            },
            "type": "scatter3d"
           }
          ],
          "scattercarpet": [
           {
            "marker": {
             "colorbar": {
              "outlinewidth": 0,
              "ticks": ""
             }
            },
            "type": "scattercarpet"
           }
          ],
          "scattergeo": [
           {
            "marker": {
             "colorbar": {
              "outlinewidth": 0,
              "ticks": ""
             }
            },
            "type": "scattergeo"
           }
          ],
          "scattergl": [
           {
            "marker": {
             "colorbar": {
              "outlinewidth": 0,
              "ticks": ""
             }
            },
            "type": "scattergl"
           }
          ],
          "scattermap": [
           {
            "marker": {
             "colorbar": {
              "outlinewidth": 0,
              "ticks": ""
             }
            },
            "type": "scattermap"
           }
          ],
          "scattermapbox": [
           {
            "marker": {
             "colorbar": {
              "outlinewidth": 0,
              "ticks": ""
             }
            },
            "type": "scattermapbox"
           }
          ],
          "scatterpolar": [
           {
            "marker": {
             "colorbar": {
              "outlinewidth": 0,
              "ticks": ""
             }
            },
            "type": "scatterpolar"
           }
          ],
          "scatterpolargl": [
           {
            "marker": {
             "colorbar": {
              "outlinewidth": 0,
              "ticks": ""
             }
            },
            "type": "scatterpolargl"
           }
          ],
          "scatterternary": [
           {
            "marker": {
             "colorbar": {
              "outlinewidth": 0,
              "ticks": ""
             }
            },
            "type": "scatterternary"
           }
          ],
          "surface": [
           {
            "colorbar": {
             "outlinewidth": 0,
             "ticks": ""
            },
            "colorscale": [
             [
              0,
              "#0d0887"
             ],
             [
              0.1111111111111111,
              "#46039f"
             ],
             [
              0.2222222222222222,
              "#7201a8"
             ],
             [
              0.3333333333333333,
              "#9c179e"
             ],
             [
              0.4444444444444444,
              "#bd3786"
             ],
             [
              0.5555555555555556,
              "#d8576b"
             ],
             [
              0.6666666666666666,
              "#ed7953"
             ],
             [
              0.7777777777777778,
              "#fb9f3a"
             ],
             [
              0.8888888888888888,
              "#fdca26"
             ],
             [
              1,
              "#f0f921"
             ]
            ],
            "type": "surface"
           }
          ],
          "table": [
           {
            "cells": {
             "fill": {
              "color": "#EBF0F8"
             },
             "line": {
              "color": "white"
             }
            },
            "header": {
             "fill": {
              "color": "#C8D4E3"
             },
             "line": {
              "color": "white"
             }
            },
            "type": "table"
           }
          ]
         },
         "layout": {
          "annotationdefaults": {
           "arrowcolor": "#2a3f5f",
           "arrowhead": 0,
           "arrowwidth": 1
          },
          "autotypenumbers": "strict",
          "coloraxis": {
           "colorbar": {
            "outlinewidth": 0,
            "ticks": ""
           }
          },
          "colorscale": {
           "diverging": [
            [
             0,
             "#8e0152"
            ],
            [
             0.1,
             "#c51b7d"
            ],
            [
             0.2,
             "#de77ae"
            ],
            [
             0.3,
             "#f1b6da"
            ],
            [
             0.4,
             "#fde0ef"
            ],
            [
             0.5,
             "#f7f7f7"
            ],
            [
             0.6,
             "#e6f5d0"
            ],
            [
             0.7,
             "#b8e186"
            ],
            [
             0.8,
             "#7fbc41"
            ],
            [
             0.9,
             "#4d9221"
            ],
            [
             1,
             "#276419"
            ]
           ],
           "sequential": [
            [
             0,
             "#0d0887"
            ],
            [
             0.1111111111111111,
             "#46039f"
            ],
            [
             0.2222222222222222,
             "#7201a8"
            ],
            [
             0.3333333333333333,
             "#9c179e"
            ],
            [
             0.4444444444444444,
             "#bd3786"
            ],
            [
             0.5555555555555556,
             "#d8576b"
            ],
            [
             0.6666666666666666,
             "#ed7953"
            ],
            [
             0.7777777777777778,
             "#fb9f3a"
            ],
            [
             0.8888888888888888,
             "#fdca26"
            ],
            [
             1,
             "#f0f921"
            ]
           ],
           "sequentialminus": [
            [
             0,
             "#0d0887"
            ],
            [
             0.1111111111111111,
             "#46039f"
            ],
            [
             0.2222222222222222,
             "#7201a8"
            ],
            [
             0.3333333333333333,
             "#9c179e"
            ],
            [
             0.4444444444444444,
             "#bd3786"
            ],
            [
             0.5555555555555556,
             "#d8576b"
            ],
            [
             0.6666666666666666,
             "#ed7953"
            ],
            [
             0.7777777777777778,
             "#fb9f3a"
            ],
            [
             0.8888888888888888,
             "#fdca26"
            ],
            [
             1,
             "#f0f921"
            ]
           ]
          },
          "colorway": [
           "#636efa",
           "#EF553B",
           "#00cc96",
           "#ab63fa",
           "#FFA15A",
           "#19d3f3",
           "#FF6692",
           "#B6E880",
           "#FF97FF",
           "#FECB52"
          ],
          "font": {
           "color": "#2a3f5f"
          },
          "geo": {
           "bgcolor": "white",
           "lakecolor": "white",
           "landcolor": "white",
           "showlakes": true,
           "showland": true,
           "subunitcolor": "#C8D4E3"
          },
          "hoverlabel": {
           "align": "left"
          },
          "hovermode": "closest",
          "mapbox": {
           "style": "light"
          },
          "paper_bgcolor": "white",
          "plot_bgcolor": "white",
          "polar": {
           "angularaxis": {
            "gridcolor": "#EBF0F8",
            "linecolor": "#EBF0F8",
            "ticks": ""
           },
           "bgcolor": "white",
           "radialaxis": {
            "gridcolor": "#EBF0F8",
            "linecolor": "#EBF0F8",
            "ticks": ""
           }
          },
          "scene": {
           "xaxis": {
            "backgroundcolor": "white",
            "gridcolor": "#DFE8F3",
            "gridwidth": 2,
            "linecolor": "#EBF0F8",
            "showbackground": true,
            "ticks": "",
            "zerolinecolor": "#EBF0F8"
           },
           "yaxis": {
            "backgroundcolor": "white",
            "gridcolor": "#DFE8F3",
            "gridwidth": 2,
            "linecolor": "#EBF0F8",
            "showbackground": true,
            "ticks": "",
            "zerolinecolor": "#EBF0F8"
           },
           "zaxis": {
            "backgroundcolor": "white",
            "gridcolor": "#DFE8F3",
            "gridwidth": 2,
            "linecolor": "#EBF0F8",
            "showbackground": true,
            "ticks": "",
            "zerolinecolor": "#EBF0F8"
           }
          },
          "shapedefaults": {
           "line": {
            "color": "#2a3f5f"
           }
          },
          "ternary": {
           "aaxis": {
            "gridcolor": "#DFE8F3",
            "linecolor": "#A2B1C6",
            "ticks": ""
           },
           "baxis": {
            "gridcolor": "#DFE8F3",
            "linecolor": "#A2B1C6",
            "ticks": ""
           },
           "bgcolor": "white",
           "caxis": {
            "gridcolor": "#DFE8F3",
            "linecolor": "#A2B1C6",
            "ticks": ""
           }
          },
          "title": {
           "x": 0.05
          },
          "xaxis": {
           "automargin": true,
           "gridcolor": "#EBF0F8",
           "linecolor": "#EBF0F8",
           "ticks": "",
           "title": {
            "standoff": 15
           },
           "zerolinecolor": "#EBF0F8",
           "zerolinewidth": 2
          },
          "yaxis": {
           "automargin": true,
           "gridcolor": "#EBF0F8",
           "linecolor": "#EBF0F8",
           "ticks": "",
           "title": {
            "standoff": 15
           },
           "zerolinecolor": "#EBF0F8",
           "zerolinewidth": 2
          }
         }
        },
        "title": {
         "text": "Mapa Mundial: Saldo Migratorio Neto de Investigadores Científicos"
        }
       }
      }
     },
     "metadata": {},
     "output_type": "display_data"
    }
   ],
   "source": [
    "# Preparar datos para mapa (necesitamos iso3)\n",
    "if df_mapping is not None:\n",
    "    map_data = net_migration.merge(\n",
    "        df_mapping[['iso2', 'iso3']],\n",
    "        left_on='country',\n",
    "        right_on='iso2',\n",
    "        how='left'\n",
    "    )\n",
    "else:\n",
    "    iso_map_origin = df_flows[['origin', 'origin_iso3']].drop_duplicates().rename(\n",
    "        columns={'origin': 'country', 'origin_iso3': 'iso3'}\n",
    "    )\n",
    "    iso_map_dest = df_flows[['destination', 'destination_iso3']].drop_duplicates().rename(\n",
    "        columns={'destination': 'country', 'destination_iso3': 'iso3'}\n",
    "    )\n",
    "    iso_map = pd.concat([iso_map_origin, iso_map_dest]).drop_duplicates(subset='country')\n",
    "    map_data = net_migration.merge(iso_map, on='country', how='left')\n",
    "\n",
    "# Crear mapa coroplético\n",
    "fig = px.choropleth(\n",
    "    map_data,\n",
    "    locations='iso3',\n",
    "    color='net_balance',\n",
    "    hover_name='country',\n",
    "    hover_data=['immigration', 'emigration', 'net_balance'],\n",
    "    title='Mapa Mundial: Saldo Migratorio Neto de Investigadores Científicos',\n",
    "    color_continuous_scale='RdYlGn',\n",
    "    color_continuous_midpoint=0,\n",
    "    labels={'net_balance': 'Saldo Neto'}\n",
    ")\n",
    "fig.update_geos(showcountries=True, countrycolor=\"lightgray\")\n",
    "fig.update_layout(height=600)\n",
    "fig.show()"
   ]
  },
  {
   "cell_type": "markdown",
   "id": "3ce2da0d",
   "metadata": {},
   "source": [
    "## 11. Análisis por Región Geográfica"
   ]
  },
  {
   "cell_type": "code",
   "execution_count": 24,
   "id": "76b94561",
   "metadata": {},
   "outputs": [
    {
     "name": "stdout",
     "output_type": "stream",
     "text": [
      "🌍 FLUJOS POR REGIÓN GEOGRÁFICA\n",
      "======================================================================\n",
      "\n"
     ]
    },
    {
     "data": {
      "text/html": [
       "<div>\n",
       "<style scoped>\n",
       "    .dataframe tbody tr th:only-of-type {\n",
       "        vertical-align: middle;\n",
       "    }\n",
       "\n",
       "    .dataframe tbody tr th {\n",
       "        vertical-align: top;\n",
       "    }\n",
       "\n",
       "    .dataframe thead th {\n",
       "        text-align: right;\n",
       "    }\n",
       "</style>\n",
       "<table border=\"1\" class=\"dataframe\">\n",
       "  <thead>\n",
       "    <tr style=\"text-align: right;\">\n",
       "      <th></th>\n",
       "      <th>origin_region</th>\n",
       "      <th>destination_region</th>\n",
       "      <th>n_researchers</th>\n",
       "    </tr>\n",
       "  </thead>\n",
       "  <tbody>\n",
       "    <tr>\n",
       "      <th>2</th>\n",
       "      <td>Asia</td>\n",
       "      <td>Norteamérica</td>\n",
       "      <td>8018</td>\n",
       "    </tr>\n",
       "    <tr>\n",
       "      <th>9</th>\n",
       "      <td>Europa</td>\n",
       "      <td>Norteamérica</td>\n",
       "      <td>4310</td>\n",
       "    </tr>\n",
       "    <tr>\n",
       "      <th>1</th>\n",
       "      <td>Asia</td>\n",
       "      <td>Europa</td>\n",
       "      <td>3813</td>\n",
       "    </tr>\n",
       "    <tr>\n",
       "      <th>15</th>\n",
       "      <td>Norteamérica</td>\n",
       "      <td>Europa</td>\n",
       "      <td>3110</td>\n",
       "    </tr>\n",
       "    <tr>\n",
       "      <th>14</th>\n",
       "      <td>Norteamérica</td>\n",
       "      <td>Asia</td>\n",
       "      <td>2482</td>\n",
       "    </tr>\n",
       "    <tr>\n",
       "      <th>7</th>\n",
       "      <td>Europa</td>\n",
       "      <td>Asia</td>\n",
       "      <td>1954</td>\n",
       "    </tr>\n",
       "    <tr>\n",
       "      <th>29</th>\n",
       "      <td>Otros</td>\n",
       "      <td>Europa</td>\n",
       "      <td>1910</td>\n",
       "    </tr>\n",
       "    <tr>\n",
       "      <th>10</th>\n",
       "      <td>Europa</td>\n",
       "      <td>Oceanía</td>\n",
       "      <td>1610</td>\n",
       "    </tr>\n",
       "    <tr>\n",
       "      <th>30</th>\n",
       "      <td>Otros</td>\n",
       "      <td>Norteamérica</td>\n",
       "      <td>1472</td>\n",
       "    </tr>\n",
       "    <tr>\n",
       "      <th>36</th>\n",
       "      <td>Sudamérica</td>\n",
       "      <td>Europa</td>\n",
       "      <td>1360</td>\n",
       "    </tr>\n",
       "    <tr>\n",
       "      <th>18</th>\n",
       "      <td>Norteamérica</td>\n",
       "      <td>Otros</td>\n",
       "      <td>1342</td>\n",
       "    </tr>\n",
       "    <tr>\n",
       "      <th>3</th>\n",
       "      <td>Asia</td>\n",
       "      <td>Oceanía</td>\n",
       "      <td>1323</td>\n",
       "    </tr>\n",
       "    <tr>\n",
       "      <th>11</th>\n",
       "      <td>Europa</td>\n",
       "      <td>Otros</td>\n",
       "      <td>1218</td>\n",
       "    </tr>\n",
       "    <tr>\n",
       "      <th>37</th>\n",
       "      <td>Sudamérica</td>\n",
       "      <td>Norteamérica</td>\n",
       "      <td>906</td>\n",
       "    </tr>\n",
       "    <tr>\n",
       "      <th>4</th>\n",
       "      <td>Asia</td>\n",
       "      <td>Otros</td>\n",
       "      <td>887</td>\n",
       "    </tr>\n",
       "  </tbody>\n",
       "</table>\n",
       "</div>"
      ],
      "text/plain": [
       "   origin_region destination_region  n_researchers\n",
       "2           Asia       Norteamérica           8018\n",
       "9         Europa       Norteamérica           4310\n",
       "1           Asia             Europa           3813\n",
       "15  Norteamérica             Europa           3110\n",
       "14  Norteamérica               Asia           2482\n",
       "7         Europa               Asia           1954\n",
       "29         Otros             Europa           1910\n",
       "10        Europa            Oceanía           1610\n",
       "30         Otros       Norteamérica           1472\n",
       "36    Sudamérica             Europa           1360\n",
       "18  Norteamérica              Otros           1342\n",
       "3           Asia            Oceanía           1323\n",
       "11        Europa              Otros           1218\n",
       "37    Sudamérica       Norteamérica            906\n",
       "4           Asia              Otros            887"
      ]
     },
     "metadata": {},
     "output_type": "display_data"
    }
   ],
   "source": [
    "# Definir regiones simplificadas (basado en códigos ISO)\n",
    "def assign_region(iso3):\n",
    "    \"\"\"Asigna región geográfica basada en código ISO3.\"\"\"\n",
    "    if pd.isna(iso3):\n",
    "        return 'Desconocido'\n",
    "    \n",
    "    # Regiones simplificadas (extender según necesidad)\n",
    "    europe = ['GBR', 'DEU', 'FRA', 'ITA', 'ESP', 'NLD', 'BEL', 'CHE', 'AUT', 'SWE', \n",
    "              'NOR', 'DNK', 'FIN', 'POL', 'CZE', 'HUN', 'ROU', 'BGR', 'GRC', 'PRT',\n",
    "              'IRL', 'HRV', 'SVK', 'SVN', 'LUX', 'EST', 'LVA', 'LTU']\n",
    "    north_america = ['USA', 'CAN', 'MEX']\n",
    "    asia = ['CHN', 'JPN', 'IND', 'KOR', 'IDN', 'THA', 'MYS', 'SGP', 'PHL', 'VNM',\n",
    "            'PAK', 'BGD', 'IRN', 'TUR', 'SAU', 'ARE', 'ISR']\n",
    "    south_america = ['BRA', 'ARG', 'CHL', 'COL', 'PER', 'VEN', 'ECU', 'BOL', 'PRY', 'URY']\n",
    "    oceania = ['AUS', 'NZL']\n",
    "    africa = ['ZAF', 'EGY', 'NGA', 'KEN', 'MAR', 'TUN', 'GHA', 'ETH', 'UGA']\n",
    "    \n",
    "    if iso3 in europe:\n",
    "        return 'Europa'\n",
    "    elif iso3 in north_america:\n",
    "        return 'Norteamérica'\n",
    "    elif iso3 in asia:\n",
    "        return 'Asia'\n",
    "    elif iso3 in south_america:\n",
    "        return 'Sudamérica'\n",
    "    elif iso3 in oceania:\n",
    "        return 'Oceanía'\n",
    "    elif iso3 in africa:\n",
    "        return 'África'\n",
    "    else:\n",
    "        return 'Otros'\n",
    "\n",
    "# Aplicar a flujos\n",
    "df_flows['origin_region'] = df_flows['origin_iso3'].apply(assign_region)\n",
    "df_flows['destination_region'] = df_flows['destination_iso3'].apply(assign_region)\n",
    "\n",
    "# Agregación por región\n",
    "region_flows = df_flows.groupby(['origin_region', 'destination_region'])['n_researchers'].sum().reset_index()\n",
    "region_flows = region_flows[region_flows['origin_region'] != region_flows['destination_region']]  # Excluir intra-región\n",
    "\n",
    "print(f\"🌍 FLUJOS POR REGIÓN GEOGRÁFICA\\n\" + \"=\"*70)\n",
    "display(region_flows.nlargest(15, 'n_researchers'))"
   ]
  },
  {
   "cell_type": "code",
   "execution_count": 25,
   "id": "33381e96",
   "metadata": {},
   "outputs": [
    {
     "data": {
      "application/vnd.plotly.v1+json": {
       "config": {
        "plotlyServerURL": "https://plot.ly"
       },
       "data": [
        {
         "link": {
          "color": [
           "rgba(31, 119, 180, 0.3)",
           "rgba(31, 119, 180, 0.3)",
           "rgba(31, 119, 180, 0.3)",
           "rgba(31, 119, 180, 0.3)",
           "rgba(31, 119, 180, 0.3)",
           "rgba(31, 119, 180, 0.3)",
           "rgba(31, 119, 180, 0.3)",
           "rgba(31, 119, 180, 0.3)",
           "rgba(31, 119, 180, 0.3)",
           "rgba(31, 119, 180, 0.3)",
           "rgba(31, 119, 180, 0.3)",
           "rgba(31, 119, 180, 0.3)",
           "rgba(31, 119, 180, 0.3)",
           "rgba(31, 119, 180, 0.3)",
           "rgba(31, 119, 180, 0.3)",
           "rgba(31, 119, 180, 0.3)",
           "rgba(31, 119, 180, 0.3)",
           "rgba(31, 119, 180, 0.3)",
           "rgba(31, 119, 180, 0.3)",
           "rgba(31, 119, 180, 0.3)"
          ],
          "source": [
           6,
           3,
           6,
           1,
           1,
           3,
           0,
           3,
           0,
           4,
           1,
           6,
           3,
           4,
           6,
           3,
           0,
           1,
           2,
           5
          ],
          "target": [
           1,
           1,
           3,
           3,
           6,
           6,
           3,
           5,
           1,
           3,
           0,
           5,
           0,
           1,
           0,
           4,
           6,
           5,
           3,
           3
          ],
          "value": [
           8018,
           4310,
           3813,
           3110,
           2482,
           1954,
           1910,
           1610,
           1472,
           1360,
           1342,
           1323,
           1218,
           906,
           887,
           885,
           804,
           799,
           543,
           527
          ]
         },
         "node": {
          "color": [
           "rgba(31, 119, 180, 0.8)",
           "rgba(31, 119, 180, 0.8)",
           "rgba(31, 119, 180, 0.8)",
           "rgba(31, 119, 180, 0.8)",
           "rgba(31, 119, 180, 0.8)",
           "rgba(31, 119, 180, 0.8)",
           "rgba(31, 119, 180, 0.8)"
          ],
          "label": [
           "Otros",
           "Norteamérica",
           "África",
           "Europa",
           "Sudamérica",
           "Oceanía",
           "Asia"
          ],
          "line": {
           "color": "white",
           "width": 0.5
          },
          "pad": 15,
          "thickness": 20
         },
         "type": "sankey"
        }
       ],
       "layout": {
        "font": {
         "size": 12
        },
        "height": 500,
        "template": {
         "data": {
          "bar": [
           {
            "error_x": {
             "color": "#2a3f5f"
            },
            "error_y": {
             "color": "#2a3f5f"
            },
            "marker": {
             "line": {
              "color": "white",
              "width": 0.5
             },
             "pattern": {
              "fillmode": "overlay",
              "size": 10,
              "solidity": 0.2
             }
            },
            "type": "bar"
           }
          ],
          "barpolar": [
           {
            "marker": {
             "line": {
              "color": "white",
              "width": 0.5
             },
             "pattern": {
              "fillmode": "overlay",
              "size": 10,
              "solidity": 0.2
             }
            },
            "type": "barpolar"
           }
          ],
          "carpet": [
           {
            "aaxis": {
             "endlinecolor": "#2a3f5f",
             "gridcolor": "#C8D4E3",
             "linecolor": "#C8D4E3",
             "minorgridcolor": "#C8D4E3",
             "startlinecolor": "#2a3f5f"
            },
            "baxis": {
             "endlinecolor": "#2a3f5f",
             "gridcolor": "#C8D4E3",
             "linecolor": "#C8D4E3",
             "minorgridcolor": "#C8D4E3",
             "startlinecolor": "#2a3f5f"
            },
            "type": "carpet"
           }
          ],
          "choropleth": [
           {
            "colorbar": {
             "outlinewidth": 0,
             "ticks": ""
            },
            "type": "choropleth"
           }
          ],
          "contour": [
           {
            "colorbar": {
             "outlinewidth": 0,
             "ticks": ""
            },
            "colorscale": [
             [
              0,
              "#0d0887"
             ],
             [
              0.1111111111111111,
              "#46039f"
             ],
             [
              0.2222222222222222,
              "#7201a8"
             ],
             [
              0.3333333333333333,
              "#9c179e"
             ],
             [
              0.4444444444444444,
              "#bd3786"
             ],
             [
              0.5555555555555556,
              "#d8576b"
             ],
             [
              0.6666666666666666,
              "#ed7953"
             ],
             [
              0.7777777777777778,
              "#fb9f3a"
             ],
             [
              0.8888888888888888,
              "#fdca26"
             ],
             [
              1,
              "#f0f921"
             ]
            ],
            "type": "contour"
           }
          ],
          "contourcarpet": [
           {
            "colorbar": {
             "outlinewidth": 0,
             "ticks": ""
            },
            "type": "contourcarpet"
           }
          ],
          "heatmap": [
           {
            "colorbar": {
             "outlinewidth": 0,
             "ticks": ""
            },
            "colorscale": [
             [
              0,
              "#0d0887"
             ],
             [
              0.1111111111111111,
              "#46039f"
             ],
             [
              0.2222222222222222,
              "#7201a8"
             ],
             [
              0.3333333333333333,
              "#9c179e"
             ],
             [
              0.4444444444444444,
              "#bd3786"
             ],
             [
              0.5555555555555556,
              "#d8576b"
             ],
             [
              0.6666666666666666,
              "#ed7953"
             ],
             [
              0.7777777777777778,
              "#fb9f3a"
             ],
             [
              0.8888888888888888,
              "#fdca26"
             ],
             [
              1,
              "#f0f921"
             ]
            ],
            "type": "heatmap"
           }
          ],
          "histogram": [
           {
            "marker": {
             "pattern": {
              "fillmode": "overlay",
              "size": 10,
              "solidity": 0.2
             }
            },
            "type": "histogram"
           }
          ],
          "histogram2d": [
           {
            "colorbar": {
             "outlinewidth": 0,
             "ticks": ""
            },
            "colorscale": [
             [
              0,
              "#0d0887"
             ],
             [
              0.1111111111111111,
              "#46039f"
             ],
             [
              0.2222222222222222,
              "#7201a8"
             ],
             [
              0.3333333333333333,
              "#9c179e"
             ],
             [
              0.4444444444444444,
              "#bd3786"
             ],
             [
              0.5555555555555556,
              "#d8576b"
             ],
             [
              0.6666666666666666,
              "#ed7953"
             ],
             [
              0.7777777777777778,
              "#fb9f3a"
             ],
             [
              0.8888888888888888,
              "#fdca26"
             ],
             [
              1,
              "#f0f921"
             ]
            ],
            "type": "histogram2d"
           }
          ],
          "histogram2dcontour": [
           {
            "colorbar": {
             "outlinewidth": 0,
             "ticks": ""
            },
            "colorscale": [
             [
              0,
              "#0d0887"
             ],
             [
              0.1111111111111111,
              "#46039f"
             ],
             [
              0.2222222222222222,
              "#7201a8"
             ],
             [
              0.3333333333333333,
              "#9c179e"
             ],
             [
              0.4444444444444444,
              "#bd3786"
             ],
             [
              0.5555555555555556,
              "#d8576b"
             ],
             [
              0.6666666666666666,
              "#ed7953"
             ],
             [
              0.7777777777777778,
              "#fb9f3a"
             ],
             [
              0.8888888888888888,
              "#fdca26"
             ],
             [
              1,
              "#f0f921"
             ]
            ],
            "type": "histogram2dcontour"
           }
          ],
          "mesh3d": [
           {
            "colorbar": {
             "outlinewidth": 0,
             "ticks": ""
            },
            "type": "mesh3d"
           }
          ],
          "parcoords": [
           {
            "line": {
             "colorbar": {
              "outlinewidth": 0,
              "ticks": ""
             }
            },
            "type": "parcoords"
           }
          ],
          "pie": [
           {
            "automargin": true,
            "type": "pie"
           }
          ],
          "scatter": [
           {
            "fillpattern": {
             "fillmode": "overlay",
             "size": 10,
             "solidity": 0.2
            },
            "type": "scatter"
           }
          ],
          "scatter3d": [
           {
            "line": {
             "colorbar": {
              "outlinewidth": 0,
              "ticks": ""
             }
            },
            "marker": {
             "colorbar": {
              "outlinewidth": 0,
              "ticks": ""
             }
            },
            "type": "scatter3d"
           }
          ],
          "scattercarpet": [
           {
            "marker": {
             "colorbar": {
              "outlinewidth": 0,
              "ticks": ""
             }
            },
            "type": "scattercarpet"
           }
          ],
          "scattergeo": [
           {
            "marker": {
             "colorbar": {
              "outlinewidth": 0,
              "ticks": ""
             }
            },
            "type": "scattergeo"
           }
          ],
          "scattergl": [
           {
            "marker": {
             "colorbar": {
              "outlinewidth": 0,
              "ticks": ""
             }
            },
            "type": "scattergl"
           }
          ],
          "scattermap": [
           {
            "marker": {
             "colorbar": {
              "outlinewidth": 0,
              "ticks": ""
             }
            },
            "type": "scattermap"
           }
          ],
          "scattermapbox": [
           {
            "marker": {
             "colorbar": {
              "outlinewidth": 0,
              "ticks": ""
             }
            },
            "type": "scattermapbox"
           }
          ],
          "scatterpolar": [
           {
            "marker": {
             "colorbar": {
              "outlinewidth": 0,
              "ticks": ""
             }
            },
            "type": "scatterpolar"
           }
          ],
          "scatterpolargl": [
           {
            "marker": {
             "colorbar": {
              "outlinewidth": 0,
              "ticks": ""
             }
            },
            "type": "scatterpolargl"
           }
          ],
          "scatterternary": [
           {
            "marker": {
             "colorbar": {
              "outlinewidth": 0,
              "ticks": ""
             }
            },
            "type": "scatterternary"
           }
          ],
          "surface": [
           {
            "colorbar": {
             "outlinewidth": 0,
             "ticks": ""
            },
            "colorscale": [
             [
              0,
              "#0d0887"
             ],
             [
              0.1111111111111111,
              "#46039f"
             ],
             [
              0.2222222222222222,
              "#7201a8"
             ],
             [
              0.3333333333333333,
              "#9c179e"
             ],
             [
              0.4444444444444444,
              "#bd3786"
             ],
             [
              0.5555555555555556,
              "#d8576b"
             ],
             [
              0.6666666666666666,
              "#ed7953"
             ],
             [
              0.7777777777777778,
              "#fb9f3a"
             ],
             [
              0.8888888888888888,
              "#fdca26"
             ],
             [
              1,
              "#f0f921"
             ]
            ],
            "type": "surface"
           }
          ],
          "table": [
           {
            "cells": {
             "fill": {
              "color": "#EBF0F8"
             },
             "line": {
              "color": "white"
             }
            },
            "header": {
             "fill": {
              "color": "#C8D4E3"
             },
             "line": {
              "color": "white"
             }
            },
            "type": "table"
           }
          ]
         },
         "layout": {
          "annotationdefaults": {
           "arrowcolor": "#2a3f5f",
           "arrowhead": 0,
           "arrowwidth": 1
          },
          "autotypenumbers": "strict",
          "coloraxis": {
           "colorbar": {
            "outlinewidth": 0,
            "ticks": ""
           }
          },
          "colorscale": {
           "diverging": [
            [
             0,
             "#8e0152"
            ],
            [
             0.1,
             "#c51b7d"
            ],
            [
             0.2,
             "#de77ae"
            ],
            [
             0.3,
             "#f1b6da"
            ],
            [
             0.4,
             "#fde0ef"
            ],
            [
             0.5,
             "#f7f7f7"
            ],
            [
             0.6,
             "#e6f5d0"
            ],
            [
             0.7,
             "#b8e186"
            ],
            [
             0.8,
             "#7fbc41"
            ],
            [
             0.9,
             "#4d9221"
            ],
            [
             1,
             "#276419"
            ]
           ],
           "sequential": [
            [
             0,
             "#0d0887"
            ],
            [
             0.1111111111111111,
             "#46039f"
            ],
            [
             0.2222222222222222,
             "#7201a8"
            ],
            [
             0.3333333333333333,
             "#9c179e"
            ],
            [
             0.4444444444444444,
             "#bd3786"
            ],
            [
             0.5555555555555556,
             "#d8576b"
            ],
            [
             0.6666666666666666,
             "#ed7953"
            ],
            [
             0.7777777777777778,
             "#fb9f3a"
            ],
            [
             0.8888888888888888,
             "#fdca26"
            ],
            [
             1,
             "#f0f921"
            ]
           ],
           "sequentialminus": [
            [
             0,
             "#0d0887"
            ],
            [
             0.1111111111111111,
             "#46039f"
            ],
            [
             0.2222222222222222,
             "#7201a8"
            ],
            [
             0.3333333333333333,
             "#9c179e"
            ],
            [
             0.4444444444444444,
             "#bd3786"
            ],
            [
             0.5555555555555556,
             "#d8576b"
            ],
            [
             0.6666666666666666,
             "#ed7953"
            ],
            [
             0.7777777777777778,
             "#fb9f3a"
            ],
            [
             0.8888888888888888,
             "#fdca26"
            ],
            [
             1,
             "#f0f921"
            ]
           ]
          },
          "colorway": [
           "#636efa",
           "#EF553B",
           "#00cc96",
           "#ab63fa",
           "#FFA15A",
           "#19d3f3",
           "#FF6692",
           "#B6E880",
           "#FF97FF",
           "#FECB52"
          ],
          "font": {
           "color": "#2a3f5f"
          },
          "geo": {
           "bgcolor": "white",
           "lakecolor": "white",
           "landcolor": "white",
           "showlakes": true,
           "showland": true,
           "subunitcolor": "#C8D4E3"
          },
          "hoverlabel": {
           "align": "left"
          },
          "hovermode": "closest",
          "mapbox": {
           "style": "light"
          },
          "paper_bgcolor": "white",
          "plot_bgcolor": "white",
          "polar": {
           "angularaxis": {
            "gridcolor": "#EBF0F8",
            "linecolor": "#EBF0F8",
            "ticks": ""
           },
           "bgcolor": "white",
           "radialaxis": {
            "gridcolor": "#EBF0F8",
            "linecolor": "#EBF0F8",
            "ticks": ""
           }
          },
          "scene": {
           "xaxis": {
            "backgroundcolor": "white",
            "gridcolor": "#DFE8F3",
            "gridwidth": 2,
            "linecolor": "#EBF0F8",
            "showbackground": true,
            "ticks": "",
            "zerolinecolor": "#EBF0F8"
           },
           "yaxis": {
            "backgroundcolor": "white",
            "gridcolor": "#DFE8F3",
            "gridwidth": 2,
            "linecolor": "#EBF0F8",
            "showbackground": true,
            "ticks": "",
            "zerolinecolor": "#EBF0F8"
           },
           "zaxis": {
            "backgroundcolor": "white",
            "gridcolor": "#DFE8F3",
            "gridwidth": 2,
            "linecolor": "#EBF0F8",
            "showbackground": true,
            "ticks": "",
            "zerolinecolor": "#EBF0F8"
           }
          },
          "shapedefaults": {
           "line": {
            "color": "#2a3f5f"
           }
          },
          "ternary": {
           "aaxis": {
            "gridcolor": "#DFE8F3",
            "linecolor": "#A2B1C6",
            "ticks": ""
           },
           "baxis": {
            "gridcolor": "#DFE8F3",
            "linecolor": "#A2B1C6",
            "ticks": ""
           },
           "bgcolor": "white",
           "caxis": {
            "gridcolor": "#DFE8F3",
            "linecolor": "#A2B1C6",
            "ticks": ""
           }
          },
          "title": {
           "x": 0.05
          },
          "xaxis": {
           "automargin": true,
           "gridcolor": "#EBF0F8",
           "linecolor": "#EBF0F8",
           "ticks": "",
           "title": {
            "standoff": 15
           },
           "zerolinecolor": "#EBF0F8",
           "zerolinewidth": 2
          },
          "yaxis": {
           "automargin": true,
           "gridcolor": "#EBF0F8",
           "linecolor": "#EBF0F8",
           "ticks": "",
           "title": {
            "standoff": 15
           },
           "zerolinecolor": "#EBF0F8",
           "zerolinewidth": 2
          }
         }
        },
        "title": {
         "text": "Flujos Migratorios por Región Geográfica (Top 20)"
        }
       }
      }
     },
     "metadata": {},
     "output_type": "display_data"
    }
   ],
   "source": [
    "# Sankey de flujos inter-regionales\n",
    "region_flows_top = region_flows.nlargest(20, 'n_researchers')\n",
    "\n",
    "all_regions = list(set(region_flows_top['origin_region'].tolist() + region_flows_top['destination_region'].tolist()))\n",
    "region_to_idx = {region: idx for idx, region in enumerate(all_regions)}\n",
    "\n",
    "fig = go.Figure(data=[go.Sankey(\n",
    "    node=dict(\n",
    "        pad=15,\n",
    "        thickness=20,\n",
    "        line=dict(color=\"white\", width=0.5),\n",
    "        label=all_regions,\n",
    "        color=['rgba(31, 119, 180, 0.8)'] * len(all_regions)\n",
    "    ),\n",
    "    link=dict(\n",
    "        source=[region_to_idx[r] for r in region_flows_top['origin_region']],\n",
    "        target=[region_to_idx[r] for r in region_flows_top['destination_region']],\n",
    "        value=region_flows_top['n_researchers'].tolist(),\n",
    "        color=['rgba(31, 119, 180, 0.3)'] * len(region_flows_top)\n",
    "    )\n",
    ")])\n",
    "\n",
    "fig.update_layout(\n",
    "    title=\"Flujos Migratorios por Región Geográfica (Top 20)\",\n",
    "    font=dict(size=12),\n",
    "    height=500\n",
    ")\n",
    "fig.show()"
   ]
  },
  {
   "cell_type": "markdown",
   "id": "61e290b7",
   "metadata": {},
   "source": [
    "---\n",
    "\n",
    "# 📊 CONCLUSIONES Y HALLAZGOS CLAVE\n",
    "\n",
    "## 🎯 Principales Hallazgos\n",
    "\n",
    "### 1. **Países Dominantes en Atracción de Talento**\n",
    "\n",
    "Los **Estados Unidos** se consolidan como el principal **receptor** de investigadores científicos a nivel mundial, seguido por países europeos desarrollados como **Reino Unido**, **Alemania** y **Australia**. Este fenómeno refleja:\n",
    "\n",
    "- 💰 **Inversión en I+D**: Correlación positiva entre gasto en investigación y capacidad de atracción\n",
    "- 🏛️ **Instituciones de prestigio**: Universidades y centros de investigación reconocidos mundialmente\n",
    "- 💵 **Salarios competitivos**: Remuneración superior para investigadores comparado con países de origen\n",
    "\n",
    "### 2. **Brain Drain: Países Más Afectados**\n",
    "\n",
    "Países como **China**, **India**, **Irán** y varias naciones de Europa del Este experimentan una **fuga significativa** de talento científico. Los factores incluyen:\n",
    "\n",
    "- 📉 **Limitaciones de financiación**: Menor presupuesto para investigación\n",
    "- 🚧 **Barreras institucionales**: Burocracia, falta de infraestructura científica\n",
    "- 🌐 **Oportunidades internacionales**: Programas de becas y movilidad académica que facilitan la emigración\n",
    "\n",
    "### 3. **Corredores Migratorios Estratégicos**\n",
    "\n",
    "Los principales **corredores bilaterales** identificados son:\n",
    "\n",
    "- 🇨🇳→🇺🇸 **China → Estados Unidos**: El flujo más significativo, impulsado por programas de posgrado\n",
    "- 🇮🇳→🇺🇸 **India → Estados Unidos**: Fuerte presencia en sectores tecnológicos y STEM\n",
    "- 🇮🇷→🇩🇪 **Irán → Alemania**: Migración académica y refugio político\n",
    "- 🇬🇧→🇺🇸 **Reino Unido → Estados Unidos**: Intercambio entre potencias científicas\n",
    "\n",
    "### 4. **Relación con Desarrollo Económico**\n",
    "\n",
    "El análisis con **World Development Indicators** revela:\n",
    "\n",
    "- 📈 **Correlación positiva** entre PIB per cápita y saldo migratorio neto\n",
    "- 🔬 Países con mayor **gasto en I+D (% del PIB)** tienden a ser atractores netos\n",
    "- 👨‍🔬 La **densidad de investigadores** (por millón de habitantes) es un predictor de atracción\n",
    "\n",
    "### 5. **Tendencias Temporales**\n",
    "\n",
    "- 📅 **Pico de migraciones** en la última década, coincidiendo con globalización académica\n",
    "- 🌐 **Internacionalización creciente** de la ciencia: mayor movilidad y colaboraciones transnacionales\n",
    "\n",
    "---\n",
    "\n",
    "## 🔮 Implicaciones y Recomendaciones\n",
    "\n",
    "### Para Países Emisores (Brain Drain):\n",
    "\n",
    "1. **Aumentar inversión en I+D**: Retener talento mediante financiación competitiva\n",
    "2. **Mejorar infraestructura científica**: Equipamiento, laboratorios, acceso a publicaciones\n",
    "3. **Programas de retorno**: Incentivos para que investigadores emigrados vuelvan\n",
    "4. **Redes de diáspora**: Aprovechar talento emigrado mediante colaboraciones internacionales\n",
    "\n",
    "### Para Países Receptores (Brain Gain):\n",
    "\n",
    "1. **Políticas de integración**: Facilitar visados y reconocimiento de credenciales\n",
    "2. **Diversidad científica**: Aprovechar perspectivas multiculturales en investigación\n",
    "3. **Responsabilidad ética**: Considerar impacto en países de origen\n",
    "\n",
    "### Para la Comunidad Científica Global:\n",
    "\n",
    "1. **Colaboración Sur-Sur y Sur-Norte**: Reducir asimetrías mediante partnerships equitativos\n",
    "2. **Circulación de conocimiento**: Movilidad no unidireccional sino intercambio bidireccional\n",
    "3. **Open Science**: Facilitar acceso a recursos científicos independientemente de ubicación\n",
    "\n",
    "---\n",
    "\n",
    "## 🛠️ Limitaciones del Análisis\n",
    "\n",
    "- **Datos estáticos**: Captura un momento temporal (2016), no tendencias longitudinales completas\n",
    "- **Definición de migración**: Basada en cambio de afiliación, puede no reflejar residencia permanente\n",
    "- **Sesgo de cobertura**: Mayor representación de investigadores con presencia digital (ORCID)\n",
    "- **Causalidad**: Correlaciones observadas no implican necesariamente relaciones causales\n",
    "\n",
    "---\n",
    "\n",
    "## 📚 Próximos Pasos\n",
    "\n",
    "1. **Análisis por disciplina científica**: ¿Difieren patrones entre STEM, humanidades, ciencias sociales?\n",
    "2. **Impacto de COVID-19**: ¿Cómo afectó la pandemia a la movilidad científica?\n",
    "3. **Género y migración**: Análisis de brechas de género en movilidad científica\n",
    "4. **Modelado predictivo**: Predecir flujos futuros basados en indicadores socioeconómicos\n",
    "5. **Dashboard interactivo**: Crear aplicación web con Streamlit/Dash para exploración dinámica\n",
    "\n",
    "---\n",
    "\n",
    "<div style=\"background-color: #e8f4f8; padding: 20px; border-radius: 10px; border-left: 5px solid #2E86AB;\">\n",
    "<h3>💡 Reflexión Final</h3>\n",
    "<p>\n",
    "La <strong>migración científica</strong> es un fenómeno complejo que refleja desigualdades globales en desarrollo, \n",
    "pero también oportunidades de colaboración internacional. El desafío está en transformar la \"fuga de cerebros\" \n",
    "en <strong>\"circulación de conocimiento\"</strong>, donde el talento beneficie tanto a países emisores como receptores \n",
    "mediante redes de colaboración, transferencia tecnológica y políticas científicas equitativas.\n",
    "</p>\n",
    "</div>\n",
    "\n",
    "---\n",
    "\n",
    "**Autor**: Análisis realizado en el contexto de migración científica global  \n",
    "**Fecha**: 2025  \n",
    "**Fuentes**: Dataset de migraciones científicas + World Development Indicators (Banco Mundial)"
   ]
  }
 ],
 "metadata": {
  "kernelspec": {
   "display_name": "Python 3",
   "language": "python",
   "name": "python3"
  },
  "language_info": {
   "codemirror_mode": {
    "name": "ipython",
    "version": 3
   },
   "file_extension": ".py",
   "mimetype": "text/x-python",
   "name": "python",
   "nbconvert_exporter": "python",
   "pygments_lexer": "ipython3",
   "version": "3.12.10"
  }
 },
 "nbformat": 4,
 "nbformat_minor": 5
}
